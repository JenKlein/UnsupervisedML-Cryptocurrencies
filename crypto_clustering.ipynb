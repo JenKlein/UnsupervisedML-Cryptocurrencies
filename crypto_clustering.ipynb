{
 "cells": [
  {
   "cell_type": "markdown",
   "metadata": {},
   "source": [
    "# Clustering Crypto"
   ]
  },
  {
   "cell_type": "code",
   "execution_count": 194,
   "metadata": {},
   "outputs": [],
   "source": [
    "# Initial imports\n",
    "import pandas as pd\n",
    "import hvplot.pandas\n",
    "from path import Path\n",
    "import plotly.express as px\n",
    "from sklearn.preprocessing import StandardScaler, MinMaxScaler\n",
    "from sklearn.decomposition import PCA\n",
    "from sklearn.cluster import KMeans\n",
    "import warnings \n",
    "warnings.filterwarnings('ignore')\n"
   ]
  },
  {
   "cell_type": "markdown",
   "metadata": {},
   "source": [
    "### Deliverable 1: Preprocessing the Data for PCA"
   ]
  },
  {
   "cell_type": "code",
   "execution_count": 195,
   "metadata": {},
   "outputs": [
    {
     "data": {
      "text/html": [
       "<div>\n",
       "<style scoped>\n",
       "    .dataframe tbody tr th:only-of-type {\n",
       "        vertical-align: middle;\n",
       "    }\n",
       "\n",
       "    .dataframe tbody tr th {\n",
       "        vertical-align: top;\n",
       "    }\n",
       "\n",
       "    .dataframe thead th {\n",
       "        text-align: right;\n",
       "    }\n",
       "</style>\n",
       "<table border=\"1\" class=\"dataframe\">\n",
       "  <thead>\n",
       "    <tr style=\"text-align: right;\">\n",
       "      <th></th>\n",
       "      <th>CoinName</th>\n",
       "      <th>Algorithm</th>\n",
       "      <th>IsTrading</th>\n",
       "      <th>ProofType</th>\n",
       "      <th>TotalCoinsMined</th>\n",
       "      <th>TotalCoinSupply</th>\n",
       "    </tr>\n",
       "  </thead>\n",
       "  <tbody>\n",
       "    <tr>\n",
       "      <th>42</th>\n",
       "      <td>42 Coin</td>\n",
       "      <td>Scrypt</td>\n",
       "      <td>True</td>\n",
       "      <td>PoW/PoS</td>\n",
       "      <td>4.199995e+01</td>\n",
       "      <td>42</td>\n",
       "    </tr>\n",
       "    <tr>\n",
       "      <th>365</th>\n",
       "      <td>365Coin</td>\n",
       "      <td>X11</td>\n",
       "      <td>True</td>\n",
       "      <td>PoW/PoS</td>\n",
       "      <td>NaN</td>\n",
       "      <td>2300000000</td>\n",
       "    </tr>\n",
       "    <tr>\n",
       "      <th>404</th>\n",
       "      <td>404Coin</td>\n",
       "      <td>Scrypt</td>\n",
       "      <td>True</td>\n",
       "      <td>PoW/PoS</td>\n",
       "      <td>1.055185e+09</td>\n",
       "      <td>532000000</td>\n",
       "    </tr>\n",
       "    <tr>\n",
       "      <th>611</th>\n",
       "      <td>SixEleven</td>\n",
       "      <td>SHA-256</td>\n",
       "      <td>True</td>\n",
       "      <td>PoW</td>\n",
       "      <td>NaN</td>\n",
       "      <td>611000</td>\n",
       "    </tr>\n",
       "    <tr>\n",
       "      <th>808</th>\n",
       "      <td>808</td>\n",
       "      <td>SHA-256</td>\n",
       "      <td>True</td>\n",
       "      <td>PoW/PoS</td>\n",
       "      <td>0.000000e+00</td>\n",
       "      <td>0</td>\n",
       "    </tr>\n",
       "  </tbody>\n",
       "</table>\n",
       "</div>"
      ],
      "text/plain": [
       "      CoinName Algorithm  IsTrading ProofType  TotalCoinsMined TotalCoinSupply\n",
       "42     42 Coin    Scrypt       True   PoW/PoS     4.199995e+01              42\n",
       "365    365Coin       X11       True   PoW/PoS              NaN      2300000000\n",
       "404    404Coin    Scrypt       True   PoW/PoS     1.055185e+09       532000000\n",
       "611  SixEleven   SHA-256       True       PoW              NaN          611000\n",
       "808        808   SHA-256       True   PoW/PoS     0.000000e+00               0"
      ]
     },
     "execution_count": 195,
     "metadata": {},
     "output_type": "execute_result"
    }
   ],
   "source": [
    "# Load the crypto_data.csv dataset\n",
    "file_path = \"/Users/jenniferklein/Documents/Bootcamp/Module18-UnsupervisedLearning/UnsupervisedML-Cryptocurrencies/crypto_data.csv\"\n",
    "crypto_df = pd.read_csv(file_path, index_col=0)\n",
    "crypto_df.head()"
   ]
  },
  {
   "cell_type": "code",
   "execution_count": 196,
   "metadata": {},
   "outputs": [
    {
     "data": {
      "text/plain": [
       "CoinName            object\n",
       "Algorithm           object\n",
       "IsTrading             bool\n",
       "ProofType           object\n",
       "TotalCoinsMined    float64\n",
       "TotalCoinSupply     object\n",
       "dtype: object"
      ]
     },
     "execution_count": 196,
     "metadata": {},
     "output_type": "execute_result"
    }
   ],
   "source": [
    "#check column data types to determine how to filter IsTrading column\n",
    "crypto_df.dtypes"
   ]
  },
  {
   "cell_type": "code",
   "execution_count": 197,
   "metadata": {},
   "outputs": [
    {
     "data": {
      "text/plain": [
       "(1252, 6)"
      ]
     },
     "execution_count": 197,
     "metadata": {},
     "output_type": "execute_result"
    }
   ],
   "source": [
    "crypto_df.shape"
   ]
  },
  {
   "cell_type": "code",
   "execution_count": 198,
   "metadata": {},
   "outputs": [
    {
     "data": {
      "text/html": [
       "<div>\n",
       "<style scoped>\n",
       "    .dataframe tbody tr th:only-of-type {\n",
       "        vertical-align: middle;\n",
       "    }\n",
       "\n",
       "    .dataframe tbody tr th {\n",
       "        vertical-align: top;\n",
       "    }\n",
       "\n",
       "    .dataframe thead th {\n",
       "        text-align: right;\n",
       "    }\n",
       "</style>\n",
       "<table border=\"1\" class=\"dataframe\">\n",
       "  <thead>\n",
       "    <tr style=\"text-align: right;\">\n",
       "      <th></th>\n",
       "      <th>CoinName</th>\n",
       "      <th>Algorithm</th>\n",
       "      <th>IsTrading</th>\n",
       "      <th>ProofType</th>\n",
       "      <th>TotalCoinsMined</th>\n",
       "      <th>TotalCoinSupply</th>\n",
       "    </tr>\n",
       "  </thead>\n",
       "  <tbody>\n",
       "    <tr>\n",
       "      <th>42</th>\n",
       "      <td>42 Coin</td>\n",
       "      <td>Scrypt</td>\n",
       "      <td>True</td>\n",
       "      <td>PoW/PoS</td>\n",
       "      <td>4.199995e+01</td>\n",
       "      <td>42</td>\n",
       "    </tr>\n",
       "    <tr>\n",
       "      <th>365</th>\n",
       "      <td>365Coin</td>\n",
       "      <td>X11</td>\n",
       "      <td>True</td>\n",
       "      <td>PoW/PoS</td>\n",
       "      <td>NaN</td>\n",
       "      <td>2300000000</td>\n",
       "    </tr>\n",
       "    <tr>\n",
       "      <th>404</th>\n",
       "      <td>404Coin</td>\n",
       "      <td>Scrypt</td>\n",
       "      <td>True</td>\n",
       "      <td>PoW/PoS</td>\n",
       "      <td>1.055185e+09</td>\n",
       "      <td>532000000</td>\n",
       "    </tr>\n",
       "    <tr>\n",
       "      <th>611</th>\n",
       "      <td>SixEleven</td>\n",
       "      <td>SHA-256</td>\n",
       "      <td>True</td>\n",
       "      <td>PoW</td>\n",
       "      <td>NaN</td>\n",
       "      <td>611000</td>\n",
       "    </tr>\n",
       "    <tr>\n",
       "      <th>808</th>\n",
       "      <td>808</td>\n",
       "      <td>SHA-256</td>\n",
       "      <td>True</td>\n",
       "      <td>PoW/PoS</td>\n",
       "      <td>0.000000e+00</td>\n",
       "      <td>0</td>\n",
       "    </tr>\n",
       "    <tr>\n",
       "      <th>...</th>\n",
       "      <td>...</td>\n",
       "      <td>...</td>\n",
       "      <td>...</td>\n",
       "      <td>...</td>\n",
       "      <td>...</td>\n",
       "      <td>...</td>\n",
       "    </tr>\n",
       "    <tr>\n",
       "      <th>SERO</th>\n",
       "      <td>Super Zero</td>\n",
       "      <td>Ethash</td>\n",
       "      <td>True</td>\n",
       "      <td>PoW</td>\n",
       "      <td>NaN</td>\n",
       "      <td>1000000000</td>\n",
       "    </tr>\n",
       "    <tr>\n",
       "      <th>UOS</th>\n",
       "      <td>UOS</td>\n",
       "      <td>SHA-256</td>\n",
       "      <td>True</td>\n",
       "      <td>DPoI</td>\n",
       "      <td>NaN</td>\n",
       "      <td>1000000000</td>\n",
       "    </tr>\n",
       "    <tr>\n",
       "      <th>BDX</th>\n",
       "      <td>Beldex</td>\n",
       "      <td>CryptoNight</td>\n",
       "      <td>True</td>\n",
       "      <td>PoW</td>\n",
       "      <td>9.802226e+08</td>\n",
       "      <td>1400222610</td>\n",
       "    </tr>\n",
       "    <tr>\n",
       "      <th>ZEN</th>\n",
       "      <td>Horizen</td>\n",
       "      <td>Equihash</td>\n",
       "      <td>True</td>\n",
       "      <td>PoW</td>\n",
       "      <td>7.296538e+06</td>\n",
       "      <td>21000000</td>\n",
       "    </tr>\n",
       "    <tr>\n",
       "      <th>XBC</th>\n",
       "      <td>BitcoinPlus</td>\n",
       "      <td>Scrypt</td>\n",
       "      <td>True</td>\n",
       "      <td>PoS</td>\n",
       "      <td>1.283270e+05</td>\n",
       "      <td>1000000</td>\n",
       "    </tr>\n",
       "  </tbody>\n",
       "</table>\n",
       "<p>1144 rows × 6 columns</p>\n",
       "</div>"
      ],
      "text/plain": [
       "         CoinName    Algorithm  IsTrading ProofType  TotalCoinsMined  \\\n",
       "42        42 Coin       Scrypt       True   PoW/PoS     4.199995e+01   \n",
       "365       365Coin          X11       True   PoW/PoS              NaN   \n",
       "404       404Coin       Scrypt       True   PoW/PoS     1.055185e+09   \n",
       "611     SixEleven      SHA-256       True       PoW              NaN   \n",
       "808           808      SHA-256       True   PoW/PoS     0.000000e+00   \n",
       "...           ...          ...        ...       ...              ...   \n",
       "SERO   Super Zero       Ethash       True       PoW              NaN   \n",
       "UOS           UOS      SHA-256       True      DPoI              NaN   \n",
       "BDX        Beldex  CryptoNight       True       PoW     9.802226e+08   \n",
       "ZEN       Horizen     Equihash       True       PoW     7.296538e+06   \n",
       "XBC   BitcoinPlus       Scrypt       True       PoS     1.283270e+05   \n",
       "\n",
       "     TotalCoinSupply  \n",
       "42                42  \n",
       "365       2300000000  \n",
       "404        532000000  \n",
       "611           611000  \n",
       "808                0  \n",
       "...              ...  \n",
       "SERO      1000000000  \n",
       "UOS       1000000000  \n",
       "BDX       1400222610  \n",
       "ZEN         21000000  \n",
       "XBC          1000000  \n",
       "\n",
       "[1144 rows x 6 columns]"
      ]
     },
     "execution_count": 198,
     "metadata": {},
     "output_type": "execute_result"
    }
   ],
   "source": [
    "# Keep all the cryptocurrencies that are being traded.\n",
    "crypto_df = crypto_df.loc[crypto_df[\"IsTrading\"] == True]\n",
    "crypto_df"
   ]
  },
  {
   "cell_type": "code",
   "execution_count": 199,
   "metadata": {},
   "outputs": [
    {
     "data": {
      "text/plain": [
       "array([ True])"
      ]
     },
     "execution_count": 199,
     "metadata": {},
     "output_type": "execute_result"
    }
   ],
   "source": [
    "# confirm the filter worked\n",
    "crypto_df['IsTrading'].unique()"
   ]
  },
  {
   "cell_type": "code",
   "execution_count": 200,
   "metadata": {},
   "outputs": [
    {
     "data": {
      "text/html": [
       "<div>\n",
       "<style scoped>\n",
       "    .dataframe tbody tr th:only-of-type {\n",
       "        vertical-align: middle;\n",
       "    }\n",
       "\n",
       "    .dataframe tbody tr th {\n",
       "        vertical-align: top;\n",
       "    }\n",
       "\n",
       "    .dataframe thead th {\n",
       "        text-align: right;\n",
       "    }\n",
       "</style>\n",
       "<table border=\"1\" class=\"dataframe\">\n",
       "  <thead>\n",
       "    <tr style=\"text-align: right;\">\n",
       "      <th></th>\n",
       "      <th>CoinName</th>\n",
       "      <th>Algorithm</th>\n",
       "      <th>ProofType</th>\n",
       "      <th>TotalCoinsMined</th>\n",
       "      <th>TotalCoinSupply</th>\n",
       "    </tr>\n",
       "  </thead>\n",
       "  <tbody>\n",
       "    <tr>\n",
       "      <th>42</th>\n",
       "      <td>42 Coin</td>\n",
       "      <td>Scrypt</td>\n",
       "      <td>PoW/PoS</td>\n",
       "      <td>4.199995e+01</td>\n",
       "      <td>42</td>\n",
       "    </tr>\n",
       "    <tr>\n",
       "      <th>365</th>\n",
       "      <td>365Coin</td>\n",
       "      <td>X11</td>\n",
       "      <td>PoW/PoS</td>\n",
       "      <td>NaN</td>\n",
       "      <td>2300000000</td>\n",
       "    </tr>\n",
       "    <tr>\n",
       "      <th>404</th>\n",
       "      <td>404Coin</td>\n",
       "      <td>Scrypt</td>\n",
       "      <td>PoW/PoS</td>\n",
       "      <td>1.055185e+09</td>\n",
       "      <td>532000000</td>\n",
       "    </tr>\n",
       "    <tr>\n",
       "      <th>611</th>\n",
       "      <td>SixEleven</td>\n",
       "      <td>SHA-256</td>\n",
       "      <td>PoW</td>\n",
       "      <td>NaN</td>\n",
       "      <td>611000</td>\n",
       "    </tr>\n",
       "    <tr>\n",
       "      <th>808</th>\n",
       "      <td>808</td>\n",
       "      <td>SHA-256</td>\n",
       "      <td>PoW/PoS</td>\n",
       "      <td>0.000000e+00</td>\n",
       "      <td>0</td>\n",
       "    </tr>\n",
       "    <tr>\n",
       "      <th>...</th>\n",
       "      <td>...</td>\n",
       "      <td>...</td>\n",
       "      <td>...</td>\n",
       "      <td>...</td>\n",
       "      <td>...</td>\n",
       "    </tr>\n",
       "    <tr>\n",
       "      <th>SERO</th>\n",
       "      <td>Super Zero</td>\n",
       "      <td>Ethash</td>\n",
       "      <td>PoW</td>\n",
       "      <td>NaN</td>\n",
       "      <td>1000000000</td>\n",
       "    </tr>\n",
       "    <tr>\n",
       "      <th>UOS</th>\n",
       "      <td>UOS</td>\n",
       "      <td>SHA-256</td>\n",
       "      <td>DPoI</td>\n",
       "      <td>NaN</td>\n",
       "      <td>1000000000</td>\n",
       "    </tr>\n",
       "    <tr>\n",
       "      <th>BDX</th>\n",
       "      <td>Beldex</td>\n",
       "      <td>CryptoNight</td>\n",
       "      <td>PoW</td>\n",
       "      <td>9.802226e+08</td>\n",
       "      <td>1400222610</td>\n",
       "    </tr>\n",
       "    <tr>\n",
       "      <th>ZEN</th>\n",
       "      <td>Horizen</td>\n",
       "      <td>Equihash</td>\n",
       "      <td>PoW</td>\n",
       "      <td>7.296538e+06</td>\n",
       "      <td>21000000</td>\n",
       "    </tr>\n",
       "    <tr>\n",
       "      <th>XBC</th>\n",
       "      <td>BitcoinPlus</td>\n",
       "      <td>Scrypt</td>\n",
       "      <td>PoS</td>\n",
       "      <td>1.283270e+05</td>\n",
       "      <td>1000000</td>\n",
       "    </tr>\n",
       "  </tbody>\n",
       "</table>\n",
       "<p>1144 rows × 5 columns</p>\n",
       "</div>"
      ],
      "text/plain": [
       "         CoinName    Algorithm ProofType  TotalCoinsMined TotalCoinSupply\n",
       "42        42 Coin       Scrypt   PoW/PoS     4.199995e+01              42\n",
       "365       365Coin          X11   PoW/PoS              NaN      2300000000\n",
       "404       404Coin       Scrypt   PoW/PoS     1.055185e+09       532000000\n",
       "611     SixEleven      SHA-256       PoW              NaN          611000\n",
       "808           808      SHA-256   PoW/PoS     0.000000e+00               0\n",
       "...           ...          ...       ...              ...             ...\n",
       "SERO   Super Zero       Ethash       PoW              NaN      1000000000\n",
       "UOS           UOS      SHA-256      DPoI              NaN      1000000000\n",
       "BDX        Beldex  CryptoNight       PoW     9.802226e+08      1400222610\n",
       "ZEN       Horizen     Equihash       PoW     7.296538e+06        21000000\n",
       "XBC   BitcoinPlus       Scrypt       PoS     1.283270e+05         1000000\n",
       "\n",
       "[1144 rows x 5 columns]"
      ]
     },
     "execution_count": 200,
     "metadata": {},
     "output_type": "execute_result"
    }
   ],
   "source": [
    "# drop 'IsTrading' column since it is no longer required\n",
    "crypto_df.drop(columns = ['IsTrading'], inplace=True)\n",
    "crypto_df"
   ]
  },
  {
   "cell_type": "code",
   "execution_count": 201,
   "metadata": {},
   "outputs": [
    {
     "data": {
      "text/plain": [
       "(1144, 5)"
      ]
     },
     "execution_count": 201,
     "metadata": {},
     "output_type": "execute_result"
    }
   ],
   "source": [
    "crypto_df.shape"
   ]
  },
  {
   "cell_type": "code",
   "execution_count": 202,
   "metadata": {},
   "outputs": [
    {
     "data": {
      "text/plain": [
       "0"
      ]
     },
     "execution_count": 202,
     "metadata": {},
     "output_type": "execute_result"
    }
   ],
   "source": [
    "crypto_df['Algorithm'].isnull().sum()"
   ]
  },
  {
   "cell_type": "code",
   "execution_count": 203,
   "metadata": {},
   "outputs": [
    {
     "data": {
      "text/html": [
       "<div>\n",
       "<style scoped>\n",
       "    .dataframe tbody tr th:only-of-type {\n",
       "        vertical-align: middle;\n",
       "    }\n",
       "\n",
       "    .dataframe tbody tr th {\n",
       "        vertical-align: top;\n",
       "    }\n",
       "\n",
       "    .dataframe thead th {\n",
       "        text-align: right;\n",
       "    }\n",
       "</style>\n",
       "<table border=\"1\" class=\"dataframe\">\n",
       "  <thead>\n",
       "    <tr style=\"text-align: right;\">\n",
       "      <th></th>\n",
       "      <th>CoinName</th>\n",
       "      <th>Algorithm</th>\n",
       "      <th>ProofType</th>\n",
       "      <th>TotalCoinsMined</th>\n",
       "      <th>TotalCoinSupply</th>\n",
       "    </tr>\n",
       "  </thead>\n",
       "  <tbody>\n",
       "    <tr>\n",
       "      <th>42</th>\n",
       "      <td>42 Coin</td>\n",
       "      <td>Scrypt</td>\n",
       "      <td>PoW/PoS</td>\n",
       "      <td>4.199995e+01</td>\n",
       "      <td>42</td>\n",
       "    </tr>\n",
       "    <tr>\n",
       "      <th>365</th>\n",
       "      <td>365Coin</td>\n",
       "      <td>X11</td>\n",
       "      <td>PoW/PoS</td>\n",
       "      <td>NaN</td>\n",
       "      <td>2300000000</td>\n",
       "    </tr>\n",
       "    <tr>\n",
       "      <th>404</th>\n",
       "      <td>404Coin</td>\n",
       "      <td>Scrypt</td>\n",
       "      <td>PoW/PoS</td>\n",
       "      <td>1.055185e+09</td>\n",
       "      <td>532000000</td>\n",
       "    </tr>\n",
       "    <tr>\n",
       "      <th>611</th>\n",
       "      <td>SixEleven</td>\n",
       "      <td>SHA-256</td>\n",
       "      <td>PoW</td>\n",
       "      <td>NaN</td>\n",
       "      <td>611000</td>\n",
       "    </tr>\n",
       "    <tr>\n",
       "      <th>808</th>\n",
       "      <td>808</td>\n",
       "      <td>SHA-256</td>\n",
       "      <td>PoW/PoS</td>\n",
       "      <td>0.000000e+00</td>\n",
       "      <td>0</td>\n",
       "    </tr>\n",
       "    <tr>\n",
       "      <th>...</th>\n",
       "      <td>...</td>\n",
       "      <td>...</td>\n",
       "      <td>...</td>\n",
       "      <td>...</td>\n",
       "      <td>...</td>\n",
       "    </tr>\n",
       "    <tr>\n",
       "      <th>SERO</th>\n",
       "      <td>Super Zero</td>\n",
       "      <td>Ethash</td>\n",
       "      <td>PoW</td>\n",
       "      <td>NaN</td>\n",
       "      <td>1000000000</td>\n",
       "    </tr>\n",
       "    <tr>\n",
       "      <th>UOS</th>\n",
       "      <td>UOS</td>\n",
       "      <td>SHA-256</td>\n",
       "      <td>DPoI</td>\n",
       "      <td>NaN</td>\n",
       "      <td>1000000000</td>\n",
       "    </tr>\n",
       "    <tr>\n",
       "      <th>BDX</th>\n",
       "      <td>Beldex</td>\n",
       "      <td>CryptoNight</td>\n",
       "      <td>PoW</td>\n",
       "      <td>9.802226e+08</td>\n",
       "      <td>1400222610</td>\n",
       "    </tr>\n",
       "    <tr>\n",
       "      <th>ZEN</th>\n",
       "      <td>Horizen</td>\n",
       "      <td>Equihash</td>\n",
       "      <td>PoW</td>\n",
       "      <td>7.296538e+06</td>\n",
       "      <td>21000000</td>\n",
       "    </tr>\n",
       "    <tr>\n",
       "      <th>XBC</th>\n",
       "      <td>BitcoinPlus</td>\n",
       "      <td>Scrypt</td>\n",
       "      <td>PoS</td>\n",
       "      <td>1.283270e+05</td>\n",
       "      <td>1000000</td>\n",
       "    </tr>\n",
       "  </tbody>\n",
       "</table>\n",
       "<p>1144 rows × 5 columns</p>\n",
       "</div>"
      ],
      "text/plain": [
       "         CoinName    Algorithm ProofType  TotalCoinsMined TotalCoinSupply\n",
       "42        42 Coin       Scrypt   PoW/PoS     4.199995e+01              42\n",
       "365       365Coin          X11   PoW/PoS              NaN      2300000000\n",
       "404       404Coin       Scrypt   PoW/PoS     1.055185e+09       532000000\n",
       "611     SixEleven      SHA-256       PoW              NaN          611000\n",
       "808           808      SHA-256   PoW/PoS     0.000000e+00               0\n",
       "...           ...          ...       ...              ...             ...\n",
       "SERO   Super Zero       Ethash       PoW              NaN      1000000000\n",
       "UOS           UOS      SHA-256      DPoI              NaN      1000000000\n",
       "BDX        Beldex  CryptoNight       PoW     9.802226e+08      1400222610\n",
       "ZEN       Horizen     Equihash       PoW     7.296538e+06        21000000\n",
       "XBC   BitcoinPlus       Scrypt       PoS     1.283270e+05         1000000\n",
       "\n",
       "[1144 rows x 5 columns]"
      ]
     },
     "execution_count": 203,
     "metadata": {},
     "output_type": "execute_result"
    }
   ],
   "source": [
    "# Keep all the cryptocurrencies that have a working algorithm.\n",
    "crypto_df.Algorithm.dropna()\n",
    "crypto_df"
   ]
  },
  {
   "cell_type": "code",
   "execution_count": 204,
   "metadata": {},
   "outputs": [
    {
     "data": {
      "text/html": [
       "<div>\n",
       "<style scoped>\n",
       "    .dataframe tbody tr th:only-of-type {\n",
       "        vertical-align: middle;\n",
       "    }\n",
       "\n",
       "    .dataframe tbody tr th {\n",
       "        vertical-align: top;\n",
       "    }\n",
       "\n",
       "    .dataframe thead th {\n",
       "        text-align: right;\n",
       "    }\n",
       "</style>\n",
       "<table border=\"1\" class=\"dataframe\">\n",
       "  <thead>\n",
       "    <tr style=\"text-align: right;\">\n",
       "      <th></th>\n",
       "      <th>CoinName</th>\n",
       "      <th>Algorithm</th>\n",
       "      <th>ProofType</th>\n",
       "      <th>TotalCoinsMined</th>\n",
       "      <th>TotalCoinSupply</th>\n",
       "    </tr>\n",
       "  </thead>\n",
       "  <tbody>\n",
       "    <tr>\n",
       "      <th>42</th>\n",
       "      <td>42 Coin</td>\n",
       "      <td>Scrypt</td>\n",
       "      <td>PoW/PoS</td>\n",
       "      <td>4.199995e+01</td>\n",
       "      <td>42</td>\n",
       "    </tr>\n",
       "    <tr>\n",
       "      <th>404</th>\n",
       "      <td>404Coin</td>\n",
       "      <td>Scrypt</td>\n",
       "      <td>PoW/PoS</td>\n",
       "      <td>1.055185e+09</td>\n",
       "      <td>532000000</td>\n",
       "    </tr>\n",
       "    <tr>\n",
       "      <th>808</th>\n",
       "      <td>808</td>\n",
       "      <td>SHA-256</td>\n",
       "      <td>PoW/PoS</td>\n",
       "      <td>0.000000e+00</td>\n",
       "      <td>0</td>\n",
       "    </tr>\n",
       "    <tr>\n",
       "      <th>1337</th>\n",
       "      <td>EliteCoin</td>\n",
       "      <td>X13</td>\n",
       "      <td>PoW/PoS</td>\n",
       "      <td>2.927942e+10</td>\n",
       "      <td>314159265359</td>\n",
       "    </tr>\n",
       "    <tr>\n",
       "      <th>BTC</th>\n",
       "      <td>Bitcoin</td>\n",
       "      <td>SHA-256</td>\n",
       "      <td>PoW</td>\n",
       "      <td>1.792718e+07</td>\n",
       "      <td>21000000</td>\n",
       "    </tr>\n",
       "    <tr>\n",
       "      <th>...</th>\n",
       "      <td>...</td>\n",
       "      <td>...</td>\n",
       "      <td>...</td>\n",
       "      <td>...</td>\n",
       "      <td>...</td>\n",
       "    </tr>\n",
       "    <tr>\n",
       "      <th>ZEPH</th>\n",
       "      <td>ZEPHYR</td>\n",
       "      <td>SHA-256</td>\n",
       "      <td>DPoS</td>\n",
       "      <td>2.000000e+09</td>\n",
       "      <td>2000000000</td>\n",
       "    </tr>\n",
       "    <tr>\n",
       "      <th>GAP</th>\n",
       "      <td>Gapcoin</td>\n",
       "      <td>Scrypt</td>\n",
       "      <td>PoW/PoS</td>\n",
       "      <td>1.493105e+07</td>\n",
       "      <td>250000000</td>\n",
       "    </tr>\n",
       "    <tr>\n",
       "      <th>BDX</th>\n",
       "      <td>Beldex</td>\n",
       "      <td>CryptoNight</td>\n",
       "      <td>PoW</td>\n",
       "      <td>9.802226e+08</td>\n",
       "      <td>1400222610</td>\n",
       "    </tr>\n",
       "    <tr>\n",
       "      <th>ZEN</th>\n",
       "      <td>Horizen</td>\n",
       "      <td>Equihash</td>\n",
       "      <td>PoW</td>\n",
       "      <td>7.296538e+06</td>\n",
       "      <td>21000000</td>\n",
       "    </tr>\n",
       "    <tr>\n",
       "      <th>XBC</th>\n",
       "      <td>BitcoinPlus</td>\n",
       "      <td>Scrypt</td>\n",
       "      <td>PoS</td>\n",
       "      <td>1.283270e+05</td>\n",
       "      <td>1000000</td>\n",
       "    </tr>\n",
       "  </tbody>\n",
       "</table>\n",
       "<p>685 rows × 5 columns</p>\n",
       "</div>"
      ],
      "text/plain": [
       "         CoinName    Algorithm ProofType  TotalCoinsMined TotalCoinSupply\n",
       "42        42 Coin       Scrypt   PoW/PoS     4.199995e+01              42\n",
       "404       404Coin       Scrypt   PoW/PoS     1.055185e+09       532000000\n",
       "808           808      SHA-256   PoW/PoS     0.000000e+00               0\n",
       "1337    EliteCoin          X13   PoW/PoS     2.927942e+10    314159265359\n",
       "BTC       Bitcoin      SHA-256       PoW     1.792718e+07        21000000\n",
       "...           ...          ...       ...              ...             ...\n",
       "ZEPH       ZEPHYR      SHA-256      DPoS     2.000000e+09      2000000000\n",
       "GAP       Gapcoin       Scrypt   PoW/PoS     1.493105e+07       250000000\n",
       "BDX        Beldex  CryptoNight       PoW     9.802226e+08      1400222610\n",
       "ZEN       Horizen     Equihash       PoW     7.296538e+06        21000000\n",
       "XBC   BitcoinPlus       Scrypt       PoS     1.283270e+05         1000000\n",
       "\n",
       "[685 rows x 5 columns]"
      ]
     },
     "execution_count": 204,
     "metadata": {},
     "output_type": "execute_result"
    }
   ],
   "source": [
    "# Remove rows that have at least 1 null value.\n",
    "crypto_df = crypto_df.dropna()\n",
    "crypto_df"
   ]
  },
  {
   "cell_type": "code",
   "execution_count": 205,
   "metadata": {},
   "outputs": [
    {
     "data": {
      "text/html": [
       "<div>\n",
       "<style scoped>\n",
       "    .dataframe tbody tr th:only-of-type {\n",
       "        vertical-align: middle;\n",
       "    }\n",
       "\n",
       "    .dataframe tbody tr th {\n",
       "        vertical-align: top;\n",
       "    }\n",
       "\n",
       "    .dataframe thead th {\n",
       "        text-align: right;\n",
       "    }\n",
       "</style>\n",
       "<table border=\"1\" class=\"dataframe\">\n",
       "  <thead>\n",
       "    <tr style=\"text-align: right;\">\n",
       "      <th></th>\n",
       "      <th>CoinName</th>\n",
       "      <th>Algorithm</th>\n",
       "      <th>ProofType</th>\n",
       "      <th>TotalCoinsMined</th>\n",
       "      <th>TotalCoinSupply</th>\n",
       "    </tr>\n",
       "  </thead>\n",
       "  <tbody>\n",
       "    <tr>\n",
       "      <th>42</th>\n",
       "      <td>42 Coin</td>\n",
       "      <td>Scrypt</td>\n",
       "      <td>PoW/PoS</td>\n",
       "      <td>4.199995e+01</td>\n",
       "      <td>42</td>\n",
       "    </tr>\n",
       "    <tr>\n",
       "      <th>404</th>\n",
       "      <td>404Coin</td>\n",
       "      <td>Scrypt</td>\n",
       "      <td>PoW/PoS</td>\n",
       "      <td>1.055185e+09</td>\n",
       "      <td>532000000</td>\n",
       "    </tr>\n",
       "    <tr>\n",
       "      <th>1337</th>\n",
       "      <td>EliteCoin</td>\n",
       "      <td>X13</td>\n",
       "      <td>PoW/PoS</td>\n",
       "      <td>2.927942e+10</td>\n",
       "      <td>314159265359</td>\n",
       "    </tr>\n",
       "    <tr>\n",
       "      <th>BTC</th>\n",
       "      <td>Bitcoin</td>\n",
       "      <td>SHA-256</td>\n",
       "      <td>PoW</td>\n",
       "      <td>1.792718e+07</td>\n",
       "      <td>21000000</td>\n",
       "    </tr>\n",
       "    <tr>\n",
       "      <th>ETH</th>\n",
       "      <td>Ethereum</td>\n",
       "      <td>Ethash</td>\n",
       "      <td>PoW</td>\n",
       "      <td>1.076842e+08</td>\n",
       "      <td>0</td>\n",
       "    </tr>\n",
       "    <tr>\n",
       "      <th>...</th>\n",
       "      <td>...</td>\n",
       "      <td>...</td>\n",
       "      <td>...</td>\n",
       "      <td>...</td>\n",
       "      <td>...</td>\n",
       "    </tr>\n",
       "    <tr>\n",
       "      <th>ZEPH</th>\n",
       "      <td>ZEPHYR</td>\n",
       "      <td>SHA-256</td>\n",
       "      <td>DPoS</td>\n",
       "      <td>2.000000e+09</td>\n",
       "      <td>2000000000</td>\n",
       "    </tr>\n",
       "    <tr>\n",
       "      <th>GAP</th>\n",
       "      <td>Gapcoin</td>\n",
       "      <td>Scrypt</td>\n",
       "      <td>PoW/PoS</td>\n",
       "      <td>1.493105e+07</td>\n",
       "      <td>250000000</td>\n",
       "    </tr>\n",
       "    <tr>\n",
       "      <th>BDX</th>\n",
       "      <td>Beldex</td>\n",
       "      <td>CryptoNight</td>\n",
       "      <td>PoW</td>\n",
       "      <td>9.802226e+08</td>\n",
       "      <td>1400222610</td>\n",
       "    </tr>\n",
       "    <tr>\n",
       "      <th>ZEN</th>\n",
       "      <td>Horizen</td>\n",
       "      <td>Equihash</td>\n",
       "      <td>PoW</td>\n",
       "      <td>7.296538e+06</td>\n",
       "      <td>21000000</td>\n",
       "    </tr>\n",
       "    <tr>\n",
       "      <th>XBC</th>\n",
       "      <td>BitcoinPlus</td>\n",
       "      <td>Scrypt</td>\n",
       "      <td>PoS</td>\n",
       "      <td>1.283270e+05</td>\n",
       "      <td>1000000</td>\n",
       "    </tr>\n",
       "  </tbody>\n",
       "</table>\n",
       "<p>533 rows × 5 columns</p>\n",
       "</div>"
      ],
      "text/plain": [
       "         CoinName    Algorithm ProofType  TotalCoinsMined TotalCoinSupply\n",
       "42        42 Coin       Scrypt   PoW/PoS     4.199995e+01              42\n",
       "404       404Coin       Scrypt   PoW/PoS     1.055185e+09       532000000\n",
       "1337    EliteCoin          X13   PoW/PoS     2.927942e+10    314159265359\n",
       "BTC       Bitcoin      SHA-256       PoW     1.792718e+07        21000000\n",
       "ETH      Ethereum       Ethash       PoW     1.076842e+08               0\n",
       "...           ...          ...       ...              ...             ...\n",
       "ZEPH       ZEPHYR      SHA-256      DPoS     2.000000e+09      2000000000\n",
       "GAP       Gapcoin       Scrypt   PoW/PoS     1.493105e+07       250000000\n",
       "BDX        Beldex  CryptoNight       PoW     9.802226e+08      1400222610\n",
       "ZEN       Horizen     Equihash       PoW     7.296538e+06        21000000\n",
       "XBC   BitcoinPlus       Scrypt       PoS     1.283270e+05         1000000\n",
       "\n",
       "[533 rows x 5 columns]"
      ]
     },
     "execution_count": 205,
     "metadata": {},
     "output_type": "execute_result"
    }
   ],
   "source": [
    "# Keep the rows where coins are mined.\n",
    "indeces = crypto_df.loc[crypto_df['TotalCoinsMined'] == 0].index\n",
    "crypto_df.drop(indeces, inplace=True)\n",
    "crypto_df"
   ]
  },
  {
   "cell_type": "code",
   "execution_count": 206,
   "metadata": {},
   "outputs": [
    {
     "data": {
      "text/html": [
       "<div>\n",
       "<style scoped>\n",
       "    .dataframe tbody tr th:only-of-type {\n",
       "        vertical-align: middle;\n",
       "    }\n",
       "\n",
       "    .dataframe tbody tr th {\n",
       "        vertical-align: top;\n",
       "    }\n",
       "\n",
       "    .dataframe thead th {\n",
       "        text-align: right;\n",
       "    }\n",
       "</style>\n",
       "<table border=\"1\" class=\"dataframe\">\n",
       "  <thead>\n",
       "    <tr style=\"text-align: right;\">\n",
       "      <th></th>\n",
       "      <th>CoinName</th>\n",
       "    </tr>\n",
       "  </thead>\n",
       "  <tbody>\n",
       "    <tr>\n",
       "      <th>42</th>\n",
       "      <td>42 Coin</td>\n",
       "    </tr>\n",
       "    <tr>\n",
       "      <th>404</th>\n",
       "      <td>404Coin</td>\n",
       "    </tr>\n",
       "    <tr>\n",
       "      <th>1337</th>\n",
       "      <td>EliteCoin</td>\n",
       "    </tr>\n",
       "    <tr>\n",
       "      <th>BTC</th>\n",
       "      <td>Bitcoin</td>\n",
       "    </tr>\n",
       "    <tr>\n",
       "      <th>ETH</th>\n",
       "      <td>Ethereum</td>\n",
       "    </tr>\n",
       "    <tr>\n",
       "      <th>...</th>\n",
       "      <td>...</td>\n",
       "    </tr>\n",
       "    <tr>\n",
       "      <th>ZEPH</th>\n",
       "      <td>ZEPHYR</td>\n",
       "    </tr>\n",
       "    <tr>\n",
       "      <th>GAP</th>\n",
       "      <td>Gapcoin</td>\n",
       "    </tr>\n",
       "    <tr>\n",
       "      <th>BDX</th>\n",
       "      <td>Beldex</td>\n",
       "    </tr>\n",
       "    <tr>\n",
       "      <th>ZEN</th>\n",
       "      <td>Horizen</td>\n",
       "    </tr>\n",
       "    <tr>\n",
       "      <th>XBC</th>\n",
       "      <td>BitcoinPlus</td>\n",
       "    </tr>\n",
       "  </tbody>\n",
       "</table>\n",
       "<p>533 rows × 1 columns</p>\n",
       "</div>"
      ],
      "text/plain": [
       "         CoinName\n",
       "42        42 Coin\n",
       "404       404Coin\n",
       "1337    EliteCoin\n",
       "BTC       Bitcoin\n",
       "ETH      Ethereum\n",
       "...           ...\n",
       "ZEPH       ZEPHYR\n",
       "GAP       Gapcoin\n",
       "BDX        Beldex\n",
       "ZEN       Horizen\n",
       "XBC   BitcoinPlus\n",
       "\n",
       "[533 rows x 1 columns]"
      ]
     },
     "execution_count": 206,
     "metadata": {},
     "output_type": "execute_result"
    }
   ],
   "source": [
    "# Create a new DataFrame that holds only the cryptocurrencies names.\n",
    "coinNames = crypto_df['CoinName']\n",
    "coinNames_df = pd.DataFrame(coinNames)\n",
    "coinNames_df"
   ]
  },
  {
   "cell_type": "code",
   "execution_count": 207,
   "metadata": {},
   "outputs": [
    {
     "data": {
      "text/html": [
       "<div>\n",
       "<style scoped>\n",
       "    .dataframe tbody tr th:only-of-type {\n",
       "        vertical-align: middle;\n",
       "    }\n",
       "\n",
       "    .dataframe tbody tr th {\n",
       "        vertical-align: top;\n",
       "    }\n",
       "\n",
       "    .dataframe thead th {\n",
       "        text-align: right;\n",
       "    }\n",
       "</style>\n",
       "<table border=\"1\" class=\"dataframe\">\n",
       "  <thead>\n",
       "    <tr style=\"text-align: right;\">\n",
       "      <th></th>\n",
       "      <th>Algorithm</th>\n",
       "      <th>ProofType</th>\n",
       "      <th>TotalCoinsMined</th>\n",
       "      <th>TotalCoinSupply</th>\n",
       "    </tr>\n",
       "  </thead>\n",
       "  <tbody>\n",
       "    <tr>\n",
       "      <th>42</th>\n",
       "      <td>Scrypt</td>\n",
       "      <td>PoW/PoS</td>\n",
       "      <td>4.199995e+01</td>\n",
       "      <td>42</td>\n",
       "    </tr>\n",
       "    <tr>\n",
       "      <th>404</th>\n",
       "      <td>Scrypt</td>\n",
       "      <td>PoW/PoS</td>\n",
       "      <td>1.055185e+09</td>\n",
       "      <td>532000000</td>\n",
       "    </tr>\n",
       "    <tr>\n",
       "      <th>1337</th>\n",
       "      <td>X13</td>\n",
       "      <td>PoW/PoS</td>\n",
       "      <td>2.927942e+10</td>\n",
       "      <td>314159265359</td>\n",
       "    </tr>\n",
       "    <tr>\n",
       "      <th>BTC</th>\n",
       "      <td>SHA-256</td>\n",
       "      <td>PoW</td>\n",
       "      <td>1.792718e+07</td>\n",
       "      <td>21000000</td>\n",
       "    </tr>\n",
       "    <tr>\n",
       "      <th>ETH</th>\n",
       "      <td>Ethash</td>\n",
       "      <td>PoW</td>\n",
       "      <td>1.076842e+08</td>\n",
       "      <td>0</td>\n",
       "    </tr>\n",
       "    <tr>\n",
       "      <th>...</th>\n",
       "      <td>...</td>\n",
       "      <td>...</td>\n",
       "      <td>...</td>\n",
       "      <td>...</td>\n",
       "    </tr>\n",
       "    <tr>\n",
       "      <th>ZEPH</th>\n",
       "      <td>SHA-256</td>\n",
       "      <td>DPoS</td>\n",
       "      <td>2.000000e+09</td>\n",
       "      <td>2000000000</td>\n",
       "    </tr>\n",
       "    <tr>\n",
       "      <th>GAP</th>\n",
       "      <td>Scrypt</td>\n",
       "      <td>PoW/PoS</td>\n",
       "      <td>1.493105e+07</td>\n",
       "      <td>250000000</td>\n",
       "    </tr>\n",
       "    <tr>\n",
       "      <th>BDX</th>\n",
       "      <td>CryptoNight</td>\n",
       "      <td>PoW</td>\n",
       "      <td>9.802226e+08</td>\n",
       "      <td>1400222610</td>\n",
       "    </tr>\n",
       "    <tr>\n",
       "      <th>ZEN</th>\n",
       "      <td>Equihash</td>\n",
       "      <td>PoW</td>\n",
       "      <td>7.296538e+06</td>\n",
       "      <td>21000000</td>\n",
       "    </tr>\n",
       "    <tr>\n",
       "      <th>XBC</th>\n",
       "      <td>Scrypt</td>\n",
       "      <td>PoS</td>\n",
       "      <td>1.283270e+05</td>\n",
       "      <td>1000000</td>\n",
       "    </tr>\n",
       "  </tbody>\n",
       "</table>\n",
       "<p>533 rows × 4 columns</p>\n",
       "</div>"
      ],
      "text/plain": [
       "        Algorithm ProofType  TotalCoinsMined TotalCoinSupply\n",
       "42         Scrypt   PoW/PoS     4.199995e+01              42\n",
       "404        Scrypt   PoW/PoS     1.055185e+09       532000000\n",
       "1337          X13   PoW/PoS     2.927942e+10    314159265359\n",
       "BTC       SHA-256       PoW     1.792718e+07        21000000\n",
       "ETH        Ethash       PoW     1.076842e+08               0\n",
       "...           ...       ...              ...             ...\n",
       "ZEPH      SHA-256      DPoS     2.000000e+09      2000000000\n",
       "GAP        Scrypt   PoW/PoS     1.493105e+07       250000000\n",
       "BDX   CryptoNight       PoW     9.802226e+08      1400222610\n",
       "ZEN      Equihash       PoW     7.296538e+06        21000000\n",
       "XBC        Scrypt       PoS     1.283270e+05         1000000\n",
       "\n",
       "[533 rows x 4 columns]"
      ]
     },
     "execution_count": 207,
     "metadata": {},
     "output_type": "execute_result"
    }
   ],
   "source": [
    "# Drop the 'CoinName' column since it's not going to be used on the clustering algorithm.\n",
    "crypto_df.drop(columns = ['CoinName'], inplace=True)\n",
    "crypto_df"
   ]
  },
  {
   "cell_type": "code",
   "execution_count": 208,
   "metadata": {},
   "outputs": [
    {
     "data": {
      "text/html": [
       "<div>\n",
       "<style scoped>\n",
       "    .dataframe tbody tr th:only-of-type {\n",
       "        vertical-align: middle;\n",
       "    }\n",
       "\n",
       "    .dataframe tbody tr th {\n",
       "        vertical-align: top;\n",
       "    }\n",
       "\n",
       "    .dataframe thead th {\n",
       "        text-align: right;\n",
       "    }\n",
       "</style>\n",
       "<table border=\"1\" class=\"dataframe\">\n",
       "  <thead>\n",
       "    <tr style=\"text-align: right;\">\n",
       "      <th></th>\n",
       "      <th>TotalCoinsMined</th>\n",
       "      <th>TotalCoinSupply</th>\n",
       "      <th>Algorithm_1GB AES Pattern Search</th>\n",
       "      <th>Algorithm_536</th>\n",
       "      <th>Algorithm_Argon2d</th>\n",
       "      <th>Algorithm_BLAKE256</th>\n",
       "      <th>Algorithm_Blake</th>\n",
       "      <th>Algorithm_Blake2S</th>\n",
       "      <th>Algorithm_Blake2b</th>\n",
       "      <th>Algorithm_C11</th>\n",
       "      <th>...</th>\n",
       "      <th>ProofType_PoW/PoS</th>\n",
       "      <th>ProofType_PoW/PoS</th>\n",
       "      <th>ProofType_PoW/PoW</th>\n",
       "      <th>ProofType_PoW/nPoS</th>\n",
       "      <th>ProofType_Pos</th>\n",
       "      <th>ProofType_Proof of Authority</th>\n",
       "      <th>ProofType_Proof of Trust</th>\n",
       "      <th>ProofType_TPoS</th>\n",
       "      <th>ProofType_Zero-Knowledge Proof</th>\n",
       "      <th>ProofType_dPoW/PoW</th>\n",
       "    </tr>\n",
       "  </thead>\n",
       "  <tbody>\n",
       "    <tr>\n",
       "      <th>42</th>\n",
       "      <td>4.199995e+01</td>\n",
       "      <td>42</td>\n",
       "      <td>0</td>\n",
       "      <td>0</td>\n",
       "      <td>0</td>\n",
       "      <td>0</td>\n",
       "      <td>0</td>\n",
       "      <td>0</td>\n",
       "      <td>0</td>\n",
       "      <td>0</td>\n",
       "      <td>...</td>\n",
       "      <td>1</td>\n",
       "      <td>0</td>\n",
       "      <td>0</td>\n",
       "      <td>0</td>\n",
       "      <td>0</td>\n",
       "      <td>0</td>\n",
       "      <td>0</td>\n",
       "      <td>0</td>\n",
       "      <td>0</td>\n",
       "      <td>0</td>\n",
       "    </tr>\n",
       "    <tr>\n",
       "      <th>404</th>\n",
       "      <td>1.055185e+09</td>\n",
       "      <td>532000000</td>\n",
       "      <td>0</td>\n",
       "      <td>0</td>\n",
       "      <td>0</td>\n",
       "      <td>0</td>\n",
       "      <td>0</td>\n",
       "      <td>0</td>\n",
       "      <td>0</td>\n",
       "      <td>0</td>\n",
       "      <td>...</td>\n",
       "      <td>1</td>\n",
       "      <td>0</td>\n",
       "      <td>0</td>\n",
       "      <td>0</td>\n",
       "      <td>0</td>\n",
       "      <td>0</td>\n",
       "      <td>0</td>\n",
       "      <td>0</td>\n",
       "      <td>0</td>\n",
       "      <td>0</td>\n",
       "    </tr>\n",
       "    <tr>\n",
       "      <th>1337</th>\n",
       "      <td>2.927942e+10</td>\n",
       "      <td>314159265359</td>\n",
       "      <td>0</td>\n",
       "      <td>0</td>\n",
       "      <td>0</td>\n",
       "      <td>0</td>\n",
       "      <td>0</td>\n",
       "      <td>0</td>\n",
       "      <td>0</td>\n",
       "      <td>0</td>\n",
       "      <td>...</td>\n",
       "      <td>1</td>\n",
       "      <td>0</td>\n",
       "      <td>0</td>\n",
       "      <td>0</td>\n",
       "      <td>0</td>\n",
       "      <td>0</td>\n",
       "      <td>0</td>\n",
       "      <td>0</td>\n",
       "      <td>0</td>\n",
       "      <td>0</td>\n",
       "    </tr>\n",
       "    <tr>\n",
       "      <th>BTC</th>\n",
       "      <td>1.792718e+07</td>\n",
       "      <td>21000000</td>\n",
       "      <td>0</td>\n",
       "      <td>0</td>\n",
       "      <td>0</td>\n",
       "      <td>0</td>\n",
       "      <td>0</td>\n",
       "      <td>0</td>\n",
       "      <td>0</td>\n",
       "      <td>0</td>\n",
       "      <td>...</td>\n",
       "      <td>0</td>\n",
       "      <td>0</td>\n",
       "      <td>0</td>\n",
       "      <td>0</td>\n",
       "      <td>0</td>\n",
       "      <td>0</td>\n",
       "      <td>0</td>\n",
       "      <td>0</td>\n",
       "      <td>0</td>\n",
       "      <td>0</td>\n",
       "    </tr>\n",
       "    <tr>\n",
       "      <th>ETH</th>\n",
       "      <td>1.076842e+08</td>\n",
       "      <td>0</td>\n",
       "      <td>0</td>\n",
       "      <td>0</td>\n",
       "      <td>0</td>\n",
       "      <td>0</td>\n",
       "      <td>0</td>\n",
       "      <td>0</td>\n",
       "      <td>0</td>\n",
       "      <td>0</td>\n",
       "      <td>...</td>\n",
       "      <td>0</td>\n",
       "      <td>0</td>\n",
       "      <td>0</td>\n",
       "      <td>0</td>\n",
       "      <td>0</td>\n",
       "      <td>0</td>\n",
       "      <td>0</td>\n",
       "      <td>0</td>\n",
       "      <td>0</td>\n",
       "      <td>0</td>\n",
       "    </tr>\n",
       "    <tr>\n",
       "      <th>...</th>\n",
       "      <td>...</td>\n",
       "      <td>...</td>\n",
       "      <td>...</td>\n",
       "      <td>...</td>\n",
       "      <td>...</td>\n",
       "      <td>...</td>\n",
       "      <td>...</td>\n",
       "      <td>...</td>\n",
       "      <td>...</td>\n",
       "      <td>...</td>\n",
       "      <td>...</td>\n",
       "      <td>...</td>\n",
       "      <td>...</td>\n",
       "      <td>...</td>\n",
       "      <td>...</td>\n",
       "      <td>...</td>\n",
       "      <td>...</td>\n",
       "      <td>...</td>\n",
       "      <td>...</td>\n",
       "      <td>...</td>\n",
       "      <td>...</td>\n",
       "    </tr>\n",
       "    <tr>\n",
       "      <th>ZEPH</th>\n",
       "      <td>2.000000e+09</td>\n",
       "      <td>2000000000</td>\n",
       "      <td>0</td>\n",
       "      <td>0</td>\n",
       "      <td>0</td>\n",
       "      <td>0</td>\n",
       "      <td>0</td>\n",
       "      <td>0</td>\n",
       "      <td>0</td>\n",
       "      <td>0</td>\n",
       "      <td>...</td>\n",
       "      <td>0</td>\n",
       "      <td>0</td>\n",
       "      <td>0</td>\n",
       "      <td>0</td>\n",
       "      <td>0</td>\n",
       "      <td>0</td>\n",
       "      <td>0</td>\n",
       "      <td>0</td>\n",
       "      <td>0</td>\n",
       "      <td>0</td>\n",
       "    </tr>\n",
       "    <tr>\n",
       "      <th>GAP</th>\n",
       "      <td>1.493105e+07</td>\n",
       "      <td>250000000</td>\n",
       "      <td>0</td>\n",
       "      <td>0</td>\n",
       "      <td>0</td>\n",
       "      <td>0</td>\n",
       "      <td>0</td>\n",
       "      <td>0</td>\n",
       "      <td>0</td>\n",
       "      <td>0</td>\n",
       "      <td>...</td>\n",
       "      <td>1</td>\n",
       "      <td>0</td>\n",
       "      <td>0</td>\n",
       "      <td>0</td>\n",
       "      <td>0</td>\n",
       "      <td>0</td>\n",
       "      <td>0</td>\n",
       "      <td>0</td>\n",
       "      <td>0</td>\n",
       "      <td>0</td>\n",
       "    </tr>\n",
       "    <tr>\n",
       "      <th>BDX</th>\n",
       "      <td>9.802226e+08</td>\n",
       "      <td>1400222610</td>\n",
       "      <td>0</td>\n",
       "      <td>0</td>\n",
       "      <td>0</td>\n",
       "      <td>0</td>\n",
       "      <td>0</td>\n",
       "      <td>0</td>\n",
       "      <td>0</td>\n",
       "      <td>0</td>\n",
       "      <td>...</td>\n",
       "      <td>0</td>\n",
       "      <td>0</td>\n",
       "      <td>0</td>\n",
       "      <td>0</td>\n",
       "      <td>0</td>\n",
       "      <td>0</td>\n",
       "      <td>0</td>\n",
       "      <td>0</td>\n",
       "      <td>0</td>\n",
       "      <td>0</td>\n",
       "    </tr>\n",
       "    <tr>\n",
       "      <th>ZEN</th>\n",
       "      <td>7.296538e+06</td>\n",
       "      <td>21000000</td>\n",
       "      <td>0</td>\n",
       "      <td>0</td>\n",
       "      <td>0</td>\n",
       "      <td>0</td>\n",
       "      <td>0</td>\n",
       "      <td>0</td>\n",
       "      <td>0</td>\n",
       "      <td>0</td>\n",
       "      <td>...</td>\n",
       "      <td>0</td>\n",
       "      <td>0</td>\n",
       "      <td>0</td>\n",
       "      <td>0</td>\n",
       "      <td>0</td>\n",
       "      <td>0</td>\n",
       "      <td>0</td>\n",
       "      <td>0</td>\n",
       "      <td>0</td>\n",
       "      <td>0</td>\n",
       "    </tr>\n",
       "    <tr>\n",
       "      <th>XBC</th>\n",
       "      <td>1.283270e+05</td>\n",
       "      <td>1000000</td>\n",
       "      <td>0</td>\n",
       "      <td>0</td>\n",
       "      <td>0</td>\n",
       "      <td>0</td>\n",
       "      <td>0</td>\n",
       "      <td>0</td>\n",
       "      <td>0</td>\n",
       "      <td>0</td>\n",
       "      <td>...</td>\n",
       "      <td>0</td>\n",
       "      <td>0</td>\n",
       "      <td>0</td>\n",
       "      <td>0</td>\n",
       "      <td>0</td>\n",
       "      <td>0</td>\n",
       "      <td>0</td>\n",
       "      <td>0</td>\n",
       "      <td>0</td>\n",
       "      <td>0</td>\n",
       "    </tr>\n",
       "  </tbody>\n",
       "</table>\n",
       "<p>533 rows × 100 columns</p>\n",
       "</div>"
      ],
      "text/plain": [
       "      TotalCoinsMined TotalCoinSupply  Algorithm_1GB AES Pattern Search  \\\n",
       "42       4.199995e+01              42                                 0   \n",
       "404      1.055185e+09       532000000                                 0   \n",
       "1337     2.927942e+10    314159265359                                 0   \n",
       "BTC      1.792718e+07        21000000                                 0   \n",
       "ETH      1.076842e+08               0                                 0   \n",
       "...               ...             ...                               ...   \n",
       "ZEPH     2.000000e+09      2000000000                                 0   \n",
       "GAP      1.493105e+07       250000000                                 0   \n",
       "BDX      9.802226e+08      1400222610                                 0   \n",
       "ZEN      7.296538e+06        21000000                                 0   \n",
       "XBC      1.283270e+05         1000000                                 0   \n",
       "\n",
       "      Algorithm_536  Algorithm_Argon2d  Algorithm_BLAKE256  Algorithm_Blake  \\\n",
       "42                0                  0                   0                0   \n",
       "404               0                  0                   0                0   \n",
       "1337              0                  0                   0                0   \n",
       "BTC               0                  0                   0                0   \n",
       "ETH               0                  0                   0                0   \n",
       "...             ...                ...                 ...              ...   \n",
       "ZEPH              0                  0                   0                0   \n",
       "GAP               0                  0                   0                0   \n",
       "BDX               0                  0                   0                0   \n",
       "ZEN               0                  0                   0                0   \n",
       "XBC               0                  0                   0                0   \n",
       "\n",
       "      Algorithm_Blake2S  Algorithm_Blake2b  Algorithm_C11  ...  \\\n",
       "42                    0                  0              0  ...   \n",
       "404                   0                  0              0  ...   \n",
       "1337                  0                  0              0  ...   \n",
       "BTC                   0                  0              0  ...   \n",
       "ETH                   0                  0              0  ...   \n",
       "...                 ...                ...            ...  ...   \n",
       "ZEPH                  0                  0              0  ...   \n",
       "GAP                   0                  0              0  ...   \n",
       "BDX                   0                  0              0  ...   \n",
       "ZEN                   0                  0              0  ...   \n",
       "XBC                   0                  0              0  ...   \n",
       "\n",
       "      ProofType_PoW/PoS  ProofType_PoW/PoS   ProofType_PoW/PoW  \\\n",
       "42                    1                   0                  0   \n",
       "404                   1                   0                  0   \n",
       "1337                  1                   0                  0   \n",
       "BTC                   0                   0                  0   \n",
       "ETH                   0                   0                  0   \n",
       "...                 ...                 ...                ...   \n",
       "ZEPH                  0                   0                  0   \n",
       "GAP                   1                   0                  0   \n",
       "BDX                   0                   0                  0   \n",
       "ZEN                   0                   0                  0   \n",
       "XBC                   0                   0                  0   \n",
       "\n",
       "      ProofType_PoW/nPoS  ProofType_Pos  ProofType_Proof of Authority  \\\n",
       "42                     0              0                             0   \n",
       "404                    0              0                             0   \n",
       "1337                   0              0                             0   \n",
       "BTC                    0              0                             0   \n",
       "ETH                    0              0                             0   \n",
       "...                  ...            ...                           ...   \n",
       "ZEPH                   0              0                             0   \n",
       "GAP                    0              0                             0   \n",
       "BDX                    0              0                             0   \n",
       "ZEN                    0              0                             0   \n",
       "XBC                    0              0                             0   \n",
       "\n",
       "      ProofType_Proof of Trust  ProofType_TPoS  \\\n",
       "42                           0               0   \n",
       "404                          0               0   \n",
       "1337                         0               0   \n",
       "BTC                          0               0   \n",
       "ETH                          0               0   \n",
       "...                        ...             ...   \n",
       "ZEPH                         0               0   \n",
       "GAP                          0               0   \n",
       "BDX                          0               0   \n",
       "ZEN                          0               0   \n",
       "XBC                          0               0   \n",
       "\n",
       "      ProofType_Zero-Knowledge Proof  ProofType_dPoW/PoW  \n",
       "42                                 0                   0  \n",
       "404                                0                   0  \n",
       "1337                               0                   0  \n",
       "BTC                                0                   0  \n",
       "ETH                                0                   0  \n",
       "...                              ...                 ...  \n",
       "ZEPH                               0                   0  \n",
       "GAP                                0                   0  \n",
       "BDX                                0                   0  \n",
       "ZEN                                0                   0  \n",
       "XBC                                0                   0  \n",
       "\n",
       "[533 rows x 100 columns]"
      ]
     },
     "execution_count": 208,
     "metadata": {},
     "output_type": "execute_result"
    }
   ],
   "source": [
    "# Use get_dummies() to create variables for text features.\n",
    "X = pd.get_dummies(crypto_df, columns = ['Algorithm','ProofType'])\n",
    "X"
   ]
  },
  {
   "cell_type": "code",
   "execution_count": 209,
   "metadata": {},
   "outputs": [
    {
     "data": {
      "text/plain": [
       "array([[-0.11674788, -0.15286468, -0.0433555 , ..., -0.0433555 ,\n",
       "        -0.0433555 , -0.0433555 ],\n",
       "       [-0.09358885, -0.14499604, -0.0433555 , ..., -0.0433555 ,\n",
       "        -0.0433555 , -0.0433555 ],\n",
       "       [ 0.52587231,  4.4937636 , -0.0433555 , ..., -0.0433555 ,\n",
       "        -0.0433555 , -0.0433555 ],\n",
       "       ...,\n",
       "       [-0.09523411, -0.13215444, -0.0433555 , ..., -0.0433555 ,\n",
       "        -0.0433555 , -0.0433555 ],\n",
       "       [-0.11658774, -0.15255408, -0.0433555 , ..., -0.0433555 ,\n",
       "        -0.0433555 , -0.0433555 ],\n",
       "       [-0.11674507, -0.15284989, -0.0433555 , ..., -0.0433555 ,\n",
       "        -0.0433555 , -0.0433555 ]])"
      ]
     },
     "execution_count": 209,
     "metadata": {},
     "output_type": "execute_result"
    }
   ],
   "source": [
    "# Standardize the data with StandardScaler().\n",
    "crypto_scaled = StandardScaler().fit_transform(X)\n",
    "crypto_scaled"
   ]
  },
  {
   "cell_type": "markdown",
   "metadata": {},
   "source": [
    "### Deliverable 2: Reducing Data Dimensions Using PCA"
   ]
  },
  {
   "cell_type": "code",
   "execution_count": 210,
   "metadata": {},
   "outputs": [],
   "source": [
    "# Using PCA to reduce dimension to three principal components.\n",
    "# Initialize PCA model\n",
    "pca = PCA(n_components=3)\n",
    "# Get 3 principal components for the crypto data.\n",
    "crypto_pca = pca.fit_transform(crypto_scaled)"
   ]
  },
  {
   "cell_type": "code",
   "execution_count": 211,
   "metadata": {},
   "outputs": [
    {
     "data": {
      "text/plain": [
       "(533, 3)"
      ]
     },
     "execution_count": 211,
     "metadata": {},
     "output_type": "execute_result"
    }
   ],
   "source": [
    "crypto_pca.shape"
   ]
  },
  {
   "cell_type": "code",
   "execution_count": 212,
   "metadata": {},
   "outputs": [
    {
     "data": {
      "text/html": [
       "<div>\n",
       "<style scoped>\n",
       "    .dataframe tbody tr th:only-of-type {\n",
       "        vertical-align: middle;\n",
       "    }\n",
       "\n",
       "    .dataframe tbody tr th {\n",
       "        vertical-align: top;\n",
       "    }\n",
       "\n",
       "    .dataframe thead th {\n",
       "        text-align: right;\n",
       "    }\n",
       "</style>\n",
       "<table border=\"1\" class=\"dataframe\">\n",
       "  <thead>\n",
       "    <tr style=\"text-align: right;\">\n",
       "      <th></th>\n",
       "      <th>PC 1</th>\n",
       "      <th>PC 2</th>\n",
       "      <th>PC 3</th>\n",
       "    </tr>\n",
       "  </thead>\n",
       "  <tbody>\n",
       "    <tr>\n",
       "      <th>42</th>\n",
       "      <td>-0.343580</td>\n",
       "      <td>0.951781</td>\n",
       "      <td>-0.601579</td>\n",
       "    </tr>\n",
       "    <tr>\n",
       "      <th>404</th>\n",
       "      <td>-0.326825</td>\n",
       "      <td>0.951802</td>\n",
       "      <td>-0.601937</td>\n",
       "    </tr>\n",
       "    <tr>\n",
       "      <th>1337</th>\n",
       "      <td>2.326104</td>\n",
       "      <td>1.624823</td>\n",
       "      <td>-0.746592</td>\n",
       "    </tr>\n",
       "    <tr>\n",
       "      <th>BTC</th>\n",
       "      <td>-0.139467</td>\n",
       "      <td>-1.297781</td>\n",
       "      <td>0.187405</td>\n",
       "    </tr>\n",
       "    <tr>\n",
       "      <th>ETH</th>\n",
       "      <td>-0.148775</td>\n",
       "      <td>-2.013696</td>\n",
       "      <td>0.471580</td>\n",
       "    </tr>\n",
       "    <tr>\n",
       "      <th>LTC</th>\n",
       "      <td>-0.172768</td>\n",
       "      <td>-1.177931</td>\n",
       "      <td>0.035949</td>\n",
       "    </tr>\n",
       "    <tr>\n",
       "      <th>DASH</th>\n",
       "      <td>-0.396323</td>\n",
       "      <td>1.282262</td>\n",
       "      <td>-0.583584</td>\n",
       "    </tr>\n",
       "    <tr>\n",
       "      <th>XMR</th>\n",
       "      <td>-0.154916</td>\n",
       "      <td>-2.160572</td>\n",
       "      <td>0.432251</td>\n",
       "    </tr>\n",
       "    <tr>\n",
       "      <th>ETC</th>\n",
       "      <td>-0.147208</td>\n",
       "      <td>-2.013807</td>\n",
       "      <td>0.471577</td>\n",
       "    </tr>\n",
       "    <tr>\n",
       "      <th>ZEC</th>\n",
       "      <td>-0.151624</td>\n",
       "      <td>-1.936377</td>\n",
       "      <td>0.389217</td>\n",
       "    </tr>\n",
       "  </tbody>\n",
       "</table>\n",
       "</div>"
      ],
      "text/plain": [
       "          PC 1      PC 2      PC 3\n",
       "42   -0.343580  0.951781 -0.601579\n",
       "404  -0.326825  0.951802 -0.601937\n",
       "1337  2.326104  1.624823 -0.746592\n",
       "BTC  -0.139467 -1.297781  0.187405\n",
       "ETH  -0.148775 -2.013696  0.471580\n",
       "LTC  -0.172768 -1.177931  0.035949\n",
       "DASH -0.396323  1.282262 -0.583584\n",
       "XMR  -0.154916 -2.160572  0.432251\n",
       "ETC  -0.147208 -2.013807  0.471577\n",
       "ZEC  -0.151624 -1.936377  0.389217"
      ]
     },
     "execution_count": 212,
     "metadata": {},
     "output_type": "execute_result"
    }
   ],
   "source": [
    "# Create a DataFrame with the three principal components.\n",
    "df_crypto_pca = pd.DataFrame(data=crypto_pca, columns=[\"PC 1\", \"PC 2\", \"PC 3\"], index=crypto_df.index)\n",
    "df_crypto_pca.head(10)"
   ]
  },
  {
   "cell_type": "markdown",
   "metadata": {},
   "source": [
    "### Deliverable 3: Clustering Crytocurrencies Using K-Means\n",
    "\n",
    "#### Finding the Best Value for `k` Using the Elbow Curve"
   ]
  },
  {
   "cell_type": "code",
   "execution_count": 213,
   "metadata": {},
   "outputs": [
    {
     "data": {},
     "metadata": {},
     "output_type": "display_data"
    },
    {
     "data": {
      "application/vnd.holoviews_exec.v0+json": "",
      "text/html": [
       "<div id='2637'>\n",
       "\n",
       "\n",
       "\n",
       "\n",
       "\n",
       "  <div class=\"bk-root\" id=\"ea7cd7d1-9eeb-4dc5-986c-0d48979b25d5\" data-root-id=\"2637\"></div>\n",
       "</div>\n",
       "<script type=\"application/javascript\">(function(root) {\n",
       "  function embed_document(root) {\n",
       "    var docs_json = {\"5896cd9f-aa4e-456e-9812-3642dbcb5638\":{\"roots\":{\"references\":[{\"attributes\":{\"bottom_units\":\"screen\",\"fill_alpha\":0.5,\"fill_color\":\"lightgrey\",\"left_units\":\"screen\",\"level\":\"overlay\",\"line_alpha\":1.0,\"line_color\":\"black\",\"line_dash\":[4,4],\"line_width\":2,\"right_units\":\"screen\",\"top_units\":\"screen\"},\"id\":\"2664\",\"type\":\"BoxAnnotation\"},{\"attributes\":{\"callback\":null,\"renderers\":[{\"id\":\"2678\"}],\"tags\":[\"hv_created\"],\"tooltips\":[[\"k\",\"@{k}\"],[\"inertia\",\"@{inertia}\"]]},\"id\":\"2641\",\"type\":\"HoverTool\"},{\"attributes\":{},\"id\":\"2692\",\"type\":\"UnionRenderers\"},{\"attributes\":{},\"id\":\"2673\",\"type\":\"Selection\"},{\"attributes\":{\"text\":\"Elbow Curve\",\"text_color\":{\"value\":\"black\"},\"text_font_size\":{\"value\":\"12pt\"}},\"id\":\"2643\",\"type\":\"Title\"},{\"attributes\":{\"end\":3999.157766291534,\"reset_end\":3999.157766291534,\"reset_start\":-222.39908924194523,\"start\":-222.39908924194523,\"tags\":[[[\"inertia\",\"inertia\",null]]]},\"id\":\"2640\",\"type\":\"Range1d\"},{\"attributes\":{},\"id\":\"2681\",\"type\":\"BasicTickFormatter\"},{\"attributes\":{},\"id\":\"2685\",\"type\":\"BasicTickFormatter\"},{\"attributes\":{\"end\":10.0,\"reset_end\":10.0,\"reset_start\":1.0,\"start\":1.0,\"tags\":[[[\"k\",\"k\",null]]]},\"id\":\"2639\",\"type\":\"Range1d\"},{\"attributes\":{\"axis\":{\"id\":\"2651\"},\"grid_line_color\":null,\"ticker\":null},\"id\":\"2654\",\"type\":\"Grid\"},{\"attributes\":{},\"id\":\"2647\",\"type\":\"LinearScale\"},{\"attributes\":{\"below\":[{\"id\":\"2651\"}],\"center\":[{\"id\":\"2654\"},{\"id\":\"2658\"}],\"left\":[{\"id\":\"2655\"}],\"margin\":[5,5,5,5],\"min_border_bottom\":10,\"min_border_left\":10,\"min_border_right\":10,\"min_border_top\":10,\"plot_height\":300,\"plot_width\":700,\"renderers\":[{\"id\":\"2678\"}],\"sizing_mode\":\"fixed\",\"title\":{\"id\":\"2643\"},\"toolbar\":{\"id\":\"2665\"},\"x_range\":{\"id\":\"2639\"},\"x_scale\":{\"id\":\"2647\"},\"y_range\":{\"id\":\"2640\"},\"y_scale\":{\"id\":\"2649\"}},\"id\":\"2642\",\"subtype\":\"Figure\",\"type\":\"Plot\"},{\"attributes\":{},\"id\":\"2660\",\"type\":\"PanTool\"},{\"attributes\":{},\"id\":\"2649\",\"type\":\"LinearScale\"},{\"attributes\":{\"axis_label\":\"k\",\"bounds\":\"auto\",\"formatter\":{\"id\":\"2681\"},\"major_label_orientation\":\"horizontal\",\"ticker\":{\"id\":\"2680\"}},\"id\":\"2651\",\"type\":\"LinearAxis\"},{\"attributes\":{\"axis\":{\"id\":\"2655\"},\"dimension\":1,\"grid_line_color\":null,\"ticker\":null},\"id\":\"2658\",\"type\":\"Grid\"},{\"attributes\":{\"line_alpha\":0.2,\"line_color\":\"#30a2da\",\"line_width\":2,\"x\":{\"field\":\"k\"},\"y\":{\"field\":\"inertia\"}},\"id\":\"2677\",\"type\":\"Line\"},{\"attributes\":{\"axis_label\":\"inertia\",\"bounds\":\"auto\",\"formatter\":{\"id\":\"2685\"},\"major_label_orientation\":\"horizontal\",\"ticker\":{\"id\":\"2656\"}},\"id\":\"2655\",\"type\":\"LinearAxis\"},{\"attributes\":{},\"id\":\"2656\",\"type\":\"BasicTicker\"},{\"attributes\":{\"margin\":[5,5,5,5],\"name\":\"HSpacer05098\",\"sizing_mode\":\"stretch_width\"},\"id\":\"2638\",\"type\":\"Spacer\"},{\"attributes\":{},\"id\":\"2661\",\"type\":\"WheelZoomTool\"},{\"attributes\":{\"active_drag\":\"auto\",\"active_inspect\":\"auto\",\"active_multi\":null,\"active_scroll\":\"auto\",\"active_tap\":\"auto\",\"tools\":[{\"id\":\"2641\"},{\"id\":\"2659\"},{\"id\":\"2660\"},{\"id\":\"2661\"},{\"id\":\"2662\"},{\"id\":\"2663\"}]},\"id\":\"2665\",\"type\":\"Toolbar\"},{\"attributes\":{},\"id\":\"2659\",\"type\":\"SaveTool\"},{\"attributes\":{\"overlay\":{\"id\":\"2664\"}},\"id\":\"2662\",\"type\":\"BoxZoomTool\"},{\"attributes\":{},\"id\":\"2663\",\"type\":\"ResetTool\"},{\"attributes\":{\"line_color\":\"#30a2da\",\"line_width\":2,\"x\":{\"field\":\"k\"},\"y\":{\"field\":\"inertia\"}},\"id\":\"2675\",\"type\":\"Line\"},{\"attributes\":{\"line_alpha\":0.1,\"line_color\":\"#30a2da\",\"line_width\":2,\"x\":{\"field\":\"k\"},\"y\":{\"field\":\"inertia\"}},\"id\":\"2676\",\"type\":\"Line\"},{\"attributes\":{\"children\":[{\"id\":\"2638\"},{\"id\":\"2642\"},{\"id\":\"2701\"}],\"margin\":[0,0,0,0],\"name\":\"Row05094\",\"tags\":[\"embedded\"]},\"id\":\"2637\",\"type\":\"Row\"},{\"attributes\":{\"data_source\":{\"id\":\"2672\"},\"glyph\":{\"id\":\"2675\"},\"hover_glyph\":null,\"muted_glyph\":{\"id\":\"2677\"},\"nonselection_glyph\":{\"id\":\"2676\"},\"selection_glyph\":null,\"view\":{\"id\":\"2679\"}},\"id\":\"2678\",\"type\":\"GlyphRenderer\"},{\"attributes\":{\"margin\":[5,5,5,5],\"name\":\"HSpacer05099\",\"sizing_mode\":\"stretch_width\"},\"id\":\"2701\",\"type\":\"Spacer\"},{\"attributes\":{\"source\":{\"id\":\"2672\"}},\"id\":\"2679\",\"type\":\"CDSView\"},{\"attributes\":{\"ticks\":[1,2,3,4,5,6,7,8,9,10]},\"id\":\"2680\",\"type\":\"FixedTicker\"},{\"attributes\":{\"data\":{\"inertia\":{\"__ndarray__\":\"nl9lBLl+rECvVSDnXFGjQP4m6OMyUZdApwt+jSPifkBrre01StR0QEFL60ruI3FAwt8LOLTAa0CBqmxLc0xnQFaGYmgosmNA04zBzrYsYEA=\",\"dtype\":\"float64\",\"order\":\"little\",\"shape\":[10]},\"k\":[1,2,3,4,5,6,7,8,9,10]},\"selected\":{\"id\":\"2673\"},\"selection_policy\":{\"id\":\"2692\"}},\"id\":\"2672\",\"type\":\"ColumnDataSource\"}],\"root_ids\":[\"2637\"]},\"title\":\"Bokeh Application\",\"version\":\"2.2.3\"}};\n",
       "    var render_items = [{\"docid\":\"5896cd9f-aa4e-456e-9812-3642dbcb5638\",\"root_ids\":[\"2637\"],\"roots\":{\"2637\":\"ea7cd7d1-9eeb-4dc5-986c-0d48979b25d5\"}}];\n",
       "    root.Bokeh.embed.embed_items_notebook(docs_json, render_items);\n",
       "  }\n",
       "  if (root.Bokeh !== undefined && root.Bokeh.Panel !== undefined) {\n",
       "    embed_document(root);\n",
       "  } else {\n",
       "    var attempts = 0;\n",
       "    var timer = setInterval(function(root) {\n",
       "      if (root.Bokeh !== undefined && root.Bokeh.Panel !== undefined) {\n",
       "        clearInterval(timer);\n",
       "        embed_document(root);\n",
       "      } else if (document.readyState == \"complete\") {\n",
       "        attempts++;\n",
       "        if (attempts > 100) {\n",
       "          clearInterval(timer);\n",
       "          console.log(\"Bokeh: ERROR: Unable to run BokehJS code because BokehJS library is missing\");\n",
       "        }\n",
       "      }\n",
       "    }, 10, root)\n",
       "  }\n",
       "})(window);</script>"
      ],
      "text/plain": [
       ":Curve   [k]   (inertia)"
      ]
     },
     "execution_count": 213,
     "metadata": {
      "application/vnd.holoviews_exec.v0+json": {
       "id": "2637"
      }
     },
     "output_type": "execute_result"
    }
   ],
   "source": [
    "# Create an elbow curve to find the best value for K.\n",
    "\n",
    "# Find the best value for K\n",
    "inertia = []\n",
    "k = list(range(1, 11))\n",
    "\n",
    "# Calculate the inertia for the range of K values\n",
    "for i in k:\n",
    "    km = KMeans(n_clusters=i, random_state=0)\n",
    "    km.fit(df_crypto_pca)\n",
    "    inertia.append(km.inertia_)\n",
    "\n",
    "# Create the elbow curve\n",
    "elbow_data = {\"k\": k, \"inertia\": inertia}\n",
    "df_elbow = pd.DataFrame(elbow_data)\n",
    "df_elbow.hvplot.line(x=\"k\", y=\"inertia\", xticks=k, title=\"Elbow Curve\")\n"
   ]
  },
  {
   "cell_type": "code",
   "execution_count": 214,
   "metadata": {},
   "outputs": [
    {
     "data": {
      "text/plain": [
       "[3647.361361663744,\n",
       " 2472.681450853786,\n",
       " 1492.2996975206183,\n",
       " 494.13367985950975,\n",
       " 333.26811783640613,\n",
       " 274.2456769171877,\n",
       " 222.021999381248,\n",
       " 186.38907405113062,\n",
       " 157.5674325870811,\n",
       " 129.39731538584473]"
      ]
     },
     "execution_count": 214,
     "metadata": {},
     "output_type": "execute_result"
    }
   ],
   "source": [
    "inertia"
   ]
  },
  {
   "cell_type": "markdown",
   "metadata": {},
   "source": [
    "Running K-Means with `k=4`"
   ]
  },
  {
   "cell_type": "code",
   "execution_count": 215,
   "metadata": {},
   "outputs": [
    {
     "data": {
      "text/plain": [
       "array([0, 0, 0, 1, 1, 1, 0, 1, 1, 1, 0, 1, 0, 0, 1, 0, 1, 1, 0, 0, 1, 1,\n",
       "       1, 1, 1, 0, 1, 1, 1, 0, 1, 0, 1, 1, 0, 0, 1, 1, 1, 1, 1, 1, 0, 0,\n",
       "       1, 1, 1, 1, 1, 0, 0, 1, 0, 1, 1, 1, 1, 0, 1, 1, 0, 1, 0, 0, 0, 1,\n",
       "       1, 1, 0, 0, 0, 0, 0, 1, 1, 1, 0, 0, 1, 0, 1, 0, 0, 1, 1, 1, 1, 0,\n",
       "       0, 1, 0, 1, 1, 0, 0, 1, 0, 0, 1, 1, 0, 0, 1, 0, 0, 1, 0, 1, 0, 1,\n",
       "       0, 1, 0, 0, 1, 1, 0, 1, 1, 1, 0, 1, 1, 1, 1, 1, 0, 0, 1, 1, 1, 0,\n",
       "       1, 0, 1, 1, 0, 1, 0, 1, 0, 0, 1, 1, 0, 1, 1, 0, 0, 1, 0, 1, 0, 0,\n",
       "       0, 1, 1, 1, 1, 0, 0, 0, 0, 0, 1, 1, 0, 0, 0, 0, 0, 1, 0, 0, 0, 0,\n",
       "       0, 1, 0, 1, 0, 0, 1, 0, 1, 0, 0, 1, 0, 1, 0, 1, 0, 1, 0, 0, 0, 0,\n",
       "       1, 0, 0, 0, 0, 0, 1, 1, 0, 0, 1, 1, 0, 0, 0, 0, 0, 1, 0, 0, 0, 0,\n",
       "       0, 0, 0, 0, 1, 0, 0, 0, 0, 0, 0, 1, 1, 1, 0, 0, 0, 0, 1, 0, 1, 0,\n",
       "       0, 1, 0, 1, 1, 0, 1, 1, 0, 1, 0, 0, 0, 1, 0, 0, 1, 0, 0, 0, 0, 0,\n",
       "       0, 0, 1, 0, 1, 0, 0, 0, 0, 1, 0, 1, 0, 1, 1, 1, 1, 0, 1, 0, 0, 1,\n",
       "       0, 1, 1, 1, 0, 1, 0, 1, 1, 1, 0, 1, 0, 1, 0, 0, 3, 1, 0, 1, 1, 1,\n",
       "       1, 1, 0, 0, 1, 0, 0, 0, 1, 0, 1, 0, 1, 0, 1, 0, 0, 0, 0, 1, 0, 0,\n",
       "       1, 0, 0, 0, 1, 1, 1, 1, 0, 0, 0, 0, 1, 0, 1, 1, 1, 0, 0, 1, 1, 0,\n",
       "       0, 1, 0, 1, 1, 1, 0, 1, 1, 0, 0, 0, 1, 1, 1, 0, 1, 0, 1, 1, 0, 1,\n",
       "       1, 1, 1, 0, 3, 0, 1, 1, 1, 0, 3, 0, 0, 0, 0, 1, 1, 1, 1, 0, 0, 0,\n",
       "       1, 0, 1, 0, 0, 0, 0, 1, 0, 0, 1, 0, 0, 1, 1, 0, 1, 0, 1, 1, 1, 1,\n",
       "       0, 0, 1, 0, 1, 0, 0, 0, 0, 0, 0, 1, 1, 1, 0, 0, 0, 0, 0, 0, 1, 0,\n",
       "       1, 1, 1, 1, 0, 0, 0, 0, 1, 0, 0, 1, 0, 0, 1, 3, 1, 0, 1, 1, 0, 0,\n",
       "       1, 0, 1, 1, 0, 1, 1, 0, 1, 0, 1, 0, 0, 1, 0, 0, 0, 0, 0, 1, 1, 1,\n",
       "       0, 0, 0, 1, 0, 1, 0, 1, 0, 0, 0, 0, 1, 0, 0, 0, 1, 0, 1, 0, 1, 0,\n",
       "       0, 0, 1, 1, 0, 0, 0, 0, 0, 0, 3, 1, 0, 1, 0, 1, 0, 0, 3, 0, 2, 0,\n",
       "       0, 0, 1, 1, 0], dtype=int32)"
      ]
     },
     "execution_count": 215,
     "metadata": {},
     "output_type": "execute_result"
    }
   ],
   "source": [
    "# Initialize the K-means model\n",
    "model = KMeans(n_clusters=4, random_state=0)\n",
    "\n",
    "# Fit the model\n",
    "model.fit(df_crypto_pca)\n",
    "\n",
    "# Predict clusters\n",
    "predictions = model.predict(df_crypto_pca)\n",
    "predictions\n",
    "# print(predictions.shape)\n"
   ]
  },
  {
   "cell_type": "code",
   "execution_count": 218,
   "metadata": {},
   "outputs": [
    {
     "name": "stdout",
     "output_type": "stream",
     "text": [
      "(533, 9)\n"
     ]
    },
    {
     "data": {
      "text/html": [
       "<div>\n",
       "<style scoped>\n",
       "    .dataframe tbody tr th:only-of-type {\n",
       "        vertical-align: middle;\n",
       "    }\n",
       "\n",
       "    .dataframe tbody tr th {\n",
       "        vertical-align: top;\n",
       "    }\n",
       "\n",
       "    .dataframe thead th {\n",
       "        text-align: right;\n",
       "    }\n",
       "</style>\n",
       "<table border=\"1\" class=\"dataframe\">\n",
       "  <thead>\n",
       "    <tr style=\"text-align: right;\">\n",
       "      <th></th>\n",
       "      <th>Algorithm</th>\n",
       "      <th>ProofType</th>\n",
       "      <th>TotalCoinsMined</th>\n",
       "      <th>TotalCoinSupply</th>\n",
       "      <th>PC 1</th>\n",
       "      <th>PC 2</th>\n",
       "      <th>PC 3</th>\n",
       "      <th>CoinName</th>\n",
       "      <th>class</th>\n",
       "    </tr>\n",
       "  </thead>\n",
       "  <tbody>\n",
       "    <tr>\n",
       "      <th>42</th>\n",
       "      <td>Scrypt</td>\n",
       "      <td>PoW/PoS</td>\n",
       "      <td>4.199995e+01</td>\n",
       "      <td>42</td>\n",
       "      <td>-0.343580</td>\n",
       "      <td>0.951781</td>\n",
       "      <td>-0.601579</td>\n",
       "      <td>42 Coin</td>\n",
       "      <td>0</td>\n",
       "    </tr>\n",
       "    <tr>\n",
       "      <th>404</th>\n",
       "      <td>Scrypt</td>\n",
       "      <td>PoW/PoS</td>\n",
       "      <td>1.055185e+09</td>\n",
       "      <td>532000000</td>\n",
       "      <td>-0.326825</td>\n",
       "      <td>0.951802</td>\n",
       "      <td>-0.601937</td>\n",
       "      <td>404Coin</td>\n",
       "      <td>0</td>\n",
       "    </tr>\n",
       "    <tr>\n",
       "      <th>1337</th>\n",
       "      <td>X13</td>\n",
       "      <td>PoW/PoS</td>\n",
       "      <td>2.927942e+10</td>\n",
       "      <td>314159265359</td>\n",
       "      <td>2.326104</td>\n",
       "      <td>1.624823</td>\n",
       "      <td>-0.746592</td>\n",
       "      <td>EliteCoin</td>\n",
       "      <td>0</td>\n",
       "    </tr>\n",
       "    <tr>\n",
       "      <th>BTC</th>\n",
       "      <td>SHA-256</td>\n",
       "      <td>PoW</td>\n",
       "      <td>1.792718e+07</td>\n",
       "      <td>21000000</td>\n",
       "      <td>-0.139467</td>\n",
       "      <td>-1.297781</td>\n",
       "      <td>0.187405</td>\n",
       "      <td>Bitcoin</td>\n",
       "      <td>1</td>\n",
       "    </tr>\n",
       "    <tr>\n",
       "      <th>ETH</th>\n",
       "      <td>Ethash</td>\n",
       "      <td>PoW</td>\n",
       "      <td>1.076842e+08</td>\n",
       "      <td>0</td>\n",
       "      <td>-0.148775</td>\n",
       "      <td>-2.013696</td>\n",
       "      <td>0.471580</td>\n",
       "      <td>Ethereum</td>\n",
       "      <td>1</td>\n",
       "    </tr>\n",
       "    <tr>\n",
       "      <th>LTC</th>\n",
       "      <td>Scrypt</td>\n",
       "      <td>PoW</td>\n",
       "      <td>6.303924e+07</td>\n",
       "      <td>84000000</td>\n",
       "      <td>-0.172768</td>\n",
       "      <td>-1.177931</td>\n",
       "      <td>0.035949</td>\n",
       "      <td>Litecoin</td>\n",
       "      <td>1</td>\n",
       "    </tr>\n",
       "    <tr>\n",
       "      <th>DASH</th>\n",
       "      <td>X11</td>\n",
       "      <td>PoW/PoS</td>\n",
       "      <td>9.031294e+06</td>\n",
       "      <td>22000000</td>\n",
       "      <td>-0.396323</td>\n",
       "      <td>1.282262</td>\n",
       "      <td>-0.583584</td>\n",
       "      <td>Dash</td>\n",
       "      <td>0</td>\n",
       "    </tr>\n",
       "    <tr>\n",
       "      <th>XMR</th>\n",
       "      <td>CryptoNight-V7</td>\n",
       "      <td>PoW</td>\n",
       "      <td>1.720114e+07</td>\n",
       "      <td>0</td>\n",
       "      <td>-0.154916</td>\n",
       "      <td>-2.160572</td>\n",
       "      <td>0.432251</td>\n",
       "      <td>Monero</td>\n",
       "      <td>1</td>\n",
       "    </tr>\n",
       "    <tr>\n",
       "      <th>ETC</th>\n",
       "      <td>Ethash</td>\n",
       "      <td>PoW</td>\n",
       "      <td>1.133597e+08</td>\n",
       "      <td>210000000</td>\n",
       "      <td>-0.147208</td>\n",
       "      <td>-2.013807</td>\n",
       "      <td>0.471577</td>\n",
       "      <td>Ethereum Classic</td>\n",
       "      <td>1</td>\n",
       "    </tr>\n",
       "    <tr>\n",
       "      <th>ZEC</th>\n",
       "      <td>Equihash</td>\n",
       "      <td>PoW</td>\n",
       "      <td>7.383056e+06</td>\n",
       "      <td>21000000</td>\n",
       "      <td>-0.151624</td>\n",
       "      <td>-1.936377</td>\n",
       "      <td>0.389217</td>\n",
       "      <td>ZCash</td>\n",
       "      <td>1</td>\n",
       "    </tr>\n",
       "  </tbody>\n",
       "</table>\n",
       "</div>"
      ],
      "text/plain": [
       "           Algorithm ProofType  TotalCoinsMined TotalCoinSupply      PC 1  \\\n",
       "42            Scrypt   PoW/PoS     4.199995e+01              42 -0.343580   \n",
       "404           Scrypt   PoW/PoS     1.055185e+09       532000000 -0.326825   \n",
       "1337             X13   PoW/PoS     2.927942e+10    314159265359  2.326104   \n",
       "BTC          SHA-256       PoW     1.792718e+07        21000000 -0.139467   \n",
       "ETH           Ethash       PoW     1.076842e+08               0 -0.148775   \n",
       "LTC           Scrypt       PoW     6.303924e+07        84000000 -0.172768   \n",
       "DASH             X11   PoW/PoS     9.031294e+06        22000000 -0.396323   \n",
       "XMR   CryptoNight-V7       PoW     1.720114e+07               0 -0.154916   \n",
       "ETC           Ethash       PoW     1.133597e+08       210000000 -0.147208   \n",
       "ZEC         Equihash       PoW     7.383056e+06        21000000 -0.151624   \n",
       "\n",
       "          PC 2      PC 3          CoinName  class  \n",
       "42    0.951781 -0.601579           42 Coin      0  \n",
       "404   0.951802 -0.601937           404Coin      0  \n",
       "1337  1.624823 -0.746592         EliteCoin      0  \n",
       "BTC  -1.297781  0.187405           Bitcoin      1  \n",
       "ETH  -2.013696  0.471580          Ethereum      1  \n",
       "LTC  -1.177931  0.035949          Litecoin      1  \n",
       "DASH  1.282262 -0.583584              Dash      0  \n",
       "XMR  -2.160572  0.432251            Monero      1  \n",
       "ETC  -2.013807  0.471577  Ethereum Classic      1  \n",
       "ZEC  -1.936377  0.389217             ZCash      1  "
      ]
     },
     "execution_count": 218,
     "metadata": {},
     "output_type": "execute_result"
    }
   ],
   "source": [
    "# Create a new DataFrame including predicted clusters and cryptocurrencies features.\n",
    "# Concatentate the crypto_df and pcs_df DataFrames on the same columns.\n",
    "clustered_df = pd.concat([crypto_df, df_crypto_pca], axis=1)\n",
    "# clustered_df = crypto_df.append([df_crypto_pca])\n",
    "\n",
    "#  Add a new column, \"CoinName\" to the clustered_df DataFrame that holds the names of the cryptocurrencies. \n",
    "clustered_df[\"CoinName\"] = coinNames_df[\"CoinName\"]\n",
    "\n",
    "#  Add a new column, \"Class\" to the clustered_df DataFrame that holds the predictions.\n",
    "clustered_df[\"class\"] = model.labels_\n",
    "\n",
    "# Print the shape of the clustered_df\n",
    "print(clustered_df.shape)\n",
    "clustered_df.head(10)"
   ]
  },
  {
   "cell_type": "markdown",
   "metadata": {},
   "source": [
    "### Deliverable 4: Visualizing Cryptocurrencies Results\n",
    "\n",
    "#### 3D-Scatter with Clusters"
   ]
  },
  {
   "cell_type": "code",
   "execution_count": 219,
   "metadata": {},
   "outputs": [
    {
     "data": {
      "application/vnd.plotly.v1+json": {
       "config": {
        "plotlyServerURL": "https://plot.ly"
       },
       "data": [
        {
         "customdata": [
          [
           "Scrypt"
          ],
          [
           "Scrypt"
          ],
          [
           "X13"
          ],
          [
           "SHA-256"
          ],
          [
           "Ethash"
          ],
          [
           "Scrypt"
          ],
          [
           "X11"
          ],
          [
           "CryptoNight-V7"
          ],
          [
           "Ethash"
          ],
          [
           "Equihash"
          ],
          [
           "SHA-512"
          ],
          [
           "Multiple"
          ],
          [
           "SHA-256"
          ],
          [
           "SHA-256"
          ],
          [
           "Scrypt"
          ],
          [
           "X15"
          ],
          [
           "X11"
          ],
          [
           "Scrypt"
          ],
          [
           "Scrypt"
          ],
          [
           "Scrypt"
          ],
          [
           "Multiple"
          ],
          [
           "Scrypt"
          ],
          [
           "SHA-256"
          ],
          [
           "Scrypt"
          ],
          [
           "Scrypt"
          ],
          [
           "Scrypt"
          ],
          [
           "Quark"
          ],
          [
           "Groestl"
          ],
          [
           "Scrypt"
          ],
          [
           "Scrypt"
          ],
          [
           "Scrypt"
          ],
          [
           "Scrypt"
          ],
          [
           "Scrypt"
          ],
          [
           "X11"
          ],
          [
           "Scrypt"
          ],
          [
           "Groestl"
          ],
          [
           "Multiple"
          ],
          [
           "SHA-256"
          ],
          [
           "Scrypt"
          ],
          [
           "Scrypt"
          ],
          [
           "Scrypt"
          ],
          [
           "Scrypt"
          ],
          [
           "PoS"
          ],
          [
           "Scrypt"
          ],
          [
           "Scrypt"
          ],
          [
           "NeoScrypt"
          ],
          [
           "Scrypt"
          ],
          [
           "Scrypt"
          ],
          [
           "Scrypt"
          ],
          [
           "Scrypt"
          ],
          [
           "X11"
          ],
          [
           "Scrypt"
          ],
          [
           "X11"
          ],
          [
           "SHA-256"
          ],
          [
           "Scrypt"
          ],
          [
           "Scrypt"
          ],
          [
           "Scrypt"
          ],
          [
           "SHA3"
          ],
          [
           "Scrypt"
          ],
          [
           "HybridScryptHash256"
          ],
          [
           "Scrypt"
          ],
          [
           "Scrypt"
          ],
          [
           "SHA-256"
          ],
          [
           "Scrypt"
          ],
          [
           "X13"
          ],
          [
           "Scrypt"
          ],
          [
           "SHA-256"
          ],
          [
           "Scrypt"
          ],
          [
           "X13"
          ],
          [
           "NeoScrypt"
          ],
          [
           "Scrypt"
          ],
          [
           "Scrypt"
          ],
          [
           "Scrypt"
          ],
          [
           "Scrypt"
          ],
          [
           "Scrypt"
          ],
          [
           "Scrypt"
          ],
          [
           "X11"
          ],
          [
           "X11"
          ],
          [
           "SHA-256"
          ],
          [
           "Multiple"
          ],
          [
           "SHA-256"
          ],
          [
           "PHI1612"
          ],
          [
           "X11"
          ],
          [
           "SHA-256"
          ],
          [
           "SHA-256"
          ],
          [
           "SHA-256"
          ],
          [
           "X11"
          ],
          [
           "Scrypt"
          ],
          [
           "Scrypt"
          ],
          [
           "Scrypt"
          ],
          [
           "Scrypt"
          ],
          [
           "Lyra2REv2"
          ],
          [
           "Scrypt"
          ],
          [
           "X11"
          ],
          [
           "Multiple"
          ],
          [
           "SHA-256"
          ],
          [
           "X13"
          ],
          [
           "Scrypt"
          ],
          [
           "CryptoNight"
          ],
          [
           "CryptoNight"
          ],
          [
           "Shabal256"
          ],
          [
           "Counterparty"
          ],
          [
           "Scrypt"
          ],
          [
           "SHA-256"
          ],
          [
           "Groestl"
          ],
          [
           "Scrypt"
          ],
          [
           "Scrypt"
          ],
          [
           "Scrypt"
          ],
          [
           "X13"
          ],
          [
           "Scrypt"
          ],
          [
           "Scrypt"
          ],
          [
           "Scrypt"
          ],
          [
           "Scrypt"
          ],
          [
           "X13"
          ],
          [
           "Scrypt"
          ],
          [
           "Stanford Folding"
          ],
          [
           "X11"
          ],
          [
           "Multiple"
          ],
          [
           "QuBit"
          ],
          [
           "Scrypt"
          ],
          [
           "Scrypt"
          ],
          [
           "Scrypt"
          ],
          [
           "M7 POW"
          ],
          [
           "Scrypt"
          ],
          [
           "SHA-256"
          ],
          [
           "Scrypt"
          ],
          [
           "X11"
          ],
          [
           "SHA3"
          ],
          [
           "X11"
          ],
          [
           "Lyra2RE"
          ],
          [
           "SHA-256"
          ],
          [
           "QUAIT"
          ],
          [
           "X11"
          ],
          [
           "X11"
          ],
          [
           "Scrypt"
          ],
          [
           "Scrypt"
          ],
          [
           "Scrypt"
          ],
          [
           "Ethash"
          ],
          [
           "X13"
          ],
          [
           "Blake2b"
          ],
          [
           "SHA-256"
          ],
          [
           "X15"
          ],
          [
           "X11"
          ],
          [
           "SHA-256"
          ],
          [
           "BLAKE256"
          ],
          [
           "Scrypt"
          ],
          [
           "1GB AES Pattern Search"
          ],
          [
           "SHA-256"
          ],
          [
           "X11"
          ],
          [
           "Scrypt"
          ],
          [
           "SHA-256"
          ],
          [
           "SHA-256"
          ],
          [
           "NIST5"
          ],
          [
           "Scrypt"
          ],
          [
           "Scrypt"
          ],
          [
           "X11"
          ],
          [
           "Dagger"
          ],
          [
           "Scrypt"
          ],
          [
           "X11GOST"
          ],
          [
           "X11"
          ],
          [
           "Scrypt"
          ],
          [
           "SHA-256"
          ],
          [
           "Scrypt"
          ],
          [
           "PoS"
          ],
          [
           "Scrypt"
          ],
          [
           "X11"
          ],
          [
           "X11"
          ],
          [
           "SHA-256"
          ],
          [
           "SHA-256"
          ],
          [
           "NIST5"
          ],
          [
           "X11"
          ],
          [
           "Scrypt"
          ],
          [
           "POS 3.0"
          ],
          [
           "Scrypt"
          ],
          [
           "Scrypt"
          ],
          [
           "Scrypt"
          ],
          [
           "X13"
          ],
          [
           "X11"
          ],
          [
           "X11"
          ],
          [
           "Equihash"
          ],
          [
           "X11"
          ],
          [
           "Scrypt"
          ],
          [
           "CryptoNight"
          ],
          [
           "SHA-256"
          ],
          [
           "SHA-256"
          ],
          [
           "X11"
          ],
          [
           "Scrypt"
          ],
          [
           "Multiple"
          ],
          [
           "Scrypt"
          ],
          [
           "Scrypt"
          ],
          [
           "Scrypt"
          ],
          [
           "SHA-256"
          ],
          [
           "Scrypt"
          ],
          [
           "Scrypt"
          ],
          [
           "SHA-256D"
          ],
          [
           "PoS"
          ],
          [
           "Scrypt"
          ],
          [
           "X11"
          ],
          [
           "Lyra2Z"
          ],
          [
           "PoS"
          ],
          [
           "X13"
          ],
          [
           "X14"
          ],
          [
           "PoS"
          ],
          [
           "SHA-256D"
          ],
          [
           "Ethash"
          ],
          [
           "Equihash"
          ],
          [
           "DPoS"
          ],
          [
           "X11"
          ],
          [
           "Scrypt"
          ],
          [
           "X11"
          ],
          [
           "X13"
          ],
          [
           "X11"
          ],
          [
           "PoS"
          ],
          [
           "Scrypt"
          ],
          [
           "Scrypt"
          ],
          [
           "X11"
          ],
          [
           "PoS"
          ],
          [
           "X11"
          ],
          [
           "SHA-256"
          ],
          [
           "Scrypt"
          ],
          [
           "X11"
          ],
          [
           "Scrypt"
          ],
          [
           "Scrypt"
          ],
          [
           "X11"
          ],
          [
           "CryptoNight"
          ],
          [
           "Scrypt"
          ],
          [
           "Scrypt"
          ],
          [
           "Scrypt"
          ],
          [
           "Scrypt"
          ],
          [
           "Quark"
          ],
          [
           "QuBit"
          ],
          [
           "Scrypt"
          ],
          [
           "CryptoNight"
          ],
          [
           "Lyra2RE"
          ],
          [
           "Scrypt"
          ],
          [
           "SHA-256"
          ],
          [
           "X11"
          ],
          [
           "Scrypt"
          ],
          [
           "X11"
          ],
          [
           "Scrypt"
          ],
          [
           "CryptoNight-V7"
          ],
          [
           "Scrypt"
          ],
          [
           "Scrypt"
          ],
          [
           "Scrypt"
          ],
          [
           "X13"
          ],
          [
           "X11"
          ],
          [
           "Equihash"
          ],
          [
           "Scrypt"
          ],
          [
           "Scrypt"
          ],
          [
           "Lyra2RE"
          ],
          [
           "Scrypt"
          ],
          [
           "Dagger-Hashimoto"
          ],
          [
           "X11"
          ],
          [
           "Blake2S"
          ],
          [
           "X11"
          ],
          [
           "Scrypt"
          ],
          [
           "PoS"
          ],
          [
           "X11"
          ],
          [
           "NIST5"
          ],
          [
           "PoS"
          ],
          [
           "X11"
          ],
          [
           "Scrypt"
          ],
          [
           "Scrypt"
          ],
          [
           "Scrypt"
          ],
          [
           "SHA-256"
          ],
          [
           "X11"
          ],
          [
           "Scrypt"
          ],
          [
           "Scrypt"
          ],
          [
           "SHA-256"
          ],
          [
           "PoS"
          ],
          [
           "Scrypt"
          ],
          [
           "X15"
          ],
          [
           "SHA-256"
          ],
          [
           "Scrypt"
          ],
          [
           "POS 3.0"
          ],
          [
           "CryptoNight-V7"
          ],
          [
           "536"
          ],
          [
           "Argon2d"
          ],
          [
           "Blake2b"
          ],
          [
           "Cloverhash"
          ],
          [
           "CryptoNight"
          ],
          [
           "NIST5"
          ],
          [
           "X11"
          ],
          [
           "NIST5"
          ],
          [
           "Skein"
          ],
          [
           "Scrypt"
          ],
          [
           "X13"
          ],
          [
           "Scrypt"
          ],
          [
           "X11"
          ],
          [
           "X11"
          ],
          [
           "Scrypt"
          ],
          [
           "CryptoNight"
          ],
          [
           "X13"
          ],
          [
           "Time Travel"
          ],
          [
           "Scrypt"
          ],
          [
           "Keccak"
          ],
          [
           "SkunkHash v2 Raptor"
          ],
          [
           "X11"
          ],
          [
           "Skein"
          ],
          [
           "SHA-256"
          ],
          [
           "X11"
          ],
          [
           "Scrypt"
          ],
          [
           "VeChainThor Authority"
          ],
          [
           "Scrypt"
          ],
          [
           "PoS"
          ],
          [
           "Scrypt"
          ],
          [
           "Scrypt"
          ],
          [
           "Scrypt"
          ],
          [
           "Scrypt"
          ],
          [
           "Scrypt"
          ],
          [
           "Scrypt"
          ],
          [
           "Scrypt"
          ],
          [
           "CryptoNight"
          ],
          [
           "SHA-512"
          ],
          [
           "Ouroboros"
          ],
          [
           "X11"
          ],
          [
           "Equihash"
          ],
          [
           "NeoScrypt"
          ],
          [
           "X11"
          ],
          [
           "Scrypt"
          ],
          [
           "NeoScrypt"
          ],
          [
           "Lyra2REv2"
          ],
          [
           "Equihash"
          ],
          [
           "Scrypt"
          ],
          [
           "SHA-256"
          ],
          [
           "NIST5"
          ],
          [
           "PHI1612"
          ],
          [
           "Dagger"
          ],
          [
           "Scrypt"
          ],
          [
           "Quark"
          ],
          [
           "Scrypt"
          ],
          [
           "POS 2.0"
          ],
          [
           "Scrypt"
          ],
          [
           "SHA-256"
          ],
          [
           "X11"
          ],
          [
           "NeoScrypt"
          ],
          [
           "Ethash"
          ],
          [
           "NeoScrypt"
          ],
          [
           "X11"
          ],
          [
           "DPoS"
          ],
          [
           "NIST5"
          ],
          [
           "X13"
          ],
          [
           "Multiple"
          ],
          [
           "Scrypt"
          ],
          [
           "CryptoNight"
          ],
          [
           "CryptoNight"
          ],
          [
           "Ethash"
          ],
          [
           "NIST5"
          ],
          [
           "Quark"
          ],
          [
           "X11"
          ],
          [
           "CryptoNight-V7"
          ],
          [
           "Scrypt"
          ],
          [
           "Scrypt"
          ],
          [
           "Scrypt"
          ],
          [
           "X11"
          ],
          [
           "BLAKE256"
          ],
          [
           "X11"
          ],
          [
           "NeoScrypt"
          ],
          [
           "Quark"
          ],
          [
           "NeoScrypt"
          ],
          [
           "Scrypt"
          ],
          [
           "Scrypt"
          ],
          [
           "Scrypt"
          ],
          [
           "X11"
          ],
          [
           "X11"
          ],
          [
           "SHA-256"
          ],
          [
           "C11"
          ],
          [
           "POS 3.0"
          ],
          [
           "Ethash"
          ],
          [
           "Scrypt"
          ],
          [
           "CryptoNight"
          ],
          [
           "SkunkHash"
          ],
          [
           "Scrypt"
          ],
          [
           "CryptoNight"
          ],
          [
           "Scrypt"
          ],
          [
           "Dagger"
          ],
          [
           "Lyra2REv2"
          ],
          [
           "X13"
          ],
          [
           "Proof-of-BibleHash"
          ],
          [
           "SHA-256 + Hive"
          ],
          [
           "Scrypt"
          ],
          [
           "Scrypt"
          ],
          [
           "X11"
          ],
          [
           "C11"
          ],
          [
           "Proof-of-Authority"
          ],
          [
           "X11"
          ],
          [
           "XEVAN"
          ],
          [
           "Scrypt"
          ],
          [
           "VBFT"
          ],
          [
           "Ethash"
          ],
          [
           "CryptoNight"
          ],
          [
           "Scrypt"
          ],
          [
           "IMesh"
          ],
          [
           "NIST5"
          ],
          [
           "Scrypt"
          ],
          [
           "Scrypt"
          ],
          [
           "Equihash"
          ],
          [
           "Scrypt"
          ],
          [
           "Lyra2Z"
          ],
          [
           "Green Protocol"
          ],
          [
           "PoS"
          ],
          [
           "Scrypt"
          ],
          [
           "Semux BFT consensus"
          ],
          [
           "X11"
          ],
          [
           "Quark"
          ],
          [
           "PoS"
          ],
          [
           "CryptoNight"
          ],
          [
           "X16R"
          ],
          [
           "Scrypt"
          ],
          [
           "NIST5"
          ],
          [
           "Lyra2RE"
          ],
          [
           "XEVAN"
          ],
          [
           "Tribus"
          ],
          [
           "Scrypt"
          ],
          [
           "Lyra2Z"
          ],
          [
           "CryptoNight"
          ],
          [
           "CryptoNight Heavy"
          ],
          [
           "CryptoNight"
          ],
          [
           "Scrypt"
          ],
          [
           "Scrypt"
          ],
          [
           "Jump Consistent Hash"
          ],
          [
           "SHA-256D"
          ],
          [
           "CryptoNight"
          ],
          [
           "Scrypt"
          ],
          [
           "X15"
          ],
          [
           "Scrypt"
          ],
          [
           "Quark"
          ],
          [
           "SHA-256"
          ],
          [
           "DPoS"
          ],
          [
           "X16R"
          ],
          [
           "HMQ1725"
          ],
          [
           "X11"
          ],
          [
           "X16R"
          ],
          [
           "Quark"
          ],
          [
           "Quark"
          ],
          [
           "Scrypt"
          ],
          [
           "Lyra2REv2"
          ],
          [
           "Quark"
          ],
          [
           "Scrypt"
          ],
          [
           "Scrypt"
          ],
          [
           "CryptoNight-V7"
          ],
          [
           "Cryptonight-GPU"
          ],
          [
           "XEVAN"
          ],
          [
           "CryptoNight Heavy"
          ],
          [
           "X11"
          ],
          [
           "X11"
          ],
          [
           "Scrypt"
          ],
          [
           "PoS"
          ],
          [
           "SHA-256"
          ],
          [
           "Keccak"
          ],
          [
           "X11"
          ],
          [
           "X11"
          ],
          [
           "Scrypt"
          ],
          [
           "SHA-512"
          ],
          [
           "X16R"
          ],
          [
           "ECC 256K1"
          ],
          [
           "Equihash"
          ],
          [
           "XEVAN"
          ],
          [
           "Lyra2Z"
          ],
          [
           "SHA-256"
          ],
          [
           "XEVAN"
          ],
          [
           "X11"
          ],
          [
           "CryptoNight"
          ],
          [
           "Quark"
          ],
          [
           "Blake"
          ],
          [
           "Blake"
          ],
          [
           "Equihash"
          ],
          [
           "Exosis"
          ],
          [
           "Scrypt"
          ],
          [
           "Scrypt"
          ],
          [
           "Equihash"
          ],
          [
           "Quark"
          ],
          [
           "Equihash"
          ],
          [
           "Quark"
          ],
          [
           "Scrypt"
          ],
          [
           "QuBit"
          ],
          [
           "X11"
          ],
          [
           "Scrypt"
          ],
          [
           "XEVAN"
          ],
          [
           "SHA-256D"
          ],
          [
           "X11"
          ],
          [
           "SHA-256"
          ],
          [
           "X13"
          ],
          [
           "SHA-256"
          ],
          [
           "X11"
          ],
          [
           "DPoS"
          ],
          [
           "Scrypt"
          ],
          [
           "Scrypt"
          ],
          [
           "X11"
          ],
          [
           "NeoScrypt"
          ],
          [
           "Scrypt"
          ],
          [
           "Blake"
          ],
          [
           "Scrypt"
          ],
          [
           "SHA-256"
          ],
          [
           "Scrypt"
          ],
          [
           "X11"
          ],
          [
           "Scrypt"
          ],
          [
           "Scrypt"
          ],
          [
           "SHA-256"
          ],
          [
           "X11"
          ],
          [
           "SHA-256"
          ],
          [
           "Scrypt"
          ],
          [
           "Scrypt"
          ],
          [
           "Scrypt"
          ],
          [
           "Groestl"
          ],
          [
           "X11"
          ],
          [
           "Scrypt"
          ],
          [
           "PoS"
          ],
          [
           "Scrypt"
          ],
          [
           "Scrypt"
          ],
          [
           "X11"
          ],
          [
           "SHA-256"
          ],
          [
           "DPoS"
          ],
          [
           "Scrypt"
          ],
          [
           "Scrypt"
          ],
          [
           "NeoScrypt"
          ],
          [
           "SHA3-256"
          ],
          [
           "Multiple"
          ],
          [
           "X13"
          ],
          [
           "Equihash+Scrypt"
          ],
          [
           "DPoS"
          ],
          [
           "Ethash"
          ],
          [
           "DPoS"
          ],
          [
           "SHA-256"
          ],
          [
           "Leased POS"
          ],
          [
           "PoS"
          ],
          [
           "TRC10"
          ],
          [
           "PoS"
          ],
          [
           "SHA-256"
          ],
          [
           "Scrypt"
          ],
          [
           "CryptoNight"
          ],
          [
           "Equihash"
          ],
          [
           "Scrypt"
          ]
         ],
         "hovertemplate": "<b>%{hovertext}</b><br><br>PC 1=%{x}<br>PC 2=%{y}<br>PC 3=%{z}<br>Algorithm=%{customdata[0]}<br>class=%{marker.color}<extra></extra>",
         "hovertext": [
          "42 Coin",
          "404Coin",
          "EliteCoin",
          "Bitcoin",
          "Ethereum",
          "Litecoin",
          "Dash",
          "Monero",
          "Ethereum Classic",
          "ZCash",
          "Bitshares",
          "DigiByte",
          "BitcoinDark",
          "PayCoin",
          "ProsperCoin",
          "KoboCoin",
          "Spreadcoin",
          "Argentum",
          "Aurora Coin",
          "BlueCoin",
          "MyriadCoin",
          "MoonCoin",
          "ZetaCoin",
          "SexCoin",
          "Quatloo",
          "EnergyCoin",
          "QuarkCoin",
          "Riecoin",
          "Digitalcoin ",
          "BitBar",
          "Catcoin",
          "CryptoBullion",
          "CannaCoin",
          "CryptCoin",
          "CasinoCoin",
          "Diamond",
          "Verge",
          "DevCoin",
          "EarthCoin",
          "E-Gulden",
          "Einsteinium",
          "Emerald",
          "Exclusive Coin",
          "FlutterCoin",
          "Franko",
          "FeatherCoin",
          "GrandCoin",
          "GlobalCoin",
          "GoldCoin",
          "HoboNickels",
          "HyperStake",
          "Infinite Coin",
          "IOCoin",
          "IXcoin",
          "KrugerCoin",
          "LuckyCoin",
          "Litebar ",
          "MaxCoin",
          "MegaCoin",
          "MediterraneanCoin",
          "MintCoin",
          "MinCoin",
          "MazaCoin",
          "Nautilus Coin",
          "NavCoin",
          "NobleCoin",
          "Namecoin",
          "NyanCoin",
          "OpalCoin",
          "Orbitcoin",
          "PotCoin",
          "PhoenixCoin",
          "Reddcoin",
          "RonPaulCoin",
          "StableCoin",
          "SmartCoin",
          "SuperCoin",
          "SyncCoin",
          "SysCoin",
          "TeslaCoin",
          "TigerCoin",
          "TittieCoin",
          "TorCoin",
          "TerraCoin",
          "UnbreakableCoin",
          "Unobtanium",
          "UroCoin",
          "UnitaryStatus Dollar",
          "UltraCoin",
          "ViaCoin",
          "VeriCoin",
          "Vertcoin",
          "WorldCoin",
          "X11 Coin",
          "Crypti",
          "JouleCoin",
          "StealthCoin",
          "ZCC Coin",
          "ByteCoin",
          "DigitalNote ",
          "BurstCoin",
          "StorjCoin",
          "MonaCoin",
          "Neutron",
          "FairCoin",
          "Gulden",
          "RubyCoin",
          "PesetaCoin",
          "Kore",
          "Wild Beast Coin",
          "Dnotes",
          "Flo",
          "8BIT Coin",
          "Sativa Coin",
          "ArtByte",
          "Folding Coin",
          "Ucoin",
          "Unitus",
          "CypherPunkCoin",
          "OmniCron",
          "Vtorrent",
          "GreenCoin",
          "Cryptonite",
          "MasterCoin",
          "SoonCoin",
          "1Credit",
          "IslaCoin",
          "Nexus",
          "MarsCoin ",
          "Crypto",
          "Anarchists Prime",
          "Droidz",
          "BowsCoin",
          "Squall Coin",
          "Song Coin",
          "BitZeny",
          "Diggits",
          "Expanse",
          "Paycon",
          "Siacoin",
          "Emercoin",
          "EverGreenCoin",
          "MindCoin",
          "I0coin",
          "Decred",
          "Revolution VR",
          "HOdlcoin",
          "EDRCoin",
          "Hitcoin",
          "Gamecredits",
          "DubaiCoin",
          "CarpeDiemCoin",
          "PWR Coin",
          "BillaryCoin",
          "GPU Coin",
          "Adzcoin",
          "SoilCoin",
          "YoCoin",
          "SibCoin",
          "EuropeCoin",
          "ZeitCoin",
          "SwingCoin",
          "SafeExchangeCoin",
          "Nebuchadnezzar",
          "Francs",
          "BolivarCoin",
          "Ratecoin",
          "Revenu",
          "Clockcoin",
          "VIP Tokens",
          "BitSend",
          "Omni",
          "Let it Ride",
          "PutinCoin",
          "iBankCoin",
          "Frankywillcoin",
          "MudraCoin",
          "PizzaCoin",
          "Lutetium Coin",
          "Komodo",
          "GoldBlocks",
          "CarterCoin",
          "Karbo",
          "BitTokens",
          "ZayedCoin",
          "MustangCoin",
          "ZoneCoin",
          "Circuits of Value",
          "RootCoin",
          "DopeCoin",
          "BitCurrency",
          "DollarCoin",
          "Swiscoin",
          "Shilling",
          "BuzzCoin",
          "Opair",
          "PesoBit",
          "Halloween Coin",
          "ZCoin",
          "CoffeeCoin",
          "RoyalCoin",
          "GanjaCoin V2",
          "TeamUP",
          "LanaCoin",
          "Elementrem",
          "ZClassic",
          "ARK",
          "InsaneCoin",
          "KiloCoin",
          "ArtexCoin",
          "EmberCoin",
          "XenixCoin",
          "FreeCoin",
          "PLNCoin",
          "AquariusCoin",
          "Kurrent",
          "Creatio",
          "Eternity",
          "Eurocoin",
          "BitcoinFast",
          "Stakenet",
          "BitConnect Coin",
          "MoneyCoin",
          "Enigma",
          "Cannabis Industry Coin",
          "Russiacoin",
          "PandaCoin",
          "GameUnits",
          "GAKHcoin",
          "Allsafe",
          "LiteCreed",
          "OsmiumCoin",
          "Bikercoins",
          "HexxCoin",
          "Klingon Empire Darsek",
          "Internet of People",
          "KushCoin",
          "Printerium",
          "PacCoin",
          "Impeach",
          "Citadel",
          "Zilbercoin",
          "FirstCoin",
          "BeaverCoin",
          "FindCoin",
          "VaultCoin",
          "Zero",
          "OpenChat",
          "Canada eCoin",
          "Zoin",
          "RenosCoin",
          "DubaiCoin",
          "VirtacoinPlus",
          "TajCoin",
          "Impact",
          "EB3coin",
          "Atmos",
          "HappyCoin",
          "Coinonat",
          "MacronCoin",
          "Condensate",
          "Independent Money System",
          "ArgusCoin",
          "LomoCoin",
          "ProCurrency",
          "GoldReserve",
          "BenjiRolls",
          "GrowthCoin",
          "ILCoin",
          "Phreak",
          "Degas Coin",
          "HTML5 Coin",
          "Ultimate Secure Cash",
          "EquiTrader",
          "QTUM",
          "Quantum Resistant Ledger",
          "Espers",
          "Dynamic",
          "Nano",
          "ChanCoin",
          "Dinastycoin",
          "Denarius",
          "DigitalPrice",
          "Virta Unique Coin",
          "Bitcoin Planet",
          "Unify",
          "BritCoin",
          "SocialCoin",
          "ArcticCoin",
          "DAS",
          "Linda",
          "LeviarCoin",
          "DeepOnion",
          "Bitcore",
          "gCn Coin",
          "SmartCash",
          "Signatum",
          "Onix",
          "Cream",
          "Bitcoin Cash",
          "Monoeci",
          "Draftcoin",
          "Vechain",
          "Sojourn Coin",
          "Stakecoin",
          "NewYorkCoin",
          "FrazCoin",
          "Kronecoin",
          "AdCoin",
          "Linx",
          "CoinonatX",
          "Ethereum Dark",
          "Sumokoin",
          "Obsidian",
          "Cardano",
          "Regalcoin",
          "BitcoinZ",
          "TrezarCoin",
          "Elements",
          "TerraNovaCoin",
          "VIVO Coin",
          "Rupee",
          "Bitcoin Gold",
          "WomenCoin",
          "Theresa May Coin",
          "NamoCoin",
          "LUXCoin",
          "Pirl",
          "Xios",
          "Bitcloud 2.0",
          "eBoost",
          "KekCoin",
          "BlackholeCoin",
          "Infinity Economics",
          "Pura",
          "Innova",
          "Ellaism",
          "GoByte",
          "Magnet",
          "Lamden Tau",
          "Electra",
          "Bitcoin Diamond",
          "SHIELD",
          "Cash & Back Coin",
          "UltraNote",
          "BitCoal",
          "DaxxCoin",
          "Bulwark",
          "Kalkulus",
          "AC3",
          "Lethean",
          "GermanCoin",
          "LiteCoin Ultra",
          "PopularCoin",
          "PhantomX",
          "Photon",
          "Sucre",
          "SparksPay",
          "Digiwage",
          "GunCoin",
          "IrishCoin",
          "Trollcoin",
          "Litecoin Plus",
          "Monkey Project",
          "Pioneer Coin",
          "UnitedBitcoin",
          "Interzone",
          "TokenPay",
          "1717 Masonic Commemorative Token",
          "My Big Coin",
          "TurtleCoin",
          "MUNcoin",
          "Unified Society USDEX",
          "Niobio Cash",
          "ShareChain",
          "Travelflex",
          "KREDS",
          "Tokyo Coin",
          "BiblePay",
          "LitecoinCash",
          "BitFlip",
          "LottoCoin",
          "Crypto Improvement Fund",
          "Stipend",
          "Poa Network",
          "Pushi",
          "Ellerium",
          "Velox",
          "Ontology",
          "Callisto Network",
          "BitTube",
          "Poseidon",
          "Aidos Kuneen",
          "Bitspace",
          "Briacoin",
          "Ignition",
          "Bitrolium",
          "MedicCoin",
          "Alpenschillling",
          "Bitcoin Green",
          "Deviant Coin",
          "Abjcoin",
          "Semux",
          "FuturoCoin",
          "Carebit",
          "Zealium",
          "Monero Classic",
          "Proton",
          "iDealCash",
          "Jumpcoin",
          "Infinex",
          "Bitcoin Incognito",
          "KEYCO",
          "HollyWoodCoin",
          "GINcoin",
          "PlatinCoin",
          "Loki",
          "Newton Coin",
          "Swisscoin",
          "Xt3ch",
          "MassGrid",
          "TheVig",
          "PluraCoin",
          "EmaratCoin",
          "Dekado",
          "Lynx",
          "Poseidon Quark",
          "BitcoinWSpectrum",
          "Muse",
          "Motion",
          "PlusOneCoin",
          "Axe",
          "Trivechain",
          "Dystem",
          "Giant",
          "Peony Coin",
          "Absolute Coin",
          "Vitae",
          "HexCoin",
          "TPCash",
          "Webchain",
          "Ryo",
          "Urals Coin",
          "Qwertycoin",
          "ARENON",
          "EUNO",
          "MMOCoin",
          "Ketan",
          "Project Pai",
          "XDNA",
          "PAXEX",
          "Azart",
          "ThunderStake",
          "Kcash",
          "Xchange",
          "Acute Angle Cloud",
          "CrypticCoin",
          "Bettex coin",
          "Actinium",
          "Bitcoin SV",
          "BitMoney",
          "Junson Ming Chan Coin",
          "FREDEnergy",
          "HerbCoin",
          "Universal Molecule",
          "Lithium",
          "PirateCash",
          "Exosis",
          "Block-Logic",
          "Oduwa",
          "Beam",
          "Galilel",
          "Bithereum",
          "Crypto Sports",
          "Credit",
          "SLICE",
          "Dash Platinum",
          "Nasdacoin",
          "Beetle Coin",
          "Titan Coin",
          "Award",
          "BLAST",
          "Bitcoin Rhodium",
          "GlobalToken",
          "Insane Coin",
          "ALAX",
          "LiteDoge",
          "SolarCoin",
          "TruckCoin",
          "UFO Coin",
          "OrangeCoin",
          "BlakeCoin",
          "BitstarCoin",
          "NeosCoin",
          "HyperCoin",
          "PinkCoin",
          "Crypto Escudo",
          "AudioCoin",
          "IncaKoin",
          "Piggy Coin",
          "Crown Coin",
          "Genstake",
          "SmileyCoin",
          "XiaoMiCoin",
          "Groestlcoin",
          "CapriCoin",
          " ClubCoin",
          "Radium",
          "Bata",
          "Pakcoin",
          "Creditbit ",
          "OKCash",
          "Lisk",
          "HiCoin",
          "WhiteCoin",
          "FriendshipCoin",
          "Fiii",
          "JoinCoin",
          "Triangles Coin",
          "Vollar",
          "EOS",
          "Reality Clash",
          "Oxycoin",
          "TigerCash",
          "Waves",
          "Particl",
          "BitTorrent",
          "Nxt",
          "ZEPHYR",
          "Gapcoin",
          "Beldex",
          "Horizen",
          "BitcoinPlus"
         ],
         "legendgroup": "",
         "marker": {
          "color": [
           0,
           0,
           0,
           1,
           1,
           1,
           0,
           1,
           1,
           1,
           0,
           1,
           0,
           0,
           1,
           0,
           1,
           1,
           0,
           0,
           1,
           1,
           1,
           1,
           1,
           0,
           1,
           1,
           1,
           0,
           1,
           0,
           1,
           1,
           0,
           0,
           1,
           1,
           1,
           1,
           1,
           1,
           0,
           0,
           1,
           1,
           1,
           1,
           1,
           0,
           0,
           1,
           0,
           1,
           1,
           1,
           1,
           0,
           1,
           1,
           0,
           1,
           0,
           0,
           0,
           1,
           1,
           1,
           0,
           0,
           0,
           0,
           0,
           1,
           1,
           1,
           0,
           0,
           1,
           0,
           1,
           0,
           0,
           1,
           1,
           1,
           1,
           0,
           0,
           1,
           0,
           1,
           1,
           0,
           0,
           1,
           0,
           0,
           1,
           1,
           0,
           0,
           1,
           0,
           0,
           1,
           0,
           1,
           0,
           1,
           0,
           1,
           0,
           0,
           1,
           1,
           0,
           1,
           1,
           1,
           0,
           1,
           1,
           1,
           1,
           1,
           0,
           0,
           1,
           1,
           1,
           0,
           1,
           0,
           1,
           1,
           0,
           1,
           0,
           1,
           0,
           0,
           1,
           1,
           0,
           1,
           1,
           0,
           0,
           1,
           0,
           1,
           0,
           0,
           0,
           1,
           1,
           1,
           1,
           0,
           0,
           0,
           0,
           0,
           1,
           1,
           0,
           0,
           0,
           0,
           0,
           1,
           0,
           0,
           0,
           0,
           0,
           1,
           0,
           1,
           0,
           0,
           1,
           0,
           1,
           0,
           0,
           1,
           0,
           1,
           0,
           1,
           0,
           1,
           0,
           0,
           0,
           0,
           1,
           0,
           0,
           0,
           0,
           0,
           1,
           1,
           0,
           0,
           1,
           1,
           0,
           0,
           0,
           0,
           0,
           1,
           0,
           0,
           0,
           0,
           0,
           0,
           0,
           0,
           1,
           0,
           0,
           0,
           0,
           0,
           0,
           1,
           1,
           1,
           0,
           0,
           0,
           0,
           1,
           0,
           1,
           0,
           0,
           1,
           0,
           1,
           1,
           0,
           1,
           1,
           0,
           1,
           0,
           0,
           0,
           1,
           0,
           0,
           1,
           0,
           0,
           0,
           0,
           0,
           0,
           0,
           1,
           0,
           1,
           0,
           0,
           0,
           0,
           1,
           0,
           1,
           0,
           1,
           1,
           1,
           1,
           0,
           1,
           0,
           0,
           1,
           0,
           1,
           1,
           1,
           0,
           1,
           0,
           1,
           1,
           1,
           0,
           1,
           0,
           1,
           0,
           0,
           3,
           1,
           0,
           1,
           1,
           1,
           1,
           1,
           0,
           0,
           1,
           0,
           0,
           0,
           1,
           0,
           1,
           0,
           1,
           0,
           1,
           0,
           0,
           0,
           0,
           1,
           0,
           0,
           1,
           0,
           0,
           0,
           1,
           1,
           1,
           1,
           0,
           0,
           0,
           0,
           1,
           0,
           1,
           1,
           1,
           0,
           0,
           1,
           1,
           0,
           0,
           1,
           0,
           1,
           1,
           1,
           0,
           1,
           1,
           0,
           0,
           0,
           1,
           1,
           1,
           0,
           1,
           0,
           1,
           1,
           0,
           1,
           1,
           1,
           1,
           0,
           3,
           0,
           1,
           1,
           1,
           0,
           3,
           0,
           0,
           0,
           0,
           1,
           1,
           1,
           1,
           0,
           0,
           0,
           1,
           0,
           1,
           0,
           0,
           0,
           0,
           1,
           0,
           0,
           1,
           0,
           0,
           1,
           1,
           0,
           1,
           0,
           1,
           1,
           1,
           1,
           0,
           0,
           1,
           0,
           1,
           0,
           0,
           0,
           0,
           0,
           0,
           1,
           1,
           1,
           0,
           0,
           0,
           0,
           0,
           0,
           1,
           0,
           1,
           1,
           1,
           1,
           0,
           0,
           0,
           0,
           1,
           0,
           0,
           1,
           0,
           0,
           1,
           3,
           1,
           0,
           1,
           1,
           0,
           0,
           1,
           0,
           1,
           1,
           0,
           1,
           1,
           0,
           1,
           0,
           1,
           0,
           0,
           1,
           0,
           0,
           0,
           0,
           0,
           1,
           1,
           1,
           0,
           0,
           0,
           1,
           0,
           1,
           0,
           1,
           0,
           0,
           0,
           0,
           1,
           0,
           0,
           0,
           1,
           0,
           1,
           0,
           1,
           0,
           0,
           0,
           1,
           1,
           0,
           0,
           0,
           0,
           0,
           0,
           3,
           1,
           0,
           1,
           0,
           1,
           0,
           0,
           3,
           0,
           2,
           0,
           0,
           0,
           1,
           1,
           0
          ],
          "coloraxis": "coloraxis",
          "symbol": "circle"
         },
         "mode": "markers",
         "name": "",
         "scene": "scene",
         "showlegend": false,
         "type": "scatter3d",
         "x": [
          -0.34357954467997487,
          -0.3268248440897944,
          2.32610373016716,
          -0.13946687958082354,
          -0.14877518260145808,
          -0.1727683463237623,
          -0.39632329111897957,
          -0.15491595616815515,
          -0.14720782032853552,
          -0.15162448637127993,
          -0.2752415920346809,
          0.16987953513056142,
          -0.3091019520426182,
          -0.23949106824085978,
          -0.173921090569295,
          -0.23861827785437822,
          -0.22687369539182203,
          -0.17353535812157128,
          -0.3432372071797511,
          -0.33577474502475885,
          -0.08498631365686093,
          2.5644207486915573,
          -0.13653532373684302,
          -0.17077502946066464,
          -0.1733381650343636,
          -0.3420679866632937,
          -0.21310845750351576,
          -0.20636581163522533,
          -0.17338742831204657,
          -0.3435754566625977,
          -0.17390326024779162,
          -0.3435596505344947,
          -0.1739902197327094,
          -0.22696353186142645,
          0.5886780023528017,
          -0.37693948224331847,
          0.19373829163763379,
          0.24052429663571756,
          0.07615040680377792,
          -0.17373510196196476,
          -0.1693153198793064,
          -0.17367401769564486,
          -0.29078495993809583,
          -0.304188313851903,
          -0.17404754072124345,
          -0.18230147172687805,
          -0.1531508211608584,
          -0.1728358432077393,
          -0.1731147882557009,
          -0.34162729461682106,
          -0.3064270204827812,
          1.5847596389375092,
          -0.3962174178411556,
          -0.13942803915144136,
          -0.17038860751965032,
          -0.17376169159069565,
          -0.17411851461957145,
          -0.3620230987366521,
          -0.17337356224281256,
          -0.14791296666625625,
          -0.012482859867176201,
          -0.1739990980823165,
          -0.27219927009652245,
          -0.273718289954603,
          -0.2731997468496618,
          -0.03810463294528623,
          -0.1395060713112913,
          -0.16762715825576768,
          -0.2738253201089039,
          -0.3566321537733489,
          -0.33784913744510875,
          -0.3419722127192358,
          0.01649843148651062,
          -0.17397837953849837,
          -0.17206135774443354,
          -0.17346220179380276,
          -0.32642115544075173,
          -0.39659109614471294,
          -0.12658455132009094,
          -0.21817790819402244,
          -0.13896681219103324,
          -0.27863222616071925,
          -0.3965022138276383,
          -0.13925559934523102,
          -0.1392383251035564,
          -0.13983259038306117,
          -0.22713844990556095,
          -0.31867062638600197,
          -0.34224934788966455,
          -0.17369332001092927,
          -0.3075585590604137,
          -0.17919705747235098,
          -0.17077970136901185,
          -0.39646651769050656,
          -0.21864861823323997,
          -0.13903448137650182,
          -0.27360499864442617,
          -0.3346301342639771,
          3.8832452056198385,
          0.46297224546438903,
          -0.19372425377944405,
          -0.29911253880276384,
          -0.17255440212574144,
          -0.308309201032808,
          -0.37635793690614916,
          -0.1570627255838433,
          -0.2736985141966181,
          -0.17126599102818119,
          -0.2739010614186959,
          -0.17412073032594239,
          -0.2683214323729762,
          -0.17113032524897298,
          -0.3435615162614702,
          -0.27385299717776196,
          -0.15727543755584508,
          -0.13171243362201246,
          -0.32686831681783446,
          -0.11918641574859452,
          -0.1851425130483069,
          -0.17399311518180477,
          -0.34329437326642964,
          -0.04619696965896478,
          -0.11380557575069279,
          -0.17412967999060974,
          -0.13953399975278377,
          0.48197329803987343,
          -0.39657252517216085,
          -0.2789665841501767,
          -0.2265221619119141,
          -0.1548065732673273,
          -0.1392723050473846,
          -0.41441681538843383,
          -0.22680866121110843,
          -0.38621044623048056,
          -0.17224235002497143,
          -0.17143002892053738,
          -0.27209096673972705,
          -0.14984836649061636,
          -0.2733718711553787,
          0.3766157146145878,
          -0.3016141107398707,
          -0.24107435572302913,
          -0.22684427219540404,
          -0.13942916760077184,
          -0.07476942853200348,
          -0.17006466228369618,
          -0.15088176190958577,
          -0.3090727087266297,
          -0.0721793488011796,
          -0.17268486172337097,
          -0.30913679836836855,
          0.2814229848618801,
          -0.23681278645183404,
          -0.3431694852398061,
          -0.2719587690132357,
          -0.2260001363372016,
          -0.15261455631072932,
          -0.17293326285622923,
          -0.16525596742870283,
          -0.3937247246068169,
          0.8861144331921692,
          -0.3089356498669963,
          -0.14620956413242628,
          -0.29046643280160905,
          -0.17391836530419097,
          -0.22680727655252061,
          -0.3944035274787219,
          -0.30767159340997824,
          -0.3053258848608039,
          -0.35882720801033385,
          -0.3953002650295512,
          -0.17412973881653837,
          -0.29326426629061203,
          -0.3193291285950073,
          -0.3432077786139189,
          -0.3416380957043124,
          -0.20297660537683185,
          -0.22695806254319956,
          -0.31428866364134567,
          -0.2657723721090163,
          -0.39604336575426546,
          -0.3424075006439616,
          0.30699050723630383,
          -0.3091176010317625,
          -0.13969071510364905,
          -0.3965616450820474,
          -0.3433980664758722,
          -0.09914535851020095,
          -0.34355571817856423,
          -0.1712801827629071,
          -0.27194926643528866,
          -0.13964911602939573,
          -0.26359668931879976,
          -0.17379118146709516,
          0.029816544763298432,
          -0.2894176346714889,
          -0.34316778888602395,
          -0.38264260900023456,
          -0.15620954062287407,
          -0.28874279396140434,
          -0.20441581546061408,
          -0.4285777556321438,
          -0.288489225417086,
          -0.2864650962120398,
          -0.14958908166590212,
          -0.15164622090662352,
          3.605468165915466,
          -0.3961518659821403,
          -0.1004138826635224,
          -0.2134663948753513,
          0.8644387331622383,
          -0.39651630732860804,
          -0.2898839978642876,
          -0.34309478225211554,
          -0.3432499274965734,
          -0.22477352437533102,
          -0.29046643280160905,
          -0.39608866696446415,
          -0.3089795358968893,
          -0.3430955464877706,
          -0.38142780383933134,
          -0.3432437560775542,
          -0.3388051924094857,
          -0.39654545290677334,
          0.3069848884525898,
          -0.34244968062826975,
          0.37317426357639316,
          -0.3434441757037201,
          -0.3435151711167709,
          -0.3177126225743354,
          -0.35372502634870706,
          -0.1741113682798359,
          0.3071163322341397,
          -0.15535019816156598,
          -0.33971934649935004,
          -0.3090938872024067,
          -0.3964548983667337,
          -0.34329170781973967,
          0.4926096835287159,
          -0.3434193388266651,
          -0.15367314106267788,
          -0.27360427655714853,
          -0.3052868964251193,
          -0.1740794802550864,
          -0.2041823614140244,
          -0.21964838575849452,
          -0.15165868038776756,
          -0.32416504758466913,
          -0.17220218044210464,
          -0.15506699983783026,
          -0.2733440982182354,
          -0.1500984014964115,
          -0.3957162746858283,
          -0.42921367748623473,
          -0.3944477800195358,
          -0.14482773403059795,
          -0.2887031083049389,
          -0.3956136077985866,
          -0.1905877676380951,
          -0.2830714647760095,
          -0.39153088577092177,
          -0.34336232190756966,
          -0.3433614749833459,
          -0.3364417310244796,
          0.29638291440981085,
          -0.3960949377333549,
          -0.1736393391907368,
          -0.256143973172836,
          -0.1058219966775038,
          -0.29050086841739947,
          -0.34256837386697153,
          0.8998300986708622,
          -0.23817357300755074,
          -0.17346027832839178,
          -0.29203571940792317,
          -0.15353045182225378,
          0.5956164320094482,
          -0.15720018347647582,
          -0.02586141648787314,
          -0.1690016510576543,
          0.3433118230449491,
          -0.360371512184412,
          -0.22600850590157345,
          -0.3588651580194157,
          -0.42204184418541935,
          -0.17378150415153623,
          -0.27353630063664264,
          -0.17354335649035985,
          -0.22640550489898625,
          -0.2269862740126827,
          0.124101410004946,
          0.30738216622564535,
          -0.273607504487876,
          -0.14381981568720248,
          3.2549701087075444,
          -0.12179702105253655,
          -0.2895742305921563,
          -0.21780409190350025,
          -0.42154405273232604,
          -0.13946603925569812,
          -0.3963689289345699,
          -0.2736790453929867,
          4.357312260805476,
          -0.09925317993234792,
          -0.2903662806496207,
          1.5823841702938362,
          -0.17387988033553212,
          -0.1733282649610869,
          -0.1730275454594533,
          -0.17301440535561474,
          -0.3429954266698774,
          -0.34349800460415897,
          0.3075669255942073,
          -0.33363508110375467,
          0.7040254832040206,
          -0.39630935974839576,
          0.06191279381204352,
          -0.3516026137445691,
          -0.1811175647961779,
          -0.34345332906112197,
          -0.187017034773373,
          -0.2798494376319349,
          -0.15150387756977193,
          0.42993149355083504,
          -0.3074308685563533,
          -0.3450507577494547,
          -0.3839790365283106,
          -0.1513663591222436,
          -0.34340337611996496,
          -0.3856923553873998,
          -0.17220037986377945,
          -0.30138865862353786,
          -0.34327310207164397,
          -0.06499706967791959,
          -0.2225050478049347,
          -0.18686152831820826,
          -0.14794429637008094,
          -0.18696233538892598,
          -0.3950949701628998,
          3.610352082048086,
          0.20227791444207222,
          -0.2702595154529461,
          -0.10936227463891454,
          -0.34071878337837813,
          1.1498505541593225,
          0.3069675275597129,
          -0.0723830959625754,
          -0.2905865612135094,
          -0.31759788747890594,
          -0.22224434899729337,
          -0.14257946006397998,
          0.07333120499940017,
          -0.3424063804925429,
          -0.08979175194078427,
          -0.39567966712062264,
          1.105828073461978,
          -0.22696012739247265,
          -0.18701460620913724,
          -0.3167576676756239,
          -0.1800125575190185,
          -0.17312661944041718,
          -0.329901610845382,
          -0.34352025663747005,
          -0.32684009013006177,
          -0.22688511553180477,
          -0.13944532830080428,
          -0.21652214075294757,
          -0.29354774443635195,
          -0.24995714543562142,
          -0.3076901467623985,
          8.091203456020262,
          -0.16733434621110133,
          -0.33904042179601296,
          0.3108644201259926,
          0.020003272262201013,
          -0.15086711900867997,
          -0.16467220310958067,
          -0.19593029430657272,
          -0.3264239654643876,
          -0.6249920281908482,
          -0.17370356665617984,
          0.13512144743230978,
          -0.2209921106682015,
          -0.38599424818952227,
          -0.00987795805754509,
          -0.39638619886622983,
          -0.33516816906224656,
          -0.2728340170787429,
          -0.2764711887318676,
          -0.10070059377652713,
          0.3149380108580381,
          -0.17394194800777713,
          -0.1478687618053555,
          -0.3599681278130894,
          -0.3435477636550573,
          -0.3435293669457026,
          -0.15048927235196868,
          -0.2671834094600031,
          -0.15397979778864557,
          -0.29907181763956053,
          -0.2899584292459966,
          -0.3432442348235448,
          3.773548331071083,
          -0.22604949999918303,
          -0.384353182994679,
          -0.29014815350892686,
          0.30715106405411696,
          -0.28632222722849393,
          -0.28980444297356106,
          -0.19064767039506125,
          -0.1551945248653376,
          -0.32494088244925395,
          -0.16177319377587576,
          -0.27337156407001173,
          -0.1562944230083166,
          0.3111031519060753,
          0.5874366161332867,
          2.126264308420618,
          -0.14555166680609363,
          -0.2736249049624137,
          -0.14255405110518143,
          -0.35216602220799165,
          0.3208342196487091,
          -0.34271518405234686,
          -0.1708671428961162,
          2.2262956382498427,
          -0.3132798347359221,
          -0.23830243108551544,
          0.9763971624076608,
          -0.18654928868259482,
          -0.1659099072734173,
          -0.2269421854270677,
          -0.3552021572546655,
          -0.31771202871286514,
          -0.387386471291228,
          -0.1536369764472419,
          -0.34932433949981145,
          -0.31642429011506906,
          -0.17396665871204448,
          -0.33638149847731236,
          -0.14245543808505318,
          -0.14058272270741093,
          -0.1644846049233687,
          3.1245047536854695,
          -0.3264150627348876,
          -0.39585657772947663,
          -0.27085453682056176,
          -0.28924250789376205,
          -0.09906639545317089,
          -0.351751563858953,
          -0.3262754917709779,
          -0.22691337806398537,
          -0.20219020012138791,
          -0.4072336706919499,
          -0.18597356298120277,
          -0.40303238283331194,
          -0.045645088214542516,
          -0.26561413820527463,
          -0.15568858328799767,
          -0.1394660770253843,
          0.4774313144061288,
          -0.11565750989329945,
          0.3873797352452123,
          -0.3866770708573911,
          -0.1428714691825049,
          -0.14326597036278946,
          -0.25084129794193033,
          -0.14990518749994935,
          -0.17285251007692076,
          -0.3432482703102034,
          -0.14955238905496215,
          -0.3871358101398885,
          -0.15133574472045846,
          -0.3178296715599929,
          0.5684963961549838,
          -0.18434876420340993,
          -0.32689470448984886,
          -0.342728115551196,
          -0.329591860418929,
          -0.3066192357796294,
          -0.393406411008688,
          -0.1387380979537785,
          -0.10454429341571038,
          -0.1375994321043427,
          -0.396085131585203,
          3.6226621774474506,
          0.09418821849864349,
          0.5261579162929163,
          -0.3936116224851186,
          -0.11175613144473279,
          -0.3421097646897623,
          -0.09343193764575894,
          -0.34293987065463166,
          -0.2395238362785486,
          -0.3434612471527519,
          -0.3876656260607787,
          -0.15742684241052743,
          -0.256650812501014,
          -0.08756916120587906,
          -0.38338877313911107,
          -0.13925496637336857,
          -0.34273560090837263,
          0.5458169053628413,
          -0.3357607278179941,
          -0.205924334093632,
          -0.392634406971827,
          -0.34116570845020733,
          -0.29074360201013655,
          -0.1740439888202348,
          -0.17198782038722635,
          -0.370347075517787,
          -0.30760862101854813,
          3.6058622533773335,
          -0.07982141923023019,
          -0.33834470337107414,
          -0.35625573741499456,
          -0.5263154338497933,
          -0.11992528464473401,
          -0.2740088981281193,
          -0.14745882235967359,
          3.6157828491675423,
          -0.14962242790926408,
          3.6170337045406242,
          -0.22031305284080915,
          -0.6563530339739252,
          -0.2906791237435243,
          34.184311861795834,
          -0.24785825786036408,
          2.426304400882106,
          -0.34161323180598596,
          0.3288489412488457,
          -0.15162554906593262,
          -0.27402370863972003
         ],
         "y": [
          0.9517810813778449,
          0.951801735950742,
          1.624823465836717,
          -1.2977808016191879,
          -2.013695584945402,
          -1.1779308345185524,
          1.2822623440469803,
          -2.1605722963493776,
          -2.0138072591590204,
          -1.9363772867627889,
          1.6708823386897018,
          -1.817182675962244,
          0.8318987761425923,
          0.583676269548538,
          -1.1779135393441658,
          1.8266230329793214,
          -0.8474209289277431,
          -1.1779348673523673,
          0.9517773212772053,
          0.9519664096084212,
          -1.8097634010183206,
          -1.3851350266167888,
          -1.2978166880153135,
          -1.1780011978700577,
          -1.1779557092431163,
          0.9518169739788693,
          -0.5146558834888514,
          -1.193918748588215,
          -1.1779201282500105,
          0.9517808239748214,
          -1.1779131159557956,
          0.9517808447934045,
          -1.1779096080344202,
          -0.8474216441140219,
          0.24860870168179272,
          0.9357957020735331,
          -1.813464595112416,
          -1.3036320525496103,
          -1.18153221972199,
          -1.1779091229676428,
          -1.1780018397598804,
          -1.1779154715949123,
          1.5184468133327431,
          0.14280441702590935,
          -1.177909619059407,
          -1.5844747102959225,
          -1.1784126764396499,
          -1.177922511134694,
          -1.1779307270218093,
          0.9517423573197685,
          1.0345303849780152,
          -1.2003742588276742,
          1.2822648580518177,
          -1.2977798793371051,
          -1.1780029556062552,
          -1.1779090453404384,
          -1.1779042952341028,
          2.05670764874263,
          -1.1779154272452526,
          -2.2332464002544063,
          0.7097609278886021,
          -1.177907592566398,
          0.8310754093507946,
          0.7035463126249717,
          1.7858436596974572,
          -1.1853087663972635,
          -1.2977817322430638,
          -1.17798813414322,
          1.7858288052012854,
          0.5453296313244332,
          0.9516193685411032,
          0.9517497652935051,
          0.9603312821065315,
          -1.1779148996944702,
          -1.178031742267991,
          -1.1779240549104697,
          1.0340556159612828,
          1.2822715823936564,
          -1.2980896161601627,
          0.07224718679147646,
          -1.297787370030059,
          1.5400609846299114,
          1.2822666035605776,
          -1.2977906738704788,
          -1.2978172060266469,
          -1.2977747736379142,
          -0.8474130354542923,
          0.9512381396666285,
          0.9517417665861806,
          -1.1779095488558131,
          0.20956150053489958,
          -1.2916071916998462,
          -1.178012242291711,
          1.2822706417204255,
          0.07230691048185711,
          -1.2977875503595748,
          1.7858340368257233,
          0.9512845799126323,
          -2.3253262587210894,
          -2.2828430795474723,
          0.5564983107808883,
          1.34040315875432,
          -1.1779407285940302,
          0.8318849859318889,
          0.9358126165676688,
          -1.1786894763364488,
          0.7035582539733873,
          -1.1779535728813004,
          1.7858184985850818,
          -1.1779052539604098,
          0.7033314305324165,
          -1.1779458237100067,
          0.9517815094998975,
          1.785821057908296,
          -1.1782124011826793,
          -2.082245744385454,
          1.0340308177501079,
          -1.8091574787043008,
          -1.4771737243561014,
          -1.1779027507185376,
          0.9517736727419245,
          -1.1819558775224357,
          -2.1981331583694566,
          -1.1779040424138256,
          -1.2977823954154764,
          -1.2275529898320474,
          1.282272024078101,
          2.337141659136156,
          -0.8474217987360289,
          -2.1409473952005174,
          -1.2977994084995768,
          1.9996168838071375,
          -0.8474200936731354,
          1.0823688245033272,
          -1.178007849808716,
          -1.1780167511035529,
          0.7035255249584005,
          -2.013733054928245,
          1.785804122086897,
          -2.1875833079289313,
          0.8313831672805272,
          1.8267942200088723,
          -0.8474173942259468,
          -1.297779906132602,
          0.9510942001413758,
          -1.1779559695490887,
          -2.1596899340003075,
          0.8318994705372439,
          1.2711506867370135,
          -1.17792885214214,
          0.8319061023051059,
          -1.303104934382979,
          1.5250014806327785,
          0.9517610400628953,
          0.7034428366483728,
          -0.8474455624790933,
          -2.165311168638074,
          -1.177994556356785,
          -2.183007003299995,
          1.282067386844432,
          0.6609066065464814,
          0.8318899628954958,
          0.25799626497016004,
          1.518440196712494,
          -1.1779127656226644,
          -0.8474228968296535,
          1.2822703521553613,
          0.8317904247788427,
          0.8316318089189068,
          1.5220403868452117,
          1.2822036821778064,
          -1.1779040416623738,
          1.387136628887228,
          0.9509388996779304,
          0.9517584764168784,
          0.9517562810225204,
          1.5374871540398822,
          -0.8474264773054618,
          1.0338778881229427,
          -1.072614142846679,
          1.2822491387400508,
          0.9517451012730427,
          -2.2794639310990674,
          0.8318991135598153,
          -1.2977781304095584,
          1.2822701554034908,
          0.9517705014947607,
          -1.8095324062415057,
          0.9517816471777776,
          -1.1779777424968483,
          0.7035997905860694,
          -1.2977777823596688,
          0.07473478111810035,
          -1.177916835679294,
          1.9634367355723454,
          1.518426814375106,
          0.9517908587195207,
          1.2815392822791292,
          -2.185297580872057,
          1.5184669451240074,
          1.5375930085804683,
          1.9478777675179757,
          1.5182879148052233,
          1.9647848548460087,
          -2.0137334912776073,
          -1.9363778028583345,
          2.109552809758664,
          1.2822607425362447,
          -1.1832432805799593,
          -0.8474428913204528,
          1.8122546990388941,
          1.2822706269509017,
          1.5184327566027704,
          0.9517652670872572,
          0.9517591299281869,
          -0.8475185333591111,
          1.518440196712494,
          1.282240972954525,
          0.8319031009825855,
          0.9517691768497617,
          0.9135092027350129,
          0.9517692025964214,
          0.9514331267333841,
          1.282269121875495,
          -2.2794718636178906,
          0.9517058132084114,
          0.695865148866857,
          0.9517750786836651,
          0.9517802590604707,
          1.3668508977427112,
          0.6524756610053538,
          -1.1779050928322934,
          -2.2794715784666595,
          -2.140920748826758,
          0.9515182389362201,
          0.8318996766545161,
          1.282268185105579,
          0.9517737360340603,
          -0.901223213128697,
          0.9517693346325268,
          -2.160673951846088,
          0.7035214961927881,
          0.1040277707578284,
          -1.1779047934549438,
          1.537590026404073,
          -0.8479441897309519,
          -1.9363752626780646,
          0.9515330777307772,
          -1.1779287348184153,
          -2.1409218232644376,
          0.7035422610854962,
          -2.1417347314517587,
          1.2822214552053393,
          1.8886214139532655,
          1.2822444860471134,
          -1.180043852163575,
          1.5184180511435037,
          1.2822238930731042,
          -0.6076434400818553,
          1.5183463698895487,
          1.2820372354178606,
          0.9517711998686537,
          0.9517659819068696,
          0.9512415627971376,
          0.5432340104205129,
          1.2822550042315688,
          -1.1779171441345646,
          0.7025570759167304,
          -1.2987395231310435,
          1.518432288935009,
          0.9517306461374375,
          1.790093308672701,
          0.5835745551414623,
          -1.1779387566231978,
          1.38711865214652,
          -2.160613842914773,
          1.9557932846190784,
          -2.0799063750410784,
          -2.197381557369315,
          -2.1574300438991156,
          -2.2800123942251855,
          1.5220604374190965,
          -0.8474571053611052,
          1.5220182154379525,
          1.9287085958173182,
          -1.1779090030426285,
          1.7858143978198016,
          -1.1779428563754242,
          -0.84743817190865,
          -0.8474228222438812,
          0.9274359117819896,
          -2.279485827388036,
          1.7858205783392245,
          -2.150868327673846,
          -1.238279998769386,
          -1.17818484467837,
          1.3545421708918521,
          -0.8479712971046481,
          1.9287204160815716,
          -1.2977807816653215,
          1.2822701178148463,
          0.70354637533551,
          2.1628210178296388,
          -1.1835702236890286,
          1.518413080119224,
          -1.136194454223974,
          -1.1779118517811422,
          -1.1779441300185363,
          -1.1779483334526426,
          -1.1779480214354334,
          0.9517607404317677,
          0.9517800397729084,
          -2.2795061767342295,
          1.6719838022423887,
          1.3127121916553353,
          1.2822591298083834,
          -1.9461810544045897,
          0.5451681292185758,
          -0.8475964665885573,
          0.9517729233758351,
          -1.584367599527483,
          0.5898714767615604,
          -1.9363744228568378,
          0.9524231976104315,
          0.8318831540138952,
          1.521580514426061,
          1.7890298424832978,
          -2.1653710822830385,
          0.9517703754150624,
          1.6149877056215092,
          -1.177928692062937,
          1.4005229650394986,
          0.9517778729942356,
          0.5814474838649193,
          -0.8475511665354748,
          -1.5843766691234333,
          -2.0138743777143673,
          -1.5843697039109121,
          1.282205011944692,
          2.1094029020131306,
          1.5141576026366548,
          1.7857645848298902,
          -1.8093921463128122,
          0.9517001194897382,
          -2.319708541015074,
          -2.2794662492833875,
          -2.018971712728703,
          1.2738227676486382,
          1.3668500771303174,
          -0.8476867779247854,
          -2.1609880024818837,
          0.9262303522336296,
          0.9517025873343562,
          -1.1794460089230658,
          1.2822577749147612,
          -1.2183762815010886,
          -0.847422839489611,
          -1.5843632878065046,
          1.3667991276023457,
          -1.5845366365481208,
          -1.1779251616830722,
          0.951467761555143,
          0.9517796531909506,
          1.034030778995549,
          -0.8474233271305551,
          -1.2977796985616528,
          -1.2596330470477053,
          1.3871359241573284,
          -0.1322731793810253,
          0.19820766566554426,
          -2.803626432527295,
          -2.192309373694943,
          0.951724374683784,
          -2.279603080351308,
          -1.1803839253559418,
          -2.1653193056421682,
          -1.2919826461120567,
          1.5372290662435721,
          3.6278723051038395,
          4.568381080113616,
          -1.17792184531884,
          -1.1836110205707158,
          -0.8476215925593252,
          0.8700537039466725,
          3.435631399526704,
          1.282258723249606,
          1.585144937882921,
          0.703490864705449,
          1.3671736403212842,
          -2.017162592110708,
          -2.2799771331963914,
          -1.177914034612682,
          -2.1290913416651494,
          1.5220416555899903,
          0.9517797090343759,
          0.9517787278539555,
          -1.9363850720743303,
          0.7033584533578869,
          -2.185442164598981,
          1.3454510504671113,
          1.518404046858588,
          0.9517677732104951,
          2.0853453956642123,
          -0.847458078782934,
          1.6150195048246991,
          1.518405213848994,
          -2.279466074286121,
          0.6125587606699167,
          0.9494264842039539,
          -0.6076255405856615,
          -2.1409285949663097,
          1.3852661889576103,
          -2.1639257993794536,
          0.7035475833068122,
          -2.185291868241878,
          -2.2797845902970097,
          -2.175708331761511,
          -2.3667150782521005,
          0.9492514440818458,
          0.7035288054612374,
          -2.1101023494678874,
          1.9684756794447247,
          -2.2798371252762752,
          0.951742049256774,
          1.5785339726212015,
          0.14373600983721238,
          1.3665059354413283,
          0.5836422700411293,
          1.761932744037491,
          -1.268881996425823,
          -2.1775177415546927,
          -0.847423264260953,
          0.860778738799193,
          1.3668466577904834,
          1.6150856278229941,
          0.6944410938031386,
          0.8380837411328662,
          1.366821223969665,
          -1.1779154050199527,
          0.9512429930439201,
          -2.1615171818527457,
          -2.2092357871258854,
          -0.5446168033614913,
          -2.2461491280203902,
          1.0340167651427234,
          1.2822535740990724,
          0.7034414430666068,
          1.5183345476154544,
          -1.29829550500063,
          0.9533486787685278,
          1.0339881739102166,
          -0.8474254162539939,
          0.9423762688179422,
          2.2051366166681836,
          -1.2689235746068737,
          2.7723386428211083,
          -1.9392343409042985,
          1.3369214357966186,
          -2.185329594484766,
          -1.297780782562178,
          1.4866532100013605,
          1.0390602860292721,
          -2.2832767578265787,
          1.6150678384518324,
          -2.204787761208938,
          -2.2047404852258357,
          -0.05496662741973492,
          -2.107335624905249,
          -1.177958357344028,
          0.9517740584667649,
          -1.9364995223183883,
          1.6150817352872686,
          -1.9363774397351885,
          1.3668492740506546,
          0.9204048327891264,
          -1.4772257773562292,
          1.0340304038665913,
          0.9517417421929768,
          1.5849653857024544,
          1.9660830628883454,
          1.2820494210103872,
          -1.2977939837825279,
          -0.34386137745168066,
          -1.2978406826213176,
          1.2822623271721425,
          2.1093407058513733,
          0.9373607449452828,
          -1.2308287623789234,
          1.2823423319388971,
          -1.5853973907707029,
          0.9516741801518379,
          -2.2085023306982445,
          0.9517578026582396,
          0.5836694648818134,
          0.9517838904314181,
          1.2821290176107814,
          -1.17821599635367,
          0.9464006461610738,
          0.8370400505223614,
          1.2818760687787862,
          -1.2977906588402994,
          0.9517904860677883,
          -1.1962586209279944,
          0.9516831388718282,
          -1.1939231547091191,
          1.2822180624639448,
          0.9517249575163998,
          1.5184414143133032,
          -1.1779051134708034,
          -1.1779817834842177,
          0.9803705568167318,
          0.8318753881632881,
          2.1095374100704842,
          0.7010655918342579,
          0.9516926821972057,
          0.5452985826970794,
          3.3922204116988723,
          -1.8091770086773673,
          1.7858243609841011,
          -2.152330835243291,
          2.1098863623041835,
          -2.0137330653077368,
          2.109916064383157,
          0.5834315131277771,
          3.575004408511437,
          1.5184432047744683,
          1.6186563825177596,
          1.9579755786620407,
          0.9308350235818504,
          0.9516505200832198,
          -2.2799305738054048,
          -1.936377311996913,
          0.703549823087678
         ],
         "z": [
          -0.6015791990366642,
          -0.6019371428195708,
          -0.7465915641320047,
          0.18740483294144122,
          0.4715796130349862,
          0.035949320488211846,
          -0.583584137312397,
          0.4322510706696358,
          0.47157693952693686,
          0.38921729844611164,
          -0.14090643475965772,
          0.4294139506150701,
          -0.4501396494068739,
          -0.09229219963554354,
          0.03596887142139046,
          -0.7130288552046053,
          0.05396524769010153,
          0.035966544067925356,
          -0.6015853784242167,
          -0.6017935926470142,
          0.43276145048660436,
          0.034583763522569255,
          0.1873529167286334,
          0.0359264854412107,
          0.03596804975212427,
          -0.6016207207214711,
          0.08097765785701241,
          0.127955578579569,
          0.035959435782975856,
          -0.6015792151949214,
          0.03596838163215483,
          -0.6015795532352333,
          0.03596925895573316,
          0.053967330867342206,
          -0.23727987480693996,
          -0.5095786234774646,
          0.4279038306618377,
          0.18100075198667567,
          0.031691431920979764,
          0.035963762415487814,
          0.035895962647525204,
          0.0359641996634033,
          -0.07249448515825044,
          -0.17239364677944352,
          0.03597046737435521,
          0.3260010995105169,
          0.03566745555627162,
          0.035948482518817326,
          0.03595657681518564,
          -0.6016097513887695,
          -0.22629631972199293,
          0.00507638223999504,
          -0.5835870455937626,
          0.18740376601597367,
          0.0359188359195689,
          0.035964300527266214,
          0.035970516037232676,
          -0.6974379726596353,
          0.03595786922413269,
          0.4302339372328912,
          -0.25091279526789434,
          0.03596889904585871,
          -0.4506923863552661,
          -0.24373368879716448,
          -0.7356000674008359,
          0.0351183920255667,
          0.18740590951697075,
          0.035856744436113745,
          -0.7355828832435913,
          -0.31147847408029145,
          -0.6016558480527893,
          -0.6016045070750508,
          -0.6114703452394773,
          0.03597044511822074,
          0.03596182017966,
          0.03596207318033647,
          -0.22574709170751703,
          -0.5835810110606671,
          0.18721767856783014,
          0.15361179034509473,
          0.1873960982259639,
          -0.3424195983040892,
          -0.583581529893243,
          0.18740306729639458,
          0.1874098998351664,
          0.1874108887829023,
          0.05396867453535867,
          -0.6019557681038673,
          -0.6015965097408988,
          0.03596299926973993,
          -0.3375703861956652,
          0.13670825749952184,
          0.035929579054933776,
          -0.5835833757556024,
          0.15360549140759167,
          0.18739757017862696,
          -0.7355889353544096,
          -0.6016327436190938,
          0.41111315898004563,
          0.4715177024915178,
          -0.037881876014809926,
          0.05384364121203389,
          0.035947504740453974,
          -0.45015258046631335,
          -0.5095954404456126,
          0.03582479184467411,
          -0.24373734329264704,
          0.03592389368025983,
          -0.7355784951806427,
          0.03597082264920494,
          -0.24378890337474343,
          0.03591893904562842,
          -0.6015796942755913,
          -0.7355802000609297,
          0.03569987713997842,
          0.48085873329330586,
          -0.2257309626103934,
          0.43331632696687616,
          0.18388202287741137,
          0.03596746006750576,
          -0.601583186731131,
          0.03437922979907996,
          0.4628759918907973,
          0.03597068227119745,
          0.18740667669607122,
          0.03563853053708887,
          -0.583581521387475,
          -0.4807123006154858,
          0.053958091037792484,
          0.4390848541457411,
          0.18740578753349804,
          -0.9388971491121996,
          0.053963653527386087,
          -0.35307383843757084,
          0.03595914645446666,
          0.035944477920184424,
          -0.24376227266079478,
          0.4716123437585019,
          -0.7355857246966048,
          0.45924522886449526,
          -0.45015727587147786,
          -0.7130236330181302,
          0.053963670287444004,
          0.18740379701386303,
          -0.5463969679890581,
          0.03589928040663415,
          0.2862806262270637,
          -0.4501404527048616,
          -0.5873871031224915,
          0.03594702721162856,
          -0.45014090354218034,
          0.17999771518355592,
          -0.6440911861757418,
          -0.6015823869383201,
          -0.24374262674536717,
          0.053953558113149835,
          0.445139660144273,
          0.035970070639946373,
          0.4817091126059518,
          -0.5835859092289476,
          -0.25655997880582276,
          -0.4501407564016676,
          -0.2243716060269897,
          -0.07249938910821292,
          0.035968604268976884,
          0.053964384655019876,
          -0.5836266807598812,
          -0.4501403429971913,
          -0.4501466536148026,
          -0.6407222101893462,
          -0.5835897412517691,
          0.035970683304472374,
          -0.14907602038001075,
          -0.6018607630610481,
          -0.6015808863615408,
          -0.6016133005060311,
          -0.37772915107896904,
          0.053968526664186334,
          -0.22595402956254942,
          0.25779177082883453,
          -0.5835864425657736,
          -0.6015940882793728,
          0.47388145029554896,
          -0.4501394118285151,
          0.1874088156172559,
          -0.5835812433850448,
          -0.6015801460441927,
          0.4329965590585679,
          -0.6015798535457755,
          0.03593074718456681,
          -0.24378539417740894,
          0.18740784641696887,
          -0.2033971731878124,
          0.03596703350676528,
          -0.8315727720236803,
          -0.07251781531590433,
          -0.6015905097524855,
          -0.583675732315005,
          0.4505436828858453,
          -0.07254289073218975,
          -0.37772759418222446,
          -0.9008639219419079,
          -0.07249966818733426,
          -0.8252871693834868,
          0.47160700948540735,
          0.3892178954819782,
          -0.5143060822133692,
          -0.583587307940778,
          0.035868538916135145,
          0.05368925605008773,
          -0.7666869305648627,
          -0.5835823247015346,
          -0.07250961955332087,
          -0.6015851043151547,
          -0.6015801772332712,
          0.0539475536338729,
          -0.07249938910821292,
          -0.5835832752575333,
          -0.4501433966935533,
          -0.6015861486133985,
          -0.3188528805950724,
          -0.6015830388308786,
          -0.6015852319644557,
          -0.5835813035935681,
          0.4738837198399758,
          -0.6015825459115353,
          -0.2552542652951234,
          -0.6015804177756829,
          -0.6015803297555851,
          -0.1986365422664654,
          -0.4536764057009051,
          0.03597058207089861,
          0.4738808783142283,
          0.43908905949158056,
          -0.6015890911580434,
          -0.4501400632345118,
          -0.5835829538431213,
          -0.6015832599495021,
          0.053426671017161684,
          -0.6015793822328762,
          0.4322525050242016,
          -0.2437293559518873,
          -0.2827409625236199,
          0.035969830289101945,
          -0.37773169479270613,
          0.05395521740941786,
          0.3892174685736974,
          -0.6019202138592559,
          0.03593684487312382,
          0.4390833953873172,
          -0.24374045902025016,
          0.49823967052246065,
          -0.5835858130363976,
          -0.7552443185678023,
          -0.5836187349864417,
          0.03593481808244334,
          -0.07253046472544407,
          -0.5835886332399596,
          -0.00314722605455888,
          -0.07262945433051944,
          -0.583623867048642,
          -0.6015810871391158,
          -0.6015796897820346,
          -0.60158298004123,
          -0.09259295543532016,
          -0.5835869488201836,
          0.03596392400448598,
          -0.2438349752622453,
          0.18695731535376764,
          -0.0724965202719426,
          -0.6015867848164732,
          -0.7270625371440118,
          -0.09229231978543007,
          0.03596601999373962,
          -0.14909698055239862,
          0.43223320215931554,
          -0.7922266953802964,
          0.4573454937686161,
          0.4703664899786883,
          0.48041534406815334,
          0.47326638231935936,
          -0.6406951722625237,
          0.05395686467434107,
          -0.6407153989973414,
          -0.8035120455312865,
          0.035964705702786336,
          -0.735585053725433,
          0.03596887897826021,
          0.05396007838638869,
          0.05396812864364684,
          -0.6048115973908811,
          0.47387915243407147,
          -0.7355852325714444,
          0.5791358898047857,
          -0.01976677068258478,
          0.12884608208151835,
          -0.15967344831432073,
          0.053923784746456885,
          -0.8035257195918035,
          0.18740480985817318,
          -0.5835852859040599,
          -0.24373453109625448,
          9.674575807765036,
          0.03593280047484009,
          -0.07249414094019092,
          -0.012279917123106814,
          0.03596754710781597,
          0.03596470114868562,
          0.035959517201316515,
          0.03595915624980968,
          -0.6015859660301072,
          -0.6015806312846547,
          0.47388078600907463,
          -0.13997718091943698,
          -0.08491926112262306,
          -0.5835835585452535,
          0.3873856154976737,
          -0.31154044140113835,
          0.05305062940112288,
          -0.6015796407429707,
          0.32607121558638746,
          -0.14298142197803593,
          0.38921398538792124,
          -0.6180198550523354,
          -0.45017055447418564,
          -0.6408871989283552,
          -0.6997179599023645,
          0.4451296604769212,
          -0.6015800001911569,
          -0.556495051821964,
          0.035936795412216394,
          -0.018848693818642667,
          -0.601584773206192,
          -0.09535724075423488,
          0.053908699301378156,
          0.32607040514416386,
          0.47161063048371665,
          0.326070636020185,
          -0.583594419135801,
          -0.5143681316600023,
          -0.650384043059218,
          -0.735640452877158,
          0.43317337512259757,
          -0.6016174015207638,
          0.4670713436073098,
          0.47388256226192615,
          0.4714040725878634,
          -0.28284727061027565,
          -0.19863873252282868,
          0.05393999621951627,
          0.43210438499358966,
          -0.6034169674682375,
          -0.6015825815975385,
          0.03461530044591317,
          -0.5835964331694604,
          0.08067925804166086,
          0.05396758347198503,
          0.3260699951298702,
          -0.1986425838176047,
          0.3259697599834843,
          0.03595531623862636,
          -0.6017818626723376,
          -0.601580058491573,
          -0.22573154569129356,
          0.053966138267725956,
          0.18740408056892494,
          0.1825023001686732,
          -0.1490698678618381,
          0.1919163294902664,
          -0.3611400896060129,
          0.4523422938211478,
          0.29206778406229156,
          -0.6016592748017497,
          0.47383772283646813,
          0.03256074515322496,
          0.44510511935225855,
          0.13650463516568664,
          -0.3778073348944346,
          11.22626412220316,
          4.1572090155356936,
          0.03596654968418524,
          0.031015096891935913,
          0.05389598337042988,
          -0.45504755470147157,
          14.105266895877895,
          -0.5835818323981979,
          -0.6025192656581891,
          -0.24373724649133935,
          0.022443879684842512,
          0.4715089208329688,
          0.4738535046473638,
          0.03596944436388316,
          0.49688497816737964,
          -0.6406985613773203,
          -0.601579495179621,
          -0.6015796159454972,
          0.38919553698662157,
          -0.2438201642453055,
          0.4505360052971781,
          -0.08442382537137533,
          -0.0725002679109439,
          -0.6015826410982608,
          -0.40395303323900544,
          0.053957990759909744,
          -0.5565318381593497,
          -0.07249659461551795,
          0.47387865513032384,
          -0.0785667370899816,
          -0.6020714674249482,
          -0.00315082086900084,
          0.43908791372623146,
          -0.3720153793799744,
          0.4129250534986617,
          -0.24374132487238911,
          0.45054391858840703,
          0.47388192989175143,
          0.2849893381732128,
          0.459286584196788,
          -0.6050575503588849,
          -0.24373090450030624,
          0.49741969961974275,
          -0.8249065068065323,
          0.47369153899824473,
          -0.6015867901286416,
          -0.35517848800507773,
          -0.28285002452491254,
          -0.1986362038397794,
          -0.0923079749816743,
          -0.3173252859041051,
          0.20113115458524633,
          0.4857130973931605,
          0.053967321364987955,
          -0.43642887266603614,
          -0.19863540483433872,
          -0.5564859830617269,
          -0.24378949867633304,
          -0.5008289535727444,
          -0.19865558733516417,
          0.035970335685467994,
          -0.6015846345965462,
          0.43224529602431666,
          0.4110993592470782,
          0.03502545111425806,
          0.25074050797610425,
          -0.22573668307336409,
          -0.583591573531239,
          -0.24376547018021047,
          -0.0724964743958758,
          0.18669482631660234,
          -0.5079327253685608,
          -0.22573186392300576,
          0.0539672992058418,
          -0.6020018519167551,
          -0.16631695166143995,
          0.20113032384421092,
          16.841399037781517,
          0.3877634744616632,
          -0.2446703503128131,
          0.45054140987918206,
          0.18740481089568584,
          -0.33480495414596084,
          -0.2315366544373464,
          0.47322498918288797,
          -0.5564960766895015,
          0.5038688926170726,
          0.5038643670018876,
          0.10951587456436172,
          0.43408258565420943,
          0.03595855489180411,
          -0.6015842608634042,
          0.3892068749903321,
          -0.5564901986288031,
          0.38921126785745364,
          -0.19863364042858725,
          -0.6122500725938821,
          0.18387944811459092,
          -0.2257302954426516,
          -0.6015864349074,
          -0.6025878358444667,
          -0.8252154270322709,
          -0.5835877306593185,
          0.1873930822135767,
          -0.09802807934886161,
          0.18738180193165974,
          -0.5835891410983717,
          -0.5146101378548484,
          -0.606874261233195,
          0.03559777736607397,
          -0.5836628557741481,
          0.3247678110978735,
          -0.601581114929187,
          0.5038366379967459,
          -0.60158633758641,
          -0.09228966504303138,
          -0.6015824486134813,
          -0.5837300436309498,
          0.03570403614900248,
          -0.6019480299834835,
          -0.45619272983653725,
          -0.5837513810234143,
          0.18740304990900183,
          -0.6015994973582612,
          0.025808565112786945,
          -0.6017170613468293,
          0.12794748953970173,
          -0.5836497028533676,
          -0.6016147392752325,
          -0.07249389062027355,
          0.035969170715702235,
          0.03594672436975783,
          -0.13725264595721717,
          -0.45016471025639543,
          -0.5143101930923688,
          -0.24713843401825752,
          -0.6016653100298617,
          -0.31147796918498205,
          11.963129659553283,
          0.4333371617080726,
          -0.7355778173803298,
          0.47572826838542365,
          -0.51461345731106,
          0.47160759521075396,
          -0.5146478176279424,
          -0.09262912206227945,
          10.801795931404236,
          -0.07249573215472897,
          -1.1352456073850212,
          0.06668005220007349,
          -0.2899201783459098,
          -0.6015851398743355,
          0.4735483381053987,
          0.38921732763775563,
          -0.2437282180872726
         ]
        }
       ],
       "layout": {
        "coloraxis": {
         "colorbar": {
          "title": {
           "text": "class"
          }
         },
         "colorscale": [
          [
           0,
           "#0d0887"
          ],
          [
           0.1111111111111111,
           "#46039f"
          ],
          [
           0.2222222222222222,
           "#7201a8"
          ],
          [
           0.3333333333333333,
           "#9c179e"
          ],
          [
           0.4444444444444444,
           "#bd3786"
          ],
          [
           0.5555555555555556,
           "#d8576b"
          ],
          [
           0.6666666666666666,
           "#ed7953"
          ],
          [
           0.7777777777777778,
           "#fb9f3a"
          ],
          [
           0.8888888888888888,
           "#fdca26"
          ],
          [
           1,
           "#f0f921"
          ]
         ]
        },
        "legend": {
         "tracegroupgap": 0
        },
        "margin": {
         "t": 60
        },
        "scene": {
         "domain": {
          "x": [
           0,
           1
          ],
          "y": [
           0,
           1
          ]
         },
         "xaxis": {
          "title": {
           "text": "PC 1"
          }
         },
         "yaxis": {
          "title": {
           "text": "PC 2"
          }
         },
         "zaxis": {
          "title": {
           "text": "PC 3"
          }
         }
        },
        "template": {
         "data": {
          "bar": [
           {
            "error_x": {
             "color": "#2a3f5f"
            },
            "error_y": {
             "color": "#2a3f5f"
            },
            "marker": {
             "line": {
              "color": "#E5ECF6",
              "width": 0.5
             }
            },
            "type": "bar"
           }
          ],
          "barpolar": [
           {
            "marker": {
             "line": {
              "color": "#E5ECF6",
              "width": 0.5
             }
            },
            "type": "barpolar"
           }
          ],
          "carpet": [
           {
            "aaxis": {
             "endlinecolor": "#2a3f5f",
             "gridcolor": "white",
             "linecolor": "white",
             "minorgridcolor": "white",
             "startlinecolor": "#2a3f5f"
            },
            "baxis": {
             "endlinecolor": "#2a3f5f",
             "gridcolor": "white",
             "linecolor": "white",
             "minorgridcolor": "white",
             "startlinecolor": "#2a3f5f"
            },
            "type": "carpet"
           }
          ],
          "choropleth": [
           {
            "colorbar": {
             "outlinewidth": 0,
             "ticks": ""
            },
            "type": "choropleth"
           }
          ],
          "contour": [
           {
            "colorbar": {
             "outlinewidth": 0,
             "ticks": ""
            },
            "colorscale": [
             [
              0,
              "#0d0887"
             ],
             [
              0.1111111111111111,
              "#46039f"
             ],
             [
              0.2222222222222222,
              "#7201a8"
             ],
             [
              0.3333333333333333,
              "#9c179e"
             ],
             [
              0.4444444444444444,
              "#bd3786"
             ],
             [
              0.5555555555555556,
              "#d8576b"
             ],
             [
              0.6666666666666666,
              "#ed7953"
             ],
             [
              0.7777777777777778,
              "#fb9f3a"
             ],
             [
              0.8888888888888888,
              "#fdca26"
             ],
             [
              1,
              "#f0f921"
             ]
            ],
            "type": "contour"
           }
          ],
          "contourcarpet": [
           {
            "colorbar": {
             "outlinewidth": 0,
             "ticks": ""
            },
            "type": "contourcarpet"
           }
          ],
          "heatmap": [
           {
            "colorbar": {
             "outlinewidth": 0,
             "ticks": ""
            },
            "colorscale": [
             [
              0,
              "#0d0887"
             ],
             [
              0.1111111111111111,
              "#46039f"
             ],
             [
              0.2222222222222222,
              "#7201a8"
             ],
             [
              0.3333333333333333,
              "#9c179e"
             ],
             [
              0.4444444444444444,
              "#bd3786"
             ],
             [
              0.5555555555555556,
              "#d8576b"
             ],
             [
              0.6666666666666666,
              "#ed7953"
             ],
             [
              0.7777777777777778,
              "#fb9f3a"
             ],
             [
              0.8888888888888888,
              "#fdca26"
             ],
             [
              1,
              "#f0f921"
             ]
            ],
            "type": "heatmap"
           }
          ],
          "heatmapgl": [
           {
            "colorbar": {
             "outlinewidth": 0,
             "ticks": ""
            },
            "colorscale": [
             [
              0,
              "#0d0887"
             ],
             [
              0.1111111111111111,
              "#46039f"
             ],
             [
              0.2222222222222222,
              "#7201a8"
             ],
             [
              0.3333333333333333,
              "#9c179e"
             ],
             [
              0.4444444444444444,
              "#bd3786"
             ],
             [
              0.5555555555555556,
              "#d8576b"
             ],
             [
              0.6666666666666666,
              "#ed7953"
             ],
             [
              0.7777777777777778,
              "#fb9f3a"
             ],
             [
              0.8888888888888888,
              "#fdca26"
             ],
             [
              1,
              "#f0f921"
             ]
            ],
            "type": "heatmapgl"
           }
          ],
          "histogram": [
           {
            "marker": {
             "colorbar": {
              "outlinewidth": 0,
              "ticks": ""
             }
            },
            "type": "histogram"
           }
          ],
          "histogram2d": [
           {
            "colorbar": {
             "outlinewidth": 0,
             "ticks": ""
            },
            "colorscale": [
             [
              0,
              "#0d0887"
             ],
             [
              0.1111111111111111,
              "#46039f"
             ],
             [
              0.2222222222222222,
              "#7201a8"
             ],
             [
              0.3333333333333333,
              "#9c179e"
             ],
             [
              0.4444444444444444,
              "#bd3786"
             ],
             [
              0.5555555555555556,
              "#d8576b"
             ],
             [
              0.6666666666666666,
              "#ed7953"
             ],
             [
              0.7777777777777778,
              "#fb9f3a"
             ],
             [
              0.8888888888888888,
              "#fdca26"
             ],
             [
              1,
              "#f0f921"
             ]
            ],
            "type": "histogram2d"
           }
          ],
          "histogram2dcontour": [
           {
            "colorbar": {
             "outlinewidth": 0,
             "ticks": ""
            },
            "colorscale": [
             [
              0,
              "#0d0887"
             ],
             [
              0.1111111111111111,
              "#46039f"
             ],
             [
              0.2222222222222222,
              "#7201a8"
             ],
             [
              0.3333333333333333,
              "#9c179e"
             ],
             [
              0.4444444444444444,
              "#bd3786"
             ],
             [
              0.5555555555555556,
              "#d8576b"
             ],
             [
              0.6666666666666666,
              "#ed7953"
             ],
             [
              0.7777777777777778,
              "#fb9f3a"
             ],
             [
              0.8888888888888888,
              "#fdca26"
             ],
             [
              1,
              "#f0f921"
             ]
            ],
            "type": "histogram2dcontour"
           }
          ],
          "mesh3d": [
           {
            "colorbar": {
             "outlinewidth": 0,
             "ticks": ""
            },
            "type": "mesh3d"
           }
          ],
          "parcoords": [
           {
            "line": {
             "colorbar": {
              "outlinewidth": 0,
              "ticks": ""
             }
            },
            "type": "parcoords"
           }
          ],
          "pie": [
           {
            "automargin": true,
            "type": "pie"
           }
          ],
          "scatter": [
           {
            "marker": {
             "colorbar": {
              "outlinewidth": 0,
              "ticks": ""
             }
            },
            "type": "scatter"
           }
          ],
          "scatter3d": [
           {
            "line": {
             "colorbar": {
              "outlinewidth": 0,
              "ticks": ""
             }
            },
            "marker": {
             "colorbar": {
              "outlinewidth": 0,
              "ticks": ""
             }
            },
            "type": "scatter3d"
           }
          ],
          "scattercarpet": [
           {
            "marker": {
             "colorbar": {
              "outlinewidth": 0,
              "ticks": ""
             }
            },
            "type": "scattercarpet"
           }
          ],
          "scattergeo": [
           {
            "marker": {
             "colorbar": {
              "outlinewidth": 0,
              "ticks": ""
             }
            },
            "type": "scattergeo"
           }
          ],
          "scattergl": [
           {
            "marker": {
             "colorbar": {
              "outlinewidth": 0,
              "ticks": ""
             }
            },
            "type": "scattergl"
           }
          ],
          "scattermapbox": [
           {
            "marker": {
             "colorbar": {
              "outlinewidth": 0,
              "ticks": ""
             }
            },
            "type": "scattermapbox"
           }
          ],
          "scatterpolar": [
           {
            "marker": {
             "colorbar": {
              "outlinewidth": 0,
              "ticks": ""
             }
            },
            "type": "scatterpolar"
           }
          ],
          "scatterpolargl": [
           {
            "marker": {
             "colorbar": {
              "outlinewidth": 0,
              "ticks": ""
             }
            },
            "type": "scatterpolargl"
           }
          ],
          "scatterternary": [
           {
            "marker": {
             "colorbar": {
              "outlinewidth": 0,
              "ticks": ""
             }
            },
            "type": "scatterternary"
           }
          ],
          "surface": [
           {
            "colorbar": {
             "outlinewidth": 0,
             "ticks": ""
            },
            "colorscale": [
             [
              0,
              "#0d0887"
             ],
             [
              0.1111111111111111,
              "#46039f"
             ],
             [
              0.2222222222222222,
              "#7201a8"
             ],
             [
              0.3333333333333333,
              "#9c179e"
             ],
             [
              0.4444444444444444,
              "#bd3786"
             ],
             [
              0.5555555555555556,
              "#d8576b"
             ],
             [
              0.6666666666666666,
              "#ed7953"
             ],
             [
              0.7777777777777778,
              "#fb9f3a"
             ],
             [
              0.8888888888888888,
              "#fdca26"
             ],
             [
              1,
              "#f0f921"
             ]
            ],
            "type": "surface"
           }
          ],
          "table": [
           {
            "cells": {
             "fill": {
              "color": "#EBF0F8"
             },
             "line": {
              "color": "white"
             }
            },
            "header": {
             "fill": {
              "color": "#C8D4E3"
             },
             "line": {
              "color": "white"
             }
            },
            "type": "table"
           }
          ]
         },
         "layout": {
          "annotationdefaults": {
           "arrowcolor": "#2a3f5f",
           "arrowhead": 0,
           "arrowwidth": 1
          },
          "autotypenumbers": "strict",
          "coloraxis": {
           "colorbar": {
            "outlinewidth": 0,
            "ticks": ""
           }
          },
          "colorscale": {
           "diverging": [
            [
             0,
             "#8e0152"
            ],
            [
             0.1,
             "#c51b7d"
            ],
            [
             0.2,
             "#de77ae"
            ],
            [
             0.3,
             "#f1b6da"
            ],
            [
             0.4,
             "#fde0ef"
            ],
            [
             0.5,
             "#f7f7f7"
            ],
            [
             0.6,
             "#e6f5d0"
            ],
            [
             0.7,
             "#b8e186"
            ],
            [
             0.8,
             "#7fbc41"
            ],
            [
             0.9,
             "#4d9221"
            ],
            [
             1,
             "#276419"
            ]
           ],
           "sequential": [
            [
             0,
             "#0d0887"
            ],
            [
             0.1111111111111111,
             "#46039f"
            ],
            [
             0.2222222222222222,
             "#7201a8"
            ],
            [
             0.3333333333333333,
             "#9c179e"
            ],
            [
             0.4444444444444444,
             "#bd3786"
            ],
            [
             0.5555555555555556,
             "#d8576b"
            ],
            [
             0.6666666666666666,
             "#ed7953"
            ],
            [
             0.7777777777777778,
             "#fb9f3a"
            ],
            [
             0.8888888888888888,
             "#fdca26"
            ],
            [
             1,
             "#f0f921"
            ]
           ],
           "sequentialminus": [
            [
             0,
             "#0d0887"
            ],
            [
             0.1111111111111111,
             "#46039f"
            ],
            [
             0.2222222222222222,
             "#7201a8"
            ],
            [
             0.3333333333333333,
             "#9c179e"
            ],
            [
             0.4444444444444444,
             "#bd3786"
            ],
            [
             0.5555555555555556,
             "#d8576b"
            ],
            [
             0.6666666666666666,
             "#ed7953"
            ],
            [
             0.7777777777777778,
             "#fb9f3a"
            ],
            [
             0.8888888888888888,
             "#fdca26"
            ],
            [
             1,
             "#f0f921"
            ]
           ]
          },
          "colorway": [
           "#636efa",
           "#EF553B",
           "#00cc96",
           "#ab63fa",
           "#FFA15A",
           "#19d3f3",
           "#FF6692",
           "#B6E880",
           "#FF97FF",
           "#FECB52"
          ],
          "font": {
           "color": "#2a3f5f"
          },
          "geo": {
           "bgcolor": "white",
           "lakecolor": "white",
           "landcolor": "#E5ECF6",
           "showlakes": true,
           "showland": true,
           "subunitcolor": "white"
          },
          "hoverlabel": {
           "align": "left"
          },
          "hovermode": "closest",
          "mapbox": {
           "style": "light"
          },
          "paper_bgcolor": "white",
          "plot_bgcolor": "#E5ECF6",
          "polar": {
           "angularaxis": {
            "gridcolor": "white",
            "linecolor": "white",
            "ticks": ""
           },
           "bgcolor": "#E5ECF6",
           "radialaxis": {
            "gridcolor": "white",
            "linecolor": "white",
            "ticks": ""
           }
          },
          "scene": {
           "xaxis": {
            "backgroundcolor": "#E5ECF6",
            "gridcolor": "white",
            "gridwidth": 2,
            "linecolor": "white",
            "showbackground": true,
            "ticks": "",
            "zerolinecolor": "white"
           },
           "yaxis": {
            "backgroundcolor": "#E5ECF6",
            "gridcolor": "white",
            "gridwidth": 2,
            "linecolor": "white",
            "showbackground": true,
            "ticks": "",
            "zerolinecolor": "white"
           },
           "zaxis": {
            "backgroundcolor": "#E5ECF6",
            "gridcolor": "white",
            "gridwidth": 2,
            "linecolor": "white",
            "showbackground": true,
            "ticks": "",
            "zerolinecolor": "white"
           }
          },
          "shapedefaults": {
           "line": {
            "color": "#2a3f5f"
           }
          },
          "ternary": {
           "aaxis": {
            "gridcolor": "white",
            "linecolor": "white",
            "ticks": ""
           },
           "baxis": {
            "gridcolor": "white",
            "linecolor": "white",
            "ticks": ""
           },
           "bgcolor": "#E5ECF6",
           "caxis": {
            "gridcolor": "white",
            "linecolor": "white",
            "ticks": ""
           }
          },
          "title": {
           "x": 0.05
          },
          "xaxis": {
           "automargin": true,
           "gridcolor": "white",
           "linecolor": "white",
           "ticks": "",
           "title": {
            "standoff": 15
           },
           "zerolinecolor": "white",
           "zerolinewidth": 2
          },
          "yaxis": {
           "automargin": true,
           "gridcolor": "white",
           "linecolor": "white",
           "ticks": "",
           "title": {
            "standoff": 15
           },
           "zerolinecolor": "white",
           "zerolinewidth": 2
          }
         }
        }
       }
      },
      "text/html": [
       "<div>                            <div id=\"e75a4e1a-281d-45ea-a3d4-81fb04fc628d\" class=\"plotly-graph-div\" style=\"height:525px; width:100%;\"></div>            <script type=\"text/javascript\">                require([\"plotly\"], function(Plotly) {                    window.PLOTLYENV=window.PLOTLYENV || {};                                    if (document.getElementById(\"e75a4e1a-281d-45ea-a3d4-81fb04fc628d\")) {                    Plotly.newPlot(                        \"e75a4e1a-281d-45ea-a3d4-81fb04fc628d\",                        [{\"customdata\": [[\"Scrypt\"], [\"Scrypt\"], [\"X13\"], [\"SHA-256\"], [\"Ethash\"], [\"Scrypt\"], [\"X11\"], [\"CryptoNight-V7\"], [\"Ethash\"], [\"Equihash\"], [\"SHA-512\"], [\"Multiple\"], [\"SHA-256\"], [\"SHA-256\"], [\"Scrypt\"], [\"X15\"], [\"X11\"], [\"Scrypt\"], [\"Scrypt\"], [\"Scrypt\"], [\"Multiple\"], [\"Scrypt\"], [\"SHA-256\"], [\"Scrypt\"], [\"Scrypt\"], [\"Scrypt\"], [\"Quark\"], [\"Groestl\"], [\"Scrypt\"], [\"Scrypt\"], [\"Scrypt\"], [\"Scrypt\"], [\"Scrypt\"], [\"X11\"], [\"Scrypt\"], [\"Groestl\"], [\"Multiple\"], [\"SHA-256\"], [\"Scrypt\"], [\"Scrypt\"], [\"Scrypt\"], [\"Scrypt\"], [\"PoS\"], [\"Scrypt\"], [\"Scrypt\"], [\"NeoScrypt\"], [\"Scrypt\"], [\"Scrypt\"], [\"Scrypt\"], [\"Scrypt\"], [\"X11\"], [\"Scrypt\"], [\"X11\"], [\"SHA-256\"], [\"Scrypt\"], [\"Scrypt\"], [\"Scrypt\"], [\"SHA3\"], [\"Scrypt\"], [\"HybridScryptHash256\"], [\"Scrypt\"], [\"Scrypt\"], [\"SHA-256\"], [\"Scrypt\"], [\"X13\"], [\"Scrypt\"], [\"SHA-256\"], [\"Scrypt\"], [\"X13\"], [\"NeoScrypt\"], [\"Scrypt\"], [\"Scrypt\"], [\"Scrypt\"], [\"Scrypt\"], [\"Scrypt\"], [\"Scrypt\"], [\"X11\"], [\"X11\"], [\"SHA-256\"], [\"Multiple\"], [\"SHA-256\"], [\"PHI1612\"], [\"X11\"], [\"SHA-256\"], [\"SHA-256\"], [\"SHA-256\"], [\"X11\"], [\"Scrypt\"], [\"Scrypt\"], [\"Scrypt\"], [\"Scrypt\"], [\"Lyra2REv2\"], [\"Scrypt\"], [\"X11\"], [\"Multiple\"], [\"SHA-256\"], [\"X13\"], [\"Scrypt\"], [\"CryptoNight\"], [\"CryptoNight\"], [\"Shabal256\"], [\"Counterparty\"], [\"Scrypt\"], [\"SHA-256\"], [\"Groestl\"], [\"Scrypt\"], [\"Scrypt\"], [\"Scrypt\"], [\"X13\"], [\"Scrypt\"], [\"Scrypt\"], [\"Scrypt\"], [\"Scrypt\"], [\"X13\"], [\"Scrypt\"], [\"Stanford Folding\"], [\"X11\"], [\"Multiple\"], [\"QuBit\"], [\"Scrypt\"], [\"Scrypt\"], [\"Scrypt\"], [\"M7 POW\"], [\"Scrypt\"], [\"SHA-256\"], [\"Scrypt\"], [\"X11\"], [\"SHA3\"], [\"X11\"], [\"Lyra2RE\"], [\"SHA-256\"], [\"QUAIT\"], [\"X11\"], [\"X11\"], [\"Scrypt\"], [\"Scrypt\"], [\"Scrypt\"], [\"Ethash\"], [\"X13\"], [\"Blake2b\"], [\"SHA-256\"], [\"X15\"], [\"X11\"], [\"SHA-256\"], [\"BLAKE256\"], [\"Scrypt\"], [\"1GB AES Pattern Search\"], [\"SHA-256\"], [\"X11\"], [\"Scrypt\"], [\"SHA-256\"], [\"SHA-256\"], [\"NIST5\"], [\"Scrypt\"], [\"Scrypt\"], [\"X11\"], [\"Dagger\"], [\"Scrypt\"], [\"X11GOST\"], [\"X11\"], [\"Scrypt\"], [\"SHA-256\"], [\"Scrypt\"], [\"PoS\"], [\"Scrypt\"], [\"X11\"], [\"X11\"], [\"SHA-256\"], [\"SHA-256\"], [\"NIST5\"], [\"X11\"], [\"Scrypt\"], [\"POS 3.0\"], [\"Scrypt\"], [\"Scrypt\"], [\"Scrypt\"], [\"X13\"], [\"X11\"], [\"X11\"], [\"Equihash\"], [\"X11\"], [\"Scrypt\"], [\"CryptoNight\"], [\"SHA-256\"], [\"SHA-256\"], [\"X11\"], [\"Scrypt\"], [\"Multiple\"], [\"Scrypt\"], [\"Scrypt\"], [\"Scrypt\"], [\"SHA-256\"], [\"Scrypt\"], [\"Scrypt\"], [\"SHA-256D\"], [\"PoS\"], [\"Scrypt\"], [\"X11\"], [\"Lyra2Z\"], [\"PoS\"], [\"X13\"], [\"X14\"], [\"PoS\"], [\"SHA-256D\"], [\"Ethash\"], [\"Equihash\"], [\"DPoS\"], [\"X11\"], [\"Scrypt\"], [\"X11\"], [\"X13\"], [\"X11\"], [\"PoS\"], [\"Scrypt\"], [\"Scrypt\"], [\"X11\"], [\"PoS\"], [\"X11\"], [\"SHA-256\"], [\"Scrypt\"], [\"X11\"], [\"Scrypt\"], [\"Scrypt\"], [\"X11\"], [\"CryptoNight\"], [\"Scrypt\"], [\"Scrypt\"], [\"Scrypt\"], [\"Scrypt\"], [\"Quark\"], [\"QuBit\"], [\"Scrypt\"], [\"CryptoNight\"], [\"Lyra2RE\"], [\"Scrypt\"], [\"SHA-256\"], [\"X11\"], [\"Scrypt\"], [\"X11\"], [\"Scrypt\"], [\"CryptoNight-V7\"], [\"Scrypt\"], [\"Scrypt\"], [\"Scrypt\"], [\"X13\"], [\"X11\"], [\"Equihash\"], [\"Scrypt\"], [\"Scrypt\"], [\"Lyra2RE\"], [\"Scrypt\"], [\"Dagger-Hashimoto\"], [\"X11\"], [\"Blake2S\"], [\"X11\"], [\"Scrypt\"], [\"PoS\"], [\"X11\"], [\"NIST5\"], [\"PoS\"], [\"X11\"], [\"Scrypt\"], [\"Scrypt\"], [\"Scrypt\"], [\"SHA-256\"], [\"X11\"], [\"Scrypt\"], [\"Scrypt\"], [\"SHA-256\"], [\"PoS\"], [\"Scrypt\"], [\"X15\"], [\"SHA-256\"], [\"Scrypt\"], [\"POS 3.0\"], [\"CryptoNight-V7\"], [\"536\"], [\"Argon2d\"], [\"Blake2b\"], [\"Cloverhash\"], [\"CryptoNight\"], [\"NIST5\"], [\"X11\"], [\"NIST5\"], [\"Skein\"], [\"Scrypt\"], [\"X13\"], [\"Scrypt\"], [\"X11\"], [\"X11\"], [\"Scrypt\"], [\"CryptoNight\"], [\"X13\"], [\"Time Travel\"], [\"Scrypt\"], [\"Keccak\"], [\"SkunkHash v2 Raptor\"], [\"X11\"], [\"Skein\"], [\"SHA-256\"], [\"X11\"], [\"Scrypt\"], [\"VeChainThor Authority\"], [\"Scrypt\"], [\"PoS\"], [\"Scrypt\"], [\"Scrypt\"], [\"Scrypt\"], [\"Scrypt\"], [\"Scrypt\"], [\"Scrypt\"], [\"Scrypt\"], [\"CryptoNight\"], [\"SHA-512\"], [\"Ouroboros\"], [\"X11\"], [\"Equihash\"], [\"NeoScrypt\"], [\"X11\"], [\"Scrypt\"], [\"NeoScrypt\"], [\"Lyra2REv2\"], [\"Equihash\"], [\"Scrypt\"], [\"SHA-256\"], [\"NIST5\"], [\"PHI1612\"], [\"Dagger\"], [\"Scrypt\"], [\"Quark\"], [\"Scrypt\"], [\"POS 2.0\"], [\"Scrypt\"], [\"SHA-256\"], [\"X11\"], [\"NeoScrypt\"], [\"Ethash\"], [\"NeoScrypt\"], [\"X11\"], [\"DPoS\"], [\"NIST5\"], [\"X13\"], [\"Multiple\"], [\"Scrypt\"], [\"CryptoNight\"], [\"CryptoNight\"], [\"Ethash\"], [\"NIST5\"], [\"Quark\"], [\"X11\"], [\"CryptoNight-V7\"], [\"Scrypt\"], [\"Scrypt\"], [\"Scrypt\"], [\"X11\"], [\"BLAKE256\"], [\"X11\"], [\"NeoScrypt\"], [\"Quark\"], [\"NeoScrypt\"], [\"Scrypt\"], [\"Scrypt\"], [\"Scrypt\"], [\"X11\"], [\"X11\"], [\"SHA-256\"], [\"C11\"], [\"POS 3.0\"], [\"Ethash\"], [\"Scrypt\"], [\"CryptoNight\"], [\"SkunkHash\"], [\"Scrypt\"], [\"CryptoNight\"], [\"Scrypt\"], [\"Dagger\"], [\"Lyra2REv2\"], [\"X13\"], [\"Proof-of-BibleHash\"], [\"SHA-256 + Hive\"], [\"Scrypt\"], [\"Scrypt\"], [\"X11\"], [\"C11\"], [\"Proof-of-Authority\"], [\"X11\"], [\"XEVAN\"], [\"Scrypt\"], [\"VBFT\"], [\"Ethash\"], [\"CryptoNight\"], [\"Scrypt\"], [\"IMesh\"], [\"NIST5\"], [\"Scrypt\"], [\"Scrypt\"], [\"Equihash\"], [\"Scrypt\"], [\"Lyra2Z\"], [\"Green Protocol\"], [\"PoS\"], [\"Scrypt\"], [\"Semux BFT consensus\"], [\"X11\"], [\"Quark\"], [\"PoS\"], [\"CryptoNight\"], [\"X16R\"], [\"Scrypt\"], [\"NIST5\"], [\"Lyra2RE\"], [\"XEVAN\"], [\"Tribus\"], [\"Scrypt\"], [\"Lyra2Z\"], [\"CryptoNight\"], [\"CryptoNight Heavy\"], [\"CryptoNight\"], [\"Scrypt\"], [\"Scrypt\"], [\"Jump Consistent Hash\"], [\"SHA-256D\"], [\"CryptoNight\"], [\"Scrypt\"], [\"X15\"], [\"Scrypt\"], [\"Quark\"], [\"SHA-256\"], [\"DPoS\"], [\"X16R\"], [\"HMQ1725\"], [\"X11\"], [\"X16R\"], [\"Quark\"], [\"Quark\"], [\"Scrypt\"], [\"Lyra2REv2\"], [\"Quark\"], [\"Scrypt\"], [\"Scrypt\"], [\"CryptoNight-V7\"], [\"Cryptonight-GPU\"], [\"XEVAN\"], [\"CryptoNight Heavy\"], [\"X11\"], [\"X11\"], [\"Scrypt\"], [\"PoS\"], [\"SHA-256\"], [\"Keccak\"], [\"X11\"], [\"X11\"], [\"Scrypt\"], [\"SHA-512\"], [\"X16R\"], [\"ECC 256K1\"], [\"Equihash\"], [\"XEVAN\"], [\"Lyra2Z\"], [\"SHA-256\"], [\"XEVAN\"], [\"X11\"], [\"CryptoNight\"], [\"Quark\"], [\"Blake\"], [\"Blake\"], [\"Equihash\"], [\"Exosis\"], [\"Scrypt\"], [\"Scrypt\"], [\"Equihash\"], [\"Quark\"], [\"Equihash\"], [\"Quark\"], [\"Scrypt\"], [\"QuBit\"], [\"X11\"], [\"Scrypt\"], [\"XEVAN\"], [\"SHA-256D\"], [\"X11\"], [\"SHA-256\"], [\"X13\"], [\"SHA-256\"], [\"X11\"], [\"DPoS\"], [\"Scrypt\"], [\"Scrypt\"], [\"X11\"], [\"NeoScrypt\"], [\"Scrypt\"], [\"Blake\"], [\"Scrypt\"], [\"SHA-256\"], [\"Scrypt\"], [\"X11\"], [\"Scrypt\"], [\"Scrypt\"], [\"SHA-256\"], [\"X11\"], [\"SHA-256\"], [\"Scrypt\"], [\"Scrypt\"], [\"Scrypt\"], [\"Groestl\"], [\"X11\"], [\"Scrypt\"], [\"PoS\"], [\"Scrypt\"], [\"Scrypt\"], [\"X11\"], [\"SHA-256\"], [\"DPoS\"], [\"Scrypt\"], [\"Scrypt\"], [\"NeoScrypt\"], [\"SHA3-256\"], [\"Multiple\"], [\"X13\"], [\"Equihash+Scrypt\"], [\"DPoS\"], [\"Ethash\"], [\"DPoS\"], [\"SHA-256\"], [\"Leased POS\"], [\"PoS\"], [\"TRC10\"], [\"PoS\"], [\"SHA-256\"], [\"Scrypt\"], [\"CryptoNight\"], [\"Equihash\"], [\"Scrypt\"]], \"hovertemplate\": \"<b>%{hovertext}</b><br><br>PC 1=%{x}<br>PC 2=%{y}<br>PC 3=%{z}<br>Algorithm=%{customdata[0]}<br>class=%{marker.color}<extra></extra>\", \"hovertext\": [\"42 Coin\", \"404Coin\", \"EliteCoin\", \"Bitcoin\", \"Ethereum\", \"Litecoin\", \"Dash\", \"Monero\", \"Ethereum Classic\", \"ZCash\", \"Bitshares\", \"DigiByte\", \"BitcoinDark\", \"PayCoin\", \"ProsperCoin\", \"KoboCoin\", \"Spreadcoin\", \"Argentum\", \"Aurora Coin\", \"BlueCoin\", \"MyriadCoin\", \"MoonCoin\", \"ZetaCoin\", \"SexCoin\", \"Quatloo\", \"EnergyCoin\", \"QuarkCoin\", \"Riecoin\", \"Digitalcoin \", \"BitBar\", \"Catcoin\", \"CryptoBullion\", \"CannaCoin\", \"CryptCoin\", \"CasinoCoin\", \"Diamond\", \"Verge\", \"DevCoin\", \"EarthCoin\", \"E-Gulden\", \"Einsteinium\", \"Emerald\", \"Exclusive Coin\", \"FlutterCoin\", \"Franko\", \"FeatherCoin\", \"GrandCoin\", \"GlobalCoin\", \"GoldCoin\", \"HoboNickels\", \"HyperStake\", \"Infinite Coin\", \"IOCoin\", \"IXcoin\", \"KrugerCoin\", \"LuckyCoin\", \"Litebar \", \"MaxCoin\", \"MegaCoin\", \"MediterraneanCoin\", \"MintCoin\", \"MinCoin\", \"MazaCoin\", \"Nautilus Coin\", \"NavCoin\", \"NobleCoin\", \"Namecoin\", \"NyanCoin\", \"OpalCoin\", \"Orbitcoin\", \"PotCoin\", \"PhoenixCoin\", \"Reddcoin\", \"RonPaulCoin\", \"StableCoin\", \"SmartCoin\", \"SuperCoin\", \"SyncCoin\", \"SysCoin\", \"TeslaCoin\", \"TigerCoin\", \"TittieCoin\", \"TorCoin\", \"TerraCoin\", \"UnbreakableCoin\", \"Unobtanium\", \"UroCoin\", \"UnitaryStatus Dollar\", \"UltraCoin\", \"ViaCoin\", \"VeriCoin\", \"Vertcoin\", \"WorldCoin\", \"X11 Coin\", \"Crypti\", \"JouleCoin\", \"StealthCoin\", \"ZCC Coin\", \"ByteCoin\", \"DigitalNote \", \"BurstCoin\", \"StorjCoin\", \"MonaCoin\", \"Neutron\", \"FairCoin\", \"Gulden\", \"RubyCoin\", \"PesetaCoin\", \"Kore\", \"Wild Beast Coin\", \"Dnotes\", \"Flo\", \"8BIT Coin\", \"Sativa Coin\", \"ArtByte\", \"Folding Coin\", \"Ucoin\", \"Unitus\", \"CypherPunkCoin\", \"OmniCron\", \"Vtorrent\", \"GreenCoin\", \"Cryptonite\", \"MasterCoin\", \"SoonCoin\", \"1Credit\", \"IslaCoin\", \"Nexus\", \"MarsCoin \", \"Crypto\", \"Anarchists Prime\", \"Droidz\", \"BowsCoin\", \"Squall Coin\", \"Song Coin\", \"BitZeny\", \"Diggits\", \"Expanse\", \"Paycon\", \"Siacoin\", \"Emercoin\", \"EverGreenCoin\", \"MindCoin\", \"I0coin\", \"Decred\", \"Revolution VR\", \"HOdlcoin\", \"EDRCoin\", \"Hitcoin\", \"Gamecredits\", \"DubaiCoin\", \"CarpeDiemCoin\", \"PWR Coin\", \"BillaryCoin\", \"GPU Coin\", \"Adzcoin\", \"SoilCoin\", \"YoCoin\", \"SibCoin\", \"EuropeCoin\", \"ZeitCoin\", \"SwingCoin\", \"SafeExchangeCoin\", \"Nebuchadnezzar\", \"Francs\", \"BolivarCoin\", \"Ratecoin\", \"Revenu\", \"Clockcoin\", \"VIP Tokens\", \"BitSend\", \"Omni\", \"Let it Ride\", \"PutinCoin\", \"iBankCoin\", \"Frankywillcoin\", \"MudraCoin\", \"PizzaCoin\", \"Lutetium Coin\", \"Komodo\", \"GoldBlocks\", \"CarterCoin\", \"Karbo\", \"BitTokens\", \"ZayedCoin\", \"MustangCoin\", \"ZoneCoin\", \"Circuits of Value\", \"RootCoin\", \"DopeCoin\", \"BitCurrency\", \"DollarCoin\", \"Swiscoin\", \"Shilling\", \"BuzzCoin\", \"Opair\", \"PesoBit\", \"Halloween Coin\", \"ZCoin\", \"CoffeeCoin\", \"RoyalCoin\", \"GanjaCoin V2\", \"TeamUP\", \"LanaCoin\", \"Elementrem\", \"ZClassic\", \"ARK\", \"InsaneCoin\", \"KiloCoin\", \"ArtexCoin\", \"EmberCoin\", \"XenixCoin\", \"FreeCoin\", \"PLNCoin\", \"AquariusCoin\", \"Kurrent\", \"Creatio\", \"Eternity\", \"Eurocoin\", \"BitcoinFast\", \"Stakenet\", \"BitConnect Coin\", \"MoneyCoin\", \"Enigma\", \"Cannabis Industry Coin\", \"Russiacoin\", \"PandaCoin\", \"GameUnits\", \"GAKHcoin\", \"Allsafe\", \"LiteCreed\", \"OsmiumCoin\", \"Bikercoins\", \"HexxCoin\", \"Klingon Empire Darsek\", \"Internet of People\", \"KushCoin\", \"Printerium\", \"PacCoin\", \"Impeach\", \"Citadel\", \"Zilbercoin\", \"FirstCoin\", \"BeaverCoin\", \"FindCoin\", \"VaultCoin\", \"Zero\", \"OpenChat\", \"Canada eCoin\", \"Zoin\", \"RenosCoin\", \"DubaiCoin\", \"VirtacoinPlus\", \"TajCoin\", \"Impact\", \"EB3coin\", \"Atmos\", \"HappyCoin\", \"Coinonat\", \"MacronCoin\", \"Condensate\", \"Independent Money System\", \"ArgusCoin\", \"LomoCoin\", \"ProCurrency\", \"GoldReserve\", \"BenjiRolls\", \"GrowthCoin\", \"ILCoin\", \"Phreak\", \"Degas Coin\", \"HTML5 Coin\", \"Ultimate Secure Cash\", \"EquiTrader\", \"QTUM\", \"Quantum Resistant Ledger\", \"Espers\", \"Dynamic\", \"Nano\", \"ChanCoin\", \"Dinastycoin\", \"Denarius\", \"DigitalPrice\", \"Virta Unique Coin\", \"Bitcoin Planet\", \"Unify\", \"BritCoin\", \"SocialCoin\", \"ArcticCoin\", \"DAS\", \"Linda\", \"LeviarCoin\", \"DeepOnion\", \"Bitcore\", \"gCn Coin\", \"SmartCash\", \"Signatum\", \"Onix\", \"Cream\", \"Bitcoin Cash\", \"Monoeci\", \"Draftcoin\", \"Vechain\", \"Sojourn Coin\", \"Stakecoin\", \"NewYorkCoin\", \"FrazCoin\", \"Kronecoin\", \"AdCoin\", \"Linx\", \"CoinonatX\", \"Ethereum Dark\", \"Sumokoin\", \"Obsidian\", \"Cardano\", \"Regalcoin\", \"BitcoinZ\", \"TrezarCoin\", \"Elements\", \"TerraNovaCoin\", \"VIVO Coin\", \"Rupee\", \"Bitcoin Gold\", \"WomenCoin\", \"Theresa May Coin\", \"NamoCoin\", \"LUXCoin\", \"Pirl\", \"Xios\", \"Bitcloud 2.0\", \"eBoost\", \"KekCoin\", \"BlackholeCoin\", \"Infinity Economics\", \"Pura\", \"Innova\", \"Ellaism\", \"GoByte\", \"Magnet\", \"Lamden Tau\", \"Electra\", \"Bitcoin Diamond\", \"SHIELD\", \"Cash & Back Coin\", \"UltraNote\", \"BitCoal\", \"DaxxCoin\", \"Bulwark\", \"Kalkulus\", \"AC3\", \"Lethean\", \"GermanCoin\", \"LiteCoin Ultra\", \"PopularCoin\", \"PhantomX\", \"Photon\", \"Sucre\", \"SparksPay\", \"Digiwage\", \"GunCoin\", \"IrishCoin\", \"Trollcoin\", \"Litecoin Plus\", \"Monkey Project\", \"Pioneer Coin\", \"UnitedBitcoin\", \"Interzone\", \"TokenPay\", \"1717 Masonic Commemorative Token\", \"My Big Coin\", \"TurtleCoin\", \"MUNcoin\", \"Unified Society USDEX\", \"Niobio Cash\", \"ShareChain\", \"Travelflex\", \"KREDS\", \"Tokyo Coin\", \"BiblePay\", \"LitecoinCash\", \"BitFlip\", \"LottoCoin\", \"Crypto Improvement Fund\", \"Stipend\", \"Poa Network\", \"Pushi\", \"Ellerium\", \"Velox\", \"Ontology\", \"Callisto Network\", \"BitTube\", \"Poseidon\", \"Aidos Kuneen\", \"Bitspace\", \"Briacoin\", \"Ignition\", \"Bitrolium\", \"MedicCoin\", \"Alpenschillling\", \"Bitcoin Green\", \"Deviant Coin\", \"Abjcoin\", \"Semux\", \"FuturoCoin\", \"Carebit\", \"Zealium\", \"Monero Classic\", \"Proton\", \"iDealCash\", \"Jumpcoin\", \"Infinex\", \"Bitcoin Incognito\", \"KEYCO\", \"HollyWoodCoin\", \"GINcoin\", \"PlatinCoin\", \"Loki\", \"Newton Coin\", \"Swisscoin\", \"Xt3ch\", \"MassGrid\", \"TheVig\", \"PluraCoin\", \"EmaratCoin\", \"Dekado\", \"Lynx\", \"Poseidon Quark\", \"BitcoinWSpectrum\", \"Muse\", \"Motion\", \"PlusOneCoin\", \"Axe\", \"Trivechain\", \"Dystem\", \"Giant\", \"Peony Coin\", \"Absolute Coin\", \"Vitae\", \"HexCoin\", \"TPCash\", \"Webchain\", \"Ryo\", \"Urals Coin\", \"Qwertycoin\", \"ARENON\", \"EUNO\", \"MMOCoin\", \"Ketan\", \"Project Pai\", \"XDNA\", \"PAXEX\", \"Azart\", \"ThunderStake\", \"Kcash\", \"Xchange\", \"Acute Angle Cloud\", \"CrypticCoin\", \"Bettex coin\", \"Actinium\", \"Bitcoin SV\", \"BitMoney\", \"Junson Ming Chan Coin\", \"FREDEnergy\", \"HerbCoin\", \"Universal Molecule\", \"Lithium\", \"PirateCash\", \"Exosis\", \"Block-Logic\", \"Oduwa\", \"Beam\", \"Galilel\", \"Bithereum\", \"Crypto Sports\", \"Credit\", \"SLICE\", \"Dash Platinum\", \"Nasdacoin\", \"Beetle Coin\", \"Titan Coin\", \"Award\", \"BLAST\", \"Bitcoin Rhodium\", \"GlobalToken\", \"Insane Coin\", \"ALAX\", \"LiteDoge\", \"SolarCoin\", \"TruckCoin\", \"UFO Coin\", \"OrangeCoin\", \"BlakeCoin\", \"BitstarCoin\", \"NeosCoin\", \"HyperCoin\", \"PinkCoin\", \"Crypto Escudo\", \"AudioCoin\", \"IncaKoin\", \"Piggy Coin\", \"Crown Coin\", \"Genstake\", \"SmileyCoin\", \"XiaoMiCoin\", \"Groestlcoin\", \"CapriCoin\", \" ClubCoin\", \"Radium\", \"Bata\", \"Pakcoin\", \"Creditbit \", \"OKCash\", \"Lisk\", \"HiCoin\", \"WhiteCoin\", \"FriendshipCoin\", \"Fiii\", \"JoinCoin\", \"Triangles Coin\", \"Vollar\", \"EOS\", \"Reality Clash\", \"Oxycoin\", \"TigerCash\", \"Waves\", \"Particl\", \"BitTorrent\", \"Nxt\", \"ZEPHYR\", \"Gapcoin\", \"Beldex\", \"Horizen\", \"BitcoinPlus\"], \"legendgroup\": \"\", \"marker\": {\"color\": [0, 0, 0, 1, 1, 1, 0, 1, 1, 1, 0, 1, 0, 0, 1, 0, 1, 1, 0, 0, 1, 1, 1, 1, 1, 0, 1, 1, 1, 0, 1, 0, 1, 1, 0, 0, 1, 1, 1, 1, 1, 1, 0, 0, 1, 1, 1, 1, 1, 0, 0, 1, 0, 1, 1, 1, 1, 0, 1, 1, 0, 1, 0, 0, 0, 1, 1, 1, 0, 0, 0, 0, 0, 1, 1, 1, 0, 0, 1, 0, 1, 0, 0, 1, 1, 1, 1, 0, 0, 1, 0, 1, 1, 0, 0, 1, 0, 0, 1, 1, 0, 0, 1, 0, 0, 1, 0, 1, 0, 1, 0, 1, 0, 0, 1, 1, 0, 1, 1, 1, 0, 1, 1, 1, 1, 1, 0, 0, 1, 1, 1, 0, 1, 0, 1, 1, 0, 1, 0, 1, 0, 0, 1, 1, 0, 1, 1, 0, 0, 1, 0, 1, 0, 0, 0, 1, 1, 1, 1, 0, 0, 0, 0, 0, 1, 1, 0, 0, 0, 0, 0, 1, 0, 0, 0, 0, 0, 1, 0, 1, 0, 0, 1, 0, 1, 0, 0, 1, 0, 1, 0, 1, 0, 1, 0, 0, 0, 0, 1, 0, 0, 0, 0, 0, 1, 1, 0, 0, 1, 1, 0, 0, 0, 0, 0, 1, 0, 0, 0, 0, 0, 0, 0, 0, 1, 0, 0, 0, 0, 0, 0, 1, 1, 1, 0, 0, 0, 0, 1, 0, 1, 0, 0, 1, 0, 1, 1, 0, 1, 1, 0, 1, 0, 0, 0, 1, 0, 0, 1, 0, 0, 0, 0, 0, 0, 0, 1, 0, 1, 0, 0, 0, 0, 1, 0, 1, 0, 1, 1, 1, 1, 0, 1, 0, 0, 1, 0, 1, 1, 1, 0, 1, 0, 1, 1, 1, 0, 1, 0, 1, 0, 0, 3, 1, 0, 1, 1, 1, 1, 1, 0, 0, 1, 0, 0, 0, 1, 0, 1, 0, 1, 0, 1, 0, 0, 0, 0, 1, 0, 0, 1, 0, 0, 0, 1, 1, 1, 1, 0, 0, 0, 0, 1, 0, 1, 1, 1, 0, 0, 1, 1, 0, 0, 1, 0, 1, 1, 1, 0, 1, 1, 0, 0, 0, 1, 1, 1, 0, 1, 0, 1, 1, 0, 1, 1, 1, 1, 0, 3, 0, 1, 1, 1, 0, 3, 0, 0, 0, 0, 1, 1, 1, 1, 0, 0, 0, 1, 0, 1, 0, 0, 0, 0, 1, 0, 0, 1, 0, 0, 1, 1, 0, 1, 0, 1, 1, 1, 1, 0, 0, 1, 0, 1, 0, 0, 0, 0, 0, 0, 1, 1, 1, 0, 0, 0, 0, 0, 0, 1, 0, 1, 1, 1, 1, 0, 0, 0, 0, 1, 0, 0, 1, 0, 0, 1, 3, 1, 0, 1, 1, 0, 0, 1, 0, 1, 1, 0, 1, 1, 0, 1, 0, 1, 0, 0, 1, 0, 0, 0, 0, 0, 1, 1, 1, 0, 0, 0, 1, 0, 1, 0, 1, 0, 0, 0, 0, 1, 0, 0, 0, 1, 0, 1, 0, 1, 0, 0, 0, 1, 1, 0, 0, 0, 0, 0, 0, 3, 1, 0, 1, 0, 1, 0, 0, 3, 0, 2, 0, 0, 0, 1, 1, 0], \"coloraxis\": \"coloraxis\", \"symbol\": \"circle\"}, \"mode\": \"markers\", \"name\": \"\", \"scene\": \"scene\", \"showlegend\": false, \"type\": \"scatter3d\", \"x\": [-0.34357954467997487, -0.3268248440897944, 2.32610373016716, -0.13946687958082354, -0.14877518260145808, -0.1727683463237623, -0.39632329111897957, -0.15491595616815515, -0.14720782032853552, -0.15162448637127993, -0.2752415920346809, 0.16987953513056142, -0.3091019520426182, -0.23949106824085978, -0.173921090569295, -0.23861827785437822, -0.22687369539182203, -0.17353535812157128, -0.3432372071797511, -0.33577474502475885, -0.08498631365686093, 2.5644207486915573, -0.13653532373684302, -0.17077502946066464, -0.1733381650343636, -0.3420679866632937, -0.21310845750351576, -0.20636581163522533, -0.17338742831204657, -0.3435754566625977, -0.17390326024779162, -0.3435596505344947, -0.1739902197327094, -0.22696353186142645, 0.5886780023528017, -0.37693948224331847, 0.19373829163763379, 0.24052429663571756, 0.07615040680377792, -0.17373510196196476, -0.1693153198793064, -0.17367401769564486, -0.29078495993809583, -0.304188313851903, -0.17404754072124345, -0.18230147172687805, -0.1531508211608584, -0.1728358432077393, -0.1731147882557009, -0.34162729461682106, -0.3064270204827812, 1.5847596389375092, -0.3962174178411556, -0.13942803915144136, -0.17038860751965032, -0.17376169159069565, -0.17411851461957145, -0.3620230987366521, -0.17337356224281256, -0.14791296666625625, -0.012482859867176201, -0.1739990980823165, -0.27219927009652245, -0.273718289954603, -0.2731997468496618, -0.03810463294528623, -0.1395060713112913, -0.16762715825576768, -0.2738253201089039, -0.3566321537733489, -0.33784913744510875, -0.3419722127192358, 0.01649843148651062, -0.17397837953849837, -0.17206135774443354, -0.17346220179380276, -0.32642115544075173, -0.39659109614471294, -0.12658455132009094, -0.21817790819402244, -0.13896681219103324, -0.27863222616071925, -0.3965022138276383, -0.13925559934523102, -0.1392383251035564, -0.13983259038306117, -0.22713844990556095, -0.31867062638600197, -0.34224934788966455, -0.17369332001092927, -0.3075585590604137, -0.17919705747235098, -0.17077970136901185, -0.39646651769050656, -0.21864861823323997, -0.13903448137650182, -0.27360499864442617, -0.3346301342639771, 3.8832452056198385, 0.46297224546438903, -0.19372425377944405, -0.29911253880276384, -0.17255440212574144, -0.308309201032808, -0.37635793690614916, -0.1570627255838433, -0.2736985141966181, -0.17126599102818119, -0.2739010614186959, -0.17412073032594239, -0.2683214323729762, -0.17113032524897298, -0.3435615162614702, -0.27385299717776196, -0.15727543755584508, -0.13171243362201246, -0.32686831681783446, -0.11918641574859452, -0.1851425130483069, -0.17399311518180477, -0.34329437326642964, -0.04619696965896478, -0.11380557575069279, -0.17412967999060974, -0.13953399975278377, 0.48197329803987343, -0.39657252517216085, -0.2789665841501767, -0.2265221619119141, -0.1548065732673273, -0.1392723050473846, -0.41441681538843383, -0.22680866121110843, -0.38621044623048056, -0.17224235002497143, -0.17143002892053738, -0.27209096673972705, -0.14984836649061636, -0.2733718711553787, 0.3766157146145878, -0.3016141107398707, -0.24107435572302913, -0.22684427219540404, -0.13942916760077184, -0.07476942853200348, -0.17006466228369618, -0.15088176190958577, -0.3090727087266297, -0.0721793488011796, -0.17268486172337097, -0.30913679836836855, 0.2814229848618801, -0.23681278645183404, -0.3431694852398061, -0.2719587690132357, -0.2260001363372016, -0.15261455631072932, -0.17293326285622923, -0.16525596742870283, -0.3937247246068169, 0.8861144331921692, -0.3089356498669963, -0.14620956413242628, -0.29046643280160905, -0.17391836530419097, -0.22680727655252061, -0.3944035274787219, -0.30767159340997824, -0.3053258848608039, -0.35882720801033385, -0.3953002650295512, -0.17412973881653837, -0.29326426629061203, -0.3193291285950073, -0.3432077786139189, -0.3416380957043124, -0.20297660537683185, -0.22695806254319956, -0.31428866364134567, -0.2657723721090163, -0.39604336575426546, -0.3424075006439616, 0.30699050723630383, -0.3091176010317625, -0.13969071510364905, -0.3965616450820474, -0.3433980664758722, -0.09914535851020095, -0.34355571817856423, -0.1712801827629071, -0.27194926643528866, -0.13964911602939573, -0.26359668931879976, -0.17379118146709516, 0.029816544763298432, -0.2894176346714889, -0.34316778888602395, -0.38264260900023456, -0.15620954062287407, -0.28874279396140434, -0.20441581546061408, -0.4285777556321438, -0.288489225417086, -0.2864650962120398, -0.14958908166590212, -0.15164622090662352, 3.605468165915466, -0.3961518659821403, -0.1004138826635224, -0.2134663948753513, 0.8644387331622383, -0.39651630732860804, -0.2898839978642876, -0.34309478225211554, -0.3432499274965734, -0.22477352437533102, -0.29046643280160905, -0.39608866696446415, -0.3089795358968893, -0.3430955464877706, -0.38142780383933134, -0.3432437560775542, -0.3388051924094857, -0.39654545290677334, 0.3069848884525898, -0.34244968062826975, 0.37317426357639316, -0.3434441757037201, -0.3435151711167709, -0.3177126225743354, -0.35372502634870706, -0.1741113682798359, 0.3071163322341397, -0.15535019816156598, -0.33971934649935004, -0.3090938872024067, -0.3964548983667337, -0.34329170781973967, 0.4926096835287159, -0.3434193388266651, -0.15367314106267788, -0.27360427655714853, -0.3052868964251193, -0.1740794802550864, -0.2041823614140244, -0.21964838575849452, -0.15165868038776756, -0.32416504758466913, -0.17220218044210464, -0.15506699983783026, -0.2733440982182354, -0.1500984014964115, -0.3957162746858283, -0.42921367748623473, -0.3944477800195358, -0.14482773403059795, -0.2887031083049389, -0.3956136077985866, -0.1905877676380951, -0.2830714647760095, -0.39153088577092177, -0.34336232190756966, -0.3433614749833459, -0.3364417310244796, 0.29638291440981085, -0.3960949377333549, -0.1736393391907368, -0.256143973172836, -0.1058219966775038, -0.29050086841739947, -0.34256837386697153, 0.8998300986708622, -0.23817357300755074, -0.17346027832839178, -0.29203571940792317, -0.15353045182225378, 0.5956164320094482, -0.15720018347647582, -0.02586141648787314, -0.1690016510576543, 0.3433118230449491, -0.360371512184412, -0.22600850590157345, -0.3588651580194157, -0.42204184418541935, -0.17378150415153623, -0.27353630063664264, -0.17354335649035985, -0.22640550489898625, -0.2269862740126827, 0.124101410004946, 0.30738216622564535, -0.273607504487876, -0.14381981568720248, 3.2549701087075444, -0.12179702105253655, -0.2895742305921563, -0.21780409190350025, -0.42154405273232604, -0.13946603925569812, -0.3963689289345699, -0.2736790453929867, 4.357312260805476, -0.09925317993234792, -0.2903662806496207, 1.5823841702938362, -0.17387988033553212, -0.1733282649610869, -0.1730275454594533, -0.17301440535561474, -0.3429954266698774, -0.34349800460415897, 0.3075669255942073, -0.33363508110375467, 0.7040254832040206, -0.39630935974839576, 0.06191279381204352, -0.3516026137445691, -0.1811175647961779, -0.34345332906112197, -0.187017034773373, -0.2798494376319349, -0.15150387756977193, 0.42993149355083504, -0.3074308685563533, -0.3450507577494547, -0.3839790365283106, -0.1513663591222436, -0.34340337611996496, -0.3856923553873998, -0.17220037986377945, -0.30138865862353786, -0.34327310207164397, -0.06499706967791959, -0.2225050478049347, -0.18686152831820826, -0.14794429637008094, -0.18696233538892598, -0.3950949701628998, 3.610352082048086, 0.20227791444207222, -0.2702595154529461, -0.10936227463891454, -0.34071878337837813, 1.1498505541593225, 0.3069675275597129, -0.0723830959625754, -0.2905865612135094, -0.31759788747890594, -0.22224434899729337, -0.14257946006397998, 0.07333120499940017, -0.3424063804925429, -0.08979175194078427, -0.39567966712062264, 1.105828073461978, -0.22696012739247265, -0.18701460620913724, -0.3167576676756239, -0.1800125575190185, -0.17312661944041718, -0.329901610845382, -0.34352025663747005, -0.32684009013006177, -0.22688511553180477, -0.13944532830080428, -0.21652214075294757, -0.29354774443635195, -0.24995714543562142, -0.3076901467623985, 8.091203456020262, -0.16733434621110133, -0.33904042179601296, 0.3108644201259926, 0.020003272262201013, -0.15086711900867997, -0.16467220310958067, -0.19593029430657272, -0.3264239654643876, -0.6249920281908482, -0.17370356665617984, 0.13512144743230978, -0.2209921106682015, -0.38599424818952227, -0.00987795805754509, -0.39638619886622983, -0.33516816906224656, -0.2728340170787429, -0.2764711887318676, -0.10070059377652713, 0.3149380108580381, -0.17394194800777713, -0.1478687618053555, -0.3599681278130894, -0.3435477636550573, -0.3435293669457026, -0.15048927235196868, -0.2671834094600031, -0.15397979778864557, -0.29907181763956053, -0.2899584292459966, -0.3432442348235448, 3.773548331071083, -0.22604949999918303, -0.384353182994679, -0.29014815350892686, 0.30715106405411696, -0.28632222722849393, -0.28980444297356106, -0.19064767039506125, -0.1551945248653376, -0.32494088244925395, -0.16177319377587576, -0.27337156407001173, -0.1562944230083166, 0.3111031519060753, 0.5874366161332867, 2.126264308420618, -0.14555166680609363, -0.2736249049624137, -0.14255405110518143, -0.35216602220799165, 0.3208342196487091, -0.34271518405234686, -0.1708671428961162, 2.2262956382498427, -0.3132798347359221, -0.23830243108551544, 0.9763971624076608, -0.18654928868259482, -0.1659099072734173, -0.2269421854270677, -0.3552021572546655, -0.31771202871286514, -0.387386471291228, -0.1536369764472419, -0.34932433949981145, -0.31642429011506906, -0.17396665871204448, -0.33638149847731236, -0.14245543808505318, -0.14058272270741093, -0.1644846049233687, 3.1245047536854695, -0.3264150627348876, -0.39585657772947663, -0.27085453682056176, -0.28924250789376205, -0.09906639545317089, -0.351751563858953, -0.3262754917709779, -0.22691337806398537, -0.20219020012138791, -0.4072336706919499, -0.18597356298120277, -0.40303238283331194, -0.045645088214542516, -0.26561413820527463, -0.15568858328799767, -0.1394660770253843, 0.4774313144061288, -0.11565750989329945, 0.3873797352452123, -0.3866770708573911, -0.1428714691825049, -0.14326597036278946, -0.25084129794193033, -0.14990518749994935, -0.17285251007692076, -0.3432482703102034, -0.14955238905496215, -0.3871358101398885, -0.15133574472045846, -0.3178296715599929, 0.5684963961549838, -0.18434876420340993, -0.32689470448984886, -0.342728115551196, -0.329591860418929, -0.3066192357796294, -0.393406411008688, -0.1387380979537785, -0.10454429341571038, -0.1375994321043427, -0.396085131585203, 3.6226621774474506, 0.09418821849864349, 0.5261579162929163, -0.3936116224851186, -0.11175613144473279, -0.3421097646897623, -0.09343193764575894, -0.34293987065463166, -0.2395238362785486, -0.3434612471527519, -0.3876656260607787, -0.15742684241052743, -0.256650812501014, -0.08756916120587906, -0.38338877313911107, -0.13925496637336857, -0.34273560090837263, 0.5458169053628413, -0.3357607278179941, -0.205924334093632, -0.392634406971827, -0.34116570845020733, -0.29074360201013655, -0.1740439888202348, -0.17198782038722635, -0.370347075517787, -0.30760862101854813, 3.6058622533773335, -0.07982141923023019, -0.33834470337107414, -0.35625573741499456, -0.5263154338497933, -0.11992528464473401, -0.2740088981281193, -0.14745882235967359, 3.6157828491675423, -0.14962242790926408, 3.6170337045406242, -0.22031305284080915, -0.6563530339739252, -0.2906791237435243, 34.184311861795834, -0.24785825786036408, 2.426304400882106, -0.34161323180598596, 0.3288489412488457, -0.15162554906593262, -0.27402370863972003], \"y\": [0.9517810813778449, 0.951801735950742, 1.624823465836717, -1.2977808016191879, -2.013695584945402, -1.1779308345185524, 1.2822623440469803, -2.1605722963493776, -2.0138072591590204, -1.9363772867627889, 1.6708823386897018, -1.817182675962244, 0.8318987761425923, 0.583676269548538, -1.1779135393441658, 1.8266230329793214, -0.8474209289277431, -1.1779348673523673, 0.9517773212772053, 0.9519664096084212, -1.8097634010183206, -1.3851350266167888, -1.2978166880153135, -1.1780011978700577, -1.1779557092431163, 0.9518169739788693, -0.5146558834888514, -1.193918748588215, -1.1779201282500105, 0.9517808239748214, -1.1779131159557956, 0.9517808447934045, -1.1779096080344202, -0.8474216441140219, 0.24860870168179272, 0.9357957020735331, -1.813464595112416, -1.3036320525496103, -1.18153221972199, -1.1779091229676428, -1.1780018397598804, -1.1779154715949123, 1.5184468133327431, 0.14280441702590935, -1.177909619059407, -1.5844747102959225, -1.1784126764396499, -1.177922511134694, -1.1779307270218093, 0.9517423573197685, 1.0345303849780152, -1.2003742588276742, 1.2822648580518177, -1.2977798793371051, -1.1780029556062552, -1.1779090453404384, -1.1779042952341028, 2.05670764874263, -1.1779154272452526, -2.2332464002544063, 0.7097609278886021, -1.177907592566398, 0.8310754093507946, 0.7035463126249717, 1.7858436596974572, -1.1853087663972635, -1.2977817322430638, -1.17798813414322, 1.7858288052012854, 0.5453296313244332, 0.9516193685411032, 0.9517497652935051, 0.9603312821065315, -1.1779148996944702, -1.178031742267991, -1.1779240549104697, 1.0340556159612828, 1.2822715823936564, -1.2980896161601627, 0.07224718679147646, -1.297787370030059, 1.5400609846299114, 1.2822666035605776, -1.2977906738704788, -1.2978172060266469, -1.2977747736379142, -0.8474130354542923, 0.9512381396666285, 0.9517417665861806, -1.1779095488558131, 0.20956150053489958, -1.2916071916998462, -1.178012242291711, 1.2822706417204255, 0.07230691048185711, -1.2977875503595748, 1.7858340368257233, 0.9512845799126323, -2.3253262587210894, -2.2828430795474723, 0.5564983107808883, 1.34040315875432, -1.1779407285940302, 0.8318849859318889, 0.9358126165676688, -1.1786894763364488, 0.7035582539733873, -1.1779535728813004, 1.7858184985850818, -1.1779052539604098, 0.7033314305324165, -1.1779458237100067, 0.9517815094998975, 1.785821057908296, -1.1782124011826793, -2.082245744385454, 1.0340308177501079, -1.8091574787043008, -1.4771737243561014, -1.1779027507185376, 0.9517736727419245, -1.1819558775224357, -2.1981331583694566, -1.1779040424138256, -1.2977823954154764, -1.2275529898320474, 1.282272024078101, 2.337141659136156, -0.8474217987360289, -2.1409473952005174, -1.2977994084995768, 1.9996168838071375, -0.8474200936731354, 1.0823688245033272, -1.178007849808716, -1.1780167511035529, 0.7035255249584005, -2.013733054928245, 1.785804122086897, -2.1875833079289313, 0.8313831672805272, 1.8267942200088723, -0.8474173942259468, -1.297779906132602, 0.9510942001413758, -1.1779559695490887, -2.1596899340003075, 0.8318994705372439, 1.2711506867370135, -1.17792885214214, 0.8319061023051059, -1.303104934382979, 1.5250014806327785, 0.9517610400628953, 0.7034428366483728, -0.8474455624790933, -2.165311168638074, -1.177994556356785, -2.183007003299995, 1.282067386844432, 0.6609066065464814, 0.8318899628954958, 0.25799626497016004, 1.518440196712494, -1.1779127656226644, -0.8474228968296535, 1.2822703521553613, 0.8317904247788427, 0.8316318089189068, 1.5220403868452117, 1.2822036821778064, -1.1779040416623738, 1.387136628887228, 0.9509388996779304, 0.9517584764168784, 0.9517562810225204, 1.5374871540398822, -0.8474264773054618, 1.0338778881229427, -1.072614142846679, 1.2822491387400508, 0.9517451012730427, -2.2794639310990674, 0.8318991135598153, -1.2977781304095584, 1.2822701554034908, 0.9517705014947607, -1.8095324062415057, 0.9517816471777776, -1.1779777424968483, 0.7035997905860694, -1.2977777823596688, 0.07473478111810035, -1.177916835679294, 1.9634367355723454, 1.518426814375106, 0.9517908587195207, 1.2815392822791292, -2.185297580872057, 1.5184669451240074, 1.5375930085804683, 1.9478777675179757, 1.5182879148052233, 1.9647848548460087, -2.0137334912776073, -1.9363778028583345, 2.109552809758664, 1.2822607425362447, -1.1832432805799593, -0.8474428913204528, 1.8122546990388941, 1.2822706269509017, 1.5184327566027704, 0.9517652670872572, 0.9517591299281869, -0.8475185333591111, 1.518440196712494, 1.282240972954525, 0.8319031009825855, 0.9517691768497617, 0.9135092027350129, 0.9517692025964214, 0.9514331267333841, 1.282269121875495, -2.2794718636178906, 0.9517058132084114, 0.695865148866857, 0.9517750786836651, 0.9517802590604707, 1.3668508977427112, 0.6524756610053538, -1.1779050928322934, -2.2794715784666595, -2.140920748826758, 0.9515182389362201, 0.8318996766545161, 1.282268185105579, 0.9517737360340603, -0.901223213128697, 0.9517693346325268, -2.160673951846088, 0.7035214961927881, 0.1040277707578284, -1.1779047934549438, 1.537590026404073, -0.8479441897309519, -1.9363752626780646, 0.9515330777307772, -1.1779287348184153, -2.1409218232644376, 0.7035422610854962, -2.1417347314517587, 1.2822214552053393, 1.8886214139532655, 1.2822444860471134, -1.180043852163575, 1.5184180511435037, 1.2822238930731042, -0.6076434400818553, 1.5183463698895487, 1.2820372354178606, 0.9517711998686537, 0.9517659819068696, 0.9512415627971376, 0.5432340104205129, 1.2822550042315688, -1.1779171441345646, 0.7025570759167304, -1.2987395231310435, 1.518432288935009, 0.9517306461374375, 1.790093308672701, 0.5835745551414623, -1.1779387566231978, 1.38711865214652, -2.160613842914773, 1.9557932846190784, -2.0799063750410784, -2.197381557369315, -2.1574300438991156, -2.2800123942251855, 1.5220604374190965, -0.8474571053611052, 1.5220182154379525, 1.9287085958173182, -1.1779090030426285, 1.7858143978198016, -1.1779428563754242, -0.84743817190865, -0.8474228222438812, 0.9274359117819896, -2.279485827388036, 1.7858205783392245, -2.150868327673846, -1.238279998769386, -1.17818484467837, 1.3545421708918521, -0.8479712971046481, 1.9287204160815716, -1.2977807816653215, 1.2822701178148463, 0.70354637533551, 2.1628210178296388, -1.1835702236890286, 1.518413080119224, -1.136194454223974, -1.1779118517811422, -1.1779441300185363, -1.1779483334526426, -1.1779480214354334, 0.9517607404317677, 0.9517800397729084, -2.2795061767342295, 1.6719838022423887, 1.3127121916553353, 1.2822591298083834, -1.9461810544045897, 0.5451681292185758, -0.8475964665885573, 0.9517729233758351, -1.584367599527483, 0.5898714767615604, -1.9363744228568378, 0.9524231976104315, 0.8318831540138952, 1.521580514426061, 1.7890298424832978, -2.1653710822830385, 0.9517703754150624, 1.6149877056215092, -1.177928692062937, 1.4005229650394986, 0.9517778729942356, 0.5814474838649193, -0.8475511665354748, -1.5843766691234333, -2.0138743777143673, -1.5843697039109121, 1.282205011944692, 2.1094029020131306, 1.5141576026366548, 1.7857645848298902, -1.8093921463128122, 0.9517001194897382, -2.319708541015074, -2.2794662492833875, -2.018971712728703, 1.2738227676486382, 1.3668500771303174, -0.8476867779247854, -2.1609880024818837, 0.9262303522336296, 0.9517025873343562, -1.1794460089230658, 1.2822577749147612, -1.2183762815010886, -0.847422839489611, -1.5843632878065046, 1.3667991276023457, -1.5845366365481208, -1.1779251616830722, 0.951467761555143, 0.9517796531909506, 1.034030778995549, -0.8474233271305551, -1.2977796985616528, -1.2596330470477053, 1.3871359241573284, -0.1322731793810253, 0.19820766566554426, -2.803626432527295, -2.192309373694943, 0.951724374683784, -2.279603080351308, -1.1803839253559418, -2.1653193056421682, -1.2919826461120567, 1.5372290662435721, 3.6278723051038395, 4.568381080113616, -1.17792184531884, -1.1836110205707158, -0.8476215925593252, 0.8700537039466725, 3.435631399526704, 1.282258723249606, 1.585144937882921, 0.703490864705449, 1.3671736403212842, -2.017162592110708, -2.2799771331963914, -1.177914034612682, -2.1290913416651494, 1.5220416555899903, 0.9517797090343759, 0.9517787278539555, -1.9363850720743303, 0.7033584533578869, -2.185442164598981, 1.3454510504671113, 1.518404046858588, 0.9517677732104951, 2.0853453956642123, -0.847458078782934, 1.6150195048246991, 1.518405213848994, -2.279466074286121, 0.6125587606699167, 0.9494264842039539, -0.6076255405856615, -2.1409285949663097, 1.3852661889576103, -2.1639257993794536, 0.7035475833068122, -2.185291868241878, -2.2797845902970097, -2.175708331761511, -2.3667150782521005, 0.9492514440818458, 0.7035288054612374, -2.1101023494678874, 1.9684756794447247, -2.2798371252762752, 0.951742049256774, 1.5785339726212015, 0.14373600983721238, 1.3665059354413283, 0.5836422700411293, 1.761932744037491, -1.268881996425823, -2.1775177415546927, -0.847423264260953, 0.860778738799193, 1.3668466577904834, 1.6150856278229941, 0.6944410938031386, 0.8380837411328662, 1.366821223969665, -1.1779154050199527, 0.9512429930439201, -2.1615171818527457, -2.2092357871258854, -0.5446168033614913, -2.2461491280203902, 1.0340167651427234, 1.2822535740990724, 0.7034414430666068, 1.5183345476154544, -1.29829550500063, 0.9533486787685278, 1.0339881739102166, -0.8474254162539939, 0.9423762688179422, 2.2051366166681836, -1.2689235746068737, 2.7723386428211083, -1.9392343409042985, 1.3369214357966186, -2.185329594484766, -1.297780782562178, 1.4866532100013605, 1.0390602860292721, -2.2832767578265787, 1.6150678384518324, -2.204787761208938, -2.2047404852258357, -0.05496662741973492, -2.107335624905249, -1.177958357344028, 0.9517740584667649, -1.9364995223183883, 1.6150817352872686, -1.9363774397351885, 1.3668492740506546, 0.9204048327891264, -1.4772257773562292, 1.0340304038665913, 0.9517417421929768, 1.5849653857024544, 1.9660830628883454, 1.2820494210103872, -1.2977939837825279, -0.34386137745168066, -1.2978406826213176, 1.2822623271721425, 2.1093407058513733, 0.9373607449452828, -1.2308287623789234, 1.2823423319388971, -1.5853973907707029, 0.9516741801518379, -2.2085023306982445, 0.9517578026582396, 0.5836694648818134, 0.9517838904314181, 1.2821290176107814, -1.17821599635367, 0.9464006461610738, 0.8370400505223614, 1.2818760687787862, -1.2977906588402994, 0.9517904860677883, -1.1962586209279944, 0.9516831388718282, -1.1939231547091191, 1.2822180624639448, 0.9517249575163998, 1.5184414143133032, -1.1779051134708034, -1.1779817834842177, 0.9803705568167318, 0.8318753881632881, 2.1095374100704842, 0.7010655918342579, 0.9516926821972057, 0.5452985826970794, 3.3922204116988723, -1.8091770086773673, 1.7858243609841011, -2.152330835243291, 2.1098863623041835, -2.0137330653077368, 2.109916064383157, 0.5834315131277771, 3.575004408511437, 1.5184432047744683, 1.6186563825177596, 1.9579755786620407, 0.9308350235818504, 0.9516505200832198, -2.2799305738054048, -1.936377311996913, 0.703549823087678], \"z\": [-0.6015791990366642, -0.6019371428195708, -0.7465915641320047, 0.18740483294144122, 0.4715796130349862, 0.035949320488211846, -0.583584137312397, 0.4322510706696358, 0.47157693952693686, 0.38921729844611164, -0.14090643475965772, 0.4294139506150701, -0.4501396494068739, -0.09229219963554354, 0.03596887142139046, -0.7130288552046053, 0.05396524769010153, 0.035966544067925356, -0.6015853784242167, -0.6017935926470142, 0.43276145048660436, 0.034583763522569255, 0.1873529167286334, 0.0359264854412107, 0.03596804975212427, -0.6016207207214711, 0.08097765785701241, 0.127955578579569, 0.035959435782975856, -0.6015792151949214, 0.03596838163215483, -0.6015795532352333, 0.03596925895573316, 0.053967330867342206, -0.23727987480693996, -0.5095786234774646, 0.4279038306618377, 0.18100075198667567, 0.031691431920979764, 0.035963762415487814, 0.035895962647525204, 0.0359641996634033, -0.07249448515825044, -0.17239364677944352, 0.03597046737435521, 0.3260010995105169, 0.03566745555627162, 0.035948482518817326, 0.03595657681518564, -0.6016097513887695, -0.22629631972199293, 0.00507638223999504, -0.5835870455937626, 0.18740376601597367, 0.0359188359195689, 0.035964300527266214, 0.035970516037232676, -0.6974379726596353, 0.03595786922413269, 0.4302339372328912, -0.25091279526789434, 0.03596889904585871, -0.4506923863552661, -0.24373368879716448, -0.7356000674008359, 0.0351183920255667, 0.18740590951697075, 0.035856744436113745, -0.7355828832435913, -0.31147847408029145, -0.6016558480527893, -0.6016045070750508, -0.6114703452394773, 0.03597044511822074, 0.03596182017966, 0.03596207318033647, -0.22574709170751703, -0.5835810110606671, 0.18721767856783014, 0.15361179034509473, 0.1873960982259639, -0.3424195983040892, -0.583581529893243, 0.18740306729639458, 0.1874098998351664, 0.1874108887829023, 0.05396867453535867, -0.6019557681038673, -0.6015965097408988, 0.03596299926973993, -0.3375703861956652, 0.13670825749952184, 0.035929579054933776, -0.5835833757556024, 0.15360549140759167, 0.18739757017862696, -0.7355889353544096, -0.6016327436190938, 0.41111315898004563, 0.4715177024915178, -0.037881876014809926, 0.05384364121203389, 0.035947504740453974, -0.45015258046631335, -0.5095954404456126, 0.03582479184467411, -0.24373734329264704, 0.03592389368025983, -0.7355784951806427, 0.03597082264920494, -0.24378890337474343, 0.03591893904562842, -0.6015796942755913, -0.7355802000609297, 0.03569987713997842, 0.48085873329330586, -0.2257309626103934, 0.43331632696687616, 0.18388202287741137, 0.03596746006750576, -0.601583186731131, 0.03437922979907996, 0.4628759918907973, 0.03597068227119745, 0.18740667669607122, 0.03563853053708887, -0.583581521387475, -0.4807123006154858, 0.053958091037792484, 0.4390848541457411, 0.18740578753349804, -0.9388971491121996, 0.053963653527386087, -0.35307383843757084, 0.03595914645446666, 0.035944477920184424, -0.24376227266079478, 0.4716123437585019, -0.7355857246966048, 0.45924522886449526, -0.45015727587147786, -0.7130236330181302, 0.053963670287444004, 0.18740379701386303, -0.5463969679890581, 0.03589928040663415, 0.2862806262270637, -0.4501404527048616, -0.5873871031224915, 0.03594702721162856, -0.45014090354218034, 0.17999771518355592, -0.6440911861757418, -0.6015823869383201, -0.24374262674536717, 0.053953558113149835, 0.445139660144273, 0.035970070639946373, 0.4817091126059518, -0.5835859092289476, -0.25655997880582276, -0.4501407564016676, -0.2243716060269897, -0.07249938910821292, 0.035968604268976884, 0.053964384655019876, -0.5836266807598812, -0.4501403429971913, -0.4501466536148026, -0.6407222101893462, -0.5835897412517691, 0.035970683304472374, -0.14907602038001075, -0.6018607630610481, -0.6015808863615408, -0.6016133005060311, -0.37772915107896904, 0.053968526664186334, -0.22595402956254942, 0.25779177082883453, -0.5835864425657736, -0.6015940882793728, 0.47388145029554896, -0.4501394118285151, 0.1874088156172559, -0.5835812433850448, -0.6015801460441927, 0.4329965590585679, -0.6015798535457755, 0.03593074718456681, -0.24378539417740894, 0.18740784641696887, -0.2033971731878124, 0.03596703350676528, -0.8315727720236803, -0.07251781531590433, -0.6015905097524855, -0.583675732315005, 0.4505436828858453, -0.07254289073218975, -0.37772759418222446, -0.9008639219419079, -0.07249966818733426, -0.8252871693834868, 0.47160700948540735, 0.3892178954819782, -0.5143060822133692, -0.583587307940778, 0.035868538916135145, 0.05368925605008773, -0.7666869305648627, -0.5835823247015346, -0.07250961955332087, -0.6015851043151547, -0.6015801772332712, 0.0539475536338729, -0.07249938910821292, -0.5835832752575333, -0.4501433966935533, -0.6015861486133985, -0.3188528805950724, -0.6015830388308786, -0.6015852319644557, -0.5835813035935681, 0.4738837198399758, -0.6015825459115353, -0.2552542652951234, -0.6015804177756829, -0.6015803297555851, -0.1986365422664654, -0.4536764057009051, 0.03597058207089861, 0.4738808783142283, 0.43908905949158056, -0.6015890911580434, -0.4501400632345118, -0.5835829538431213, -0.6015832599495021, 0.053426671017161684, -0.6015793822328762, 0.4322525050242016, -0.2437293559518873, -0.2827409625236199, 0.035969830289101945, -0.37773169479270613, 0.05395521740941786, 0.3892174685736974, -0.6019202138592559, 0.03593684487312382, 0.4390833953873172, -0.24374045902025016, 0.49823967052246065, -0.5835858130363976, -0.7552443185678023, -0.5836187349864417, 0.03593481808244334, -0.07253046472544407, -0.5835886332399596, -0.00314722605455888, -0.07262945433051944, -0.583623867048642, -0.6015810871391158, -0.6015796897820346, -0.60158298004123, -0.09259295543532016, -0.5835869488201836, 0.03596392400448598, -0.2438349752622453, 0.18695731535376764, -0.0724965202719426, -0.6015867848164732, -0.7270625371440118, -0.09229231978543007, 0.03596601999373962, -0.14909698055239862, 0.43223320215931554, -0.7922266953802964, 0.4573454937686161, 0.4703664899786883, 0.48041534406815334, 0.47326638231935936, -0.6406951722625237, 0.05395686467434107, -0.6407153989973414, -0.8035120455312865, 0.035964705702786336, -0.735585053725433, 0.03596887897826021, 0.05396007838638869, 0.05396812864364684, -0.6048115973908811, 0.47387915243407147, -0.7355852325714444, 0.5791358898047857, -0.01976677068258478, 0.12884608208151835, -0.15967344831432073, 0.053923784746456885, -0.8035257195918035, 0.18740480985817318, -0.5835852859040599, -0.24373453109625448, 9.674575807765036, 0.03593280047484009, -0.07249414094019092, -0.012279917123106814, 0.03596754710781597, 0.03596470114868562, 0.035959517201316515, 0.03595915624980968, -0.6015859660301072, -0.6015806312846547, 0.47388078600907463, -0.13997718091943698, -0.08491926112262306, -0.5835835585452535, 0.3873856154976737, -0.31154044140113835, 0.05305062940112288, -0.6015796407429707, 0.32607121558638746, -0.14298142197803593, 0.38921398538792124, -0.6180198550523354, -0.45017055447418564, -0.6408871989283552, -0.6997179599023645, 0.4451296604769212, -0.6015800001911569, -0.556495051821964, 0.035936795412216394, -0.018848693818642667, -0.601584773206192, -0.09535724075423488, 0.053908699301378156, 0.32607040514416386, 0.47161063048371665, 0.326070636020185, -0.583594419135801, -0.5143681316600023, -0.650384043059218, -0.735640452877158, 0.43317337512259757, -0.6016174015207638, 0.4670713436073098, 0.47388256226192615, 0.4714040725878634, -0.28284727061027565, -0.19863873252282868, 0.05393999621951627, 0.43210438499358966, -0.6034169674682375, -0.6015825815975385, 0.03461530044591317, -0.5835964331694604, 0.08067925804166086, 0.05396758347198503, 0.3260699951298702, -0.1986425838176047, 0.3259697599834843, 0.03595531623862636, -0.6017818626723376, -0.601580058491573, -0.22573154569129356, 0.053966138267725956, 0.18740408056892494, 0.1825023001686732, -0.1490698678618381, 0.1919163294902664, -0.3611400896060129, 0.4523422938211478, 0.29206778406229156, -0.6016592748017497, 0.47383772283646813, 0.03256074515322496, 0.44510511935225855, 0.13650463516568664, -0.3778073348944346, 11.22626412220316, 4.1572090155356936, 0.03596654968418524, 0.031015096891935913, 0.05389598337042988, -0.45504755470147157, 14.105266895877895, -0.5835818323981979, -0.6025192656581891, -0.24373724649133935, 0.022443879684842512, 0.4715089208329688, 0.4738535046473638, 0.03596944436388316, 0.49688497816737964, -0.6406985613773203, -0.601579495179621, -0.6015796159454972, 0.38919553698662157, -0.2438201642453055, 0.4505360052971781, -0.08442382537137533, -0.0725002679109439, -0.6015826410982608, -0.40395303323900544, 0.053957990759909744, -0.5565318381593497, -0.07249659461551795, 0.47387865513032384, -0.0785667370899816, -0.6020714674249482, -0.00315082086900084, 0.43908791372623146, -0.3720153793799744, 0.4129250534986617, -0.24374132487238911, 0.45054391858840703, 0.47388192989175143, 0.2849893381732128, 0.459286584196788, -0.6050575503588849, -0.24373090450030624, 0.49741969961974275, -0.8249065068065323, 0.47369153899824473, -0.6015867901286416, -0.35517848800507773, -0.28285002452491254, -0.1986362038397794, -0.0923079749816743, -0.3173252859041051, 0.20113115458524633, 0.4857130973931605, 0.053967321364987955, -0.43642887266603614, -0.19863540483433872, -0.5564859830617269, -0.24378949867633304, -0.5008289535727444, -0.19865558733516417, 0.035970335685467994, -0.6015846345965462, 0.43224529602431666, 0.4110993592470782, 0.03502545111425806, 0.25074050797610425, -0.22573668307336409, -0.583591573531239, -0.24376547018021047, -0.0724964743958758, 0.18669482631660234, -0.5079327253685608, -0.22573186392300576, 0.0539672992058418, -0.6020018519167551, -0.16631695166143995, 0.20113032384421092, 16.841399037781517, 0.3877634744616632, -0.2446703503128131, 0.45054140987918206, 0.18740481089568584, -0.33480495414596084, -0.2315366544373464, 0.47322498918288797, -0.5564960766895015, 0.5038688926170726, 0.5038643670018876, 0.10951587456436172, 0.43408258565420943, 0.03595855489180411, -0.6015842608634042, 0.3892068749903321, -0.5564901986288031, 0.38921126785745364, -0.19863364042858725, -0.6122500725938821, 0.18387944811459092, -0.2257302954426516, -0.6015864349074, -0.6025878358444667, -0.8252154270322709, -0.5835877306593185, 0.1873930822135767, -0.09802807934886161, 0.18738180193165974, -0.5835891410983717, -0.5146101378548484, -0.606874261233195, 0.03559777736607397, -0.5836628557741481, 0.3247678110978735, -0.601581114929187, 0.5038366379967459, -0.60158633758641, -0.09228966504303138, -0.6015824486134813, -0.5837300436309498, 0.03570403614900248, -0.6019480299834835, -0.45619272983653725, -0.5837513810234143, 0.18740304990900183, -0.6015994973582612, 0.025808565112786945, -0.6017170613468293, 0.12794748953970173, -0.5836497028533676, -0.6016147392752325, -0.07249389062027355, 0.035969170715702235, 0.03594672436975783, -0.13725264595721717, -0.45016471025639543, -0.5143101930923688, -0.24713843401825752, -0.6016653100298617, -0.31147796918498205, 11.963129659553283, 0.4333371617080726, -0.7355778173803298, 0.47572826838542365, -0.51461345731106, 0.47160759521075396, -0.5146478176279424, -0.09262912206227945, 10.801795931404236, -0.07249573215472897, -1.1352456073850212, 0.06668005220007349, -0.2899201783459098, -0.6015851398743355, 0.4735483381053987, 0.38921732763775563, -0.2437282180872726]}],                        {\"coloraxis\": {\"colorbar\": {\"title\": {\"text\": \"class\"}}, \"colorscale\": [[0.0, \"#0d0887\"], [0.1111111111111111, \"#46039f\"], [0.2222222222222222, \"#7201a8\"], [0.3333333333333333, \"#9c179e\"], [0.4444444444444444, \"#bd3786\"], [0.5555555555555556, \"#d8576b\"], [0.6666666666666666, \"#ed7953\"], [0.7777777777777778, \"#fb9f3a\"], [0.8888888888888888, \"#fdca26\"], [1.0, \"#f0f921\"]]}, \"legend\": {\"tracegroupgap\": 0}, \"margin\": {\"t\": 60}, \"scene\": {\"domain\": {\"x\": [0.0, 1.0], \"y\": [0.0, 1.0]}, \"xaxis\": {\"title\": {\"text\": \"PC 1\"}}, \"yaxis\": {\"title\": {\"text\": \"PC 2\"}}, \"zaxis\": {\"title\": {\"text\": \"PC 3\"}}}, \"template\": {\"data\": {\"bar\": [{\"error_x\": {\"color\": \"#2a3f5f\"}, \"error_y\": {\"color\": \"#2a3f5f\"}, \"marker\": {\"line\": {\"color\": \"#E5ECF6\", \"width\": 0.5}}, \"type\": \"bar\"}], \"barpolar\": [{\"marker\": {\"line\": {\"color\": \"#E5ECF6\", \"width\": 0.5}}, \"type\": \"barpolar\"}], \"carpet\": [{\"aaxis\": {\"endlinecolor\": \"#2a3f5f\", \"gridcolor\": \"white\", \"linecolor\": \"white\", \"minorgridcolor\": \"white\", \"startlinecolor\": \"#2a3f5f\"}, \"baxis\": {\"endlinecolor\": \"#2a3f5f\", \"gridcolor\": \"white\", \"linecolor\": \"white\", \"minorgridcolor\": \"white\", \"startlinecolor\": \"#2a3f5f\"}, \"type\": \"carpet\"}], \"choropleth\": [{\"colorbar\": {\"outlinewidth\": 0, \"ticks\": \"\"}, \"type\": \"choropleth\"}], \"contour\": [{\"colorbar\": {\"outlinewidth\": 0, \"ticks\": \"\"}, \"colorscale\": [[0.0, \"#0d0887\"], [0.1111111111111111, \"#46039f\"], [0.2222222222222222, \"#7201a8\"], [0.3333333333333333, \"#9c179e\"], [0.4444444444444444, \"#bd3786\"], [0.5555555555555556, \"#d8576b\"], [0.6666666666666666, \"#ed7953\"], [0.7777777777777778, \"#fb9f3a\"], [0.8888888888888888, \"#fdca26\"], [1.0, \"#f0f921\"]], \"type\": \"contour\"}], \"contourcarpet\": [{\"colorbar\": {\"outlinewidth\": 0, \"ticks\": \"\"}, \"type\": \"contourcarpet\"}], \"heatmap\": [{\"colorbar\": {\"outlinewidth\": 0, \"ticks\": \"\"}, \"colorscale\": [[0.0, \"#0d0887\"], [0.1111111111111111, \"#46039f\"], [0.2222222222222222, \"#7201a8\"], [0.3333333333333333, \"#9c179e\"], [0.4444444444444444, \"#bd3786\"], [0.5555555555555556, \"#d8576b\"], [0.6666666666666666, \"#ed7953\"], [0.7777777777777778, \"#fb9f3a\"], [0.8888888888888888, \"#fdca26\"], [1.0, \"#f0f921\"]], \"type\": \"heatmap\"}], \"heatmapgl\": [{\"colorbar\": {\"outlinewidth\": 0, \"ticks\": \"\"}, \"colorscale\": [[0.0, \"#0d0887\"], [0.1111111111111111, \"#46039f\"], [0.2222222222222222, \"#7201a8\"], [0.3333333333333333, \"#9c179e\"], [0.4444444444444444, \"#bd3786\"], [0.5555555555555556, \"#d8576b\"], [0.6666666666666666, \"#ed7953\"], [0.7777777777777778, \"#fb9f3a\"], [0.8888888888888888, \"#fdca26\"], [1.0, \"#f0f921\"]], \"type\": \"heatmapgl\"}], \"histogram\": [{\"marker\": {\"colorbar\": {\"outlinewidth\": 0, \"ticks\": \"\"}}, \"type\": \"histogram\"}], \"histogram2d\": [{\"colorbar\": {\"outlinewidth\": 0, \"ticks\": \"\"}, \"colorscale\": [[0.0, \"#0d0887\"], [0.1111111111111111, \"#46039f\"], [0.2222222222222222, \"#7201a8\"], [0.3333333333333333, \"#9c179e\"], [0.4444444444444444, \"#bd3786\"], [0.5555555555555556, \"#d8576b\"], [0.6666666666666666, \"#ed7953\"], [0.7777777777777778, \"#fb9f3a\"], [0.8888888888888888, \"#fdca26\"], [1.0, \"#f0f921\"]], \"type\": \"histogram2d\"}], \"histogram2dcontour\": [{\"colorbar\": {\"outlinewidth\": 0, \"ticks\": \"\"}, \"colorscale\": [[0.0, \"#0d0887\"], [0.1111111111111111, \"#46039f\"], [0.2222222222222222, \"#7201a8\"], [0.3333333333333333, \"#9c179e\"], [0.4444444444444444, \"#bd3786\"], [0.5555555555555556, \"#d8576b\"], [0.6666666666666666, \"#ed7953\"], [0.7777777777777778, \"#fb9f3a\"], [0.8888888888888888, \"#fdca26\"], [1.0, \"#f0f921\"]], \"type\": \"histogram2dcontour\"}], \"mesh3d\": [{\"colorbar\": {\"outlinewidth\": 0, \"ticks\": \"\"}, \"type\": \"mesh3d\"}], \"parcoords\": [{\"line\": {\"colorbar\": {\"outlinewidth\": 0, \"ticks\": \"\"}}, \"type\": \"parcoords\"}], \"pie\": [{\"automargin\": true, \"type\": \"pie\"}], \"scatter\": [{\"marker\": {\"colorbar\": {\"outlinewidth\": 0, \"ticks\": \"\"}}, \"type\": \"scatter\"}], \"scatter3d\": [{\"line\": {\"colorbar\": {\"outlinewidth\": 0, \"ticks\": \"\"}}, \"marker\": {\"colorbar\": {\"outlinewidth\": 0, \"ticks\": \"\"}}, \"type\": \"scatter3d\"}], \"scattercarpet\": [{\"marker\": {\"colorbar\": {\"outlinewidth\": 0, \"ticks\": \"\"}}, \"type\": \"scattercarpet\"}], \"scattergeo\": [{\"marker\": {\"colorbar\": {\"outlinewidth\": 0, \"ticks\": \"\"}}, \"type\": \"scattergeo\"}], \"scattergl\": [{\"marker\": {\"colorbar\": {\"outlinewidth\": 0, \"ticks\": \"\"}}, \"type\": \"scattergl\"}], \"scattermapbox\": [{\"marker\": {\"colorbar\": {\"outlinewidth\": 0, \"ticks\": \"\"}}, \"type\": \"scattermapbox\"}], \"scatterpolar\": [{\"marker\": {\"colorbar\": {\"outlinewidth\": 0, \"ticks\": \"\"}}, \"type\": \"scatterpolar\"}], \"scatterpolargl\": [{\"marker\": {\"colorbar\": {\"outlinewidth\": 0, \"ticks\": \"\"}}, \"type\": \"scatterpolargl\"}], \"scatterternary\": [{\"marker\": {\"colorbar\": {\"outlinewidth\": 0, \"ticks\": \"\"}}, \"type\": \"scatterternary\"}], \"surface\": [{\"colorbar\": {\"outlinewidth\": 0, \"ticks\": \"\"}, \"colorscale\": [[0.0, \"#0d0887\"], [0.1111111111111111, \"#46039f\"], [0.2222222222222222, \"#7201a8\"], [0.3333333333333333, \"#9c179e\"], [0.4444444444444444, \"#bd3786\"], [0.5555555555555556, \"#d8576b\"], [0.6666666666666666, \"#ed7953\"], [0.7777777777777778, \"#fb9f3a\"], [0.8888888888888888, \"#fdca26\"], [1.0, \"#f0f921\"]], \"type\": \"surface\"}], \"table\": [{\"cells\": {\"fill\": {\"color\": \"#EBF0F8\"}, \"line\": {\"color\": \"white\"}}, \"header\": {\"fill\": {\"color\": \"#C8D4E3\"}, \"line\": {\"color\": \"white\"}}, \"type\": \"table\"}]}, \"layout\": {\"annotationdefaults\": {\"arrowcolor\": \"#2a3f5f\", \"arrowhead\": 0, \"arrowwidth\": 1}, \"autotypenumbers\": \"strict\", \"coloraxis\": {\"colorbar\": {\"outlinewidth\": 0, \"ticks\": \"\"}}, \"colorscale\": {\"diverging\": [[0, \"#8e0152\"], [0.1, \"#c51b7d\"], [0.2, \"#de77ae\"], [0.3, \"#f1b6da\"], [0.4, \"#fde0ef\"], [0.5, \"#f7f7f7\"], [0.6, \"#e6f5d0\"], [0.7, \"#b8e186\"], [0.8, \"#7fbc41\"], [0.9, \"#4d9221\"], [1, \"#276419\"]], \"sequential\": [[0.0, \"#0d0887\"], [0.1111111111111111, \"#46039f\"], [0.2222222222222222, \"#7201a8\"], [0.3333333333333333, \"#9c179e\"], [0.4444444444444444, \"#bd3786\"], [0.5555555555555556, \"#d8576b\"], [0.6666666666666666, \"#ed7953\"], [0.7777777777777778, \"#fb9f3a\"], [0.8888888888888888, \"#fdca26\"], [1.0, \"#f0f921\"]], \"sequentialminus\": [[0.0, \"#0d0887\"], [0.1111111111111111, \"#46039f\"], [0.2222222222222222, \"#7201a8\"], [0.3333333333333333, \"#9c179e\"], [0.4444444444444444, \"#bd3786\"], [0.5555555555555556, \"#d8576b\"], [0.6666666666666666, \"#ed7953\"], [0.7777777777777778, \"#fb9f3a\"], [0.8888888888888888, \"#fdca26\"], [1.0, \"#f0f921\"]]}, \"colorway\": [\"#636efa\", \"#EF553B\", \"#00cc96\", \"#ab63fa\", \"#FFA15A\", \"#19d3f3\", \"#FF6692\", \"#B6E880\", \"#FF97FF\", \"#FECB52\"], \"font\": {\"color\": \"#2a3f5f\"}, \"geo\": {\"bgcolor\": \"white\", \"lakecolor\": \"white\", \"landcolor\": \"#E5ECF6\", \"showlakes\": true, \"showland\": true, \"subunitcolor\": \"white\"}, \"hoverlabel\": {\"align\": \"left\"}, \"hovermode\": \"closest\", \"mapbox\": {\"style\": \"light\"}, \"paper_bgcolor\": \"white\", \"plot_bgcolor\": \"#E5ECF6\", \"polar\": {\"angularaxis\": {\"gridcolor\": \"white\", \"linecolor\": \"white\", \"ticks\": \"\"}, \"bgcolor\": \"#E5ECF6\", \"radialaxis\": {\"gridcolor\": \"white\", \"linecolor\": \"white\", \"ticks\": \"\"}}, \"scene\": {\"xaxis\": {\"backgroundcolor\": \"#E5ECF6\", \"gridcolor\": \"white\", \"gridwidth\": 2, \"linecolor\": \"white\", \"showbackground\": true, \"ticks\": \"\", \"zerolinecolor\": \"white\"}, \"yaxis\": {\"backgroundcolor\": \"#E5ECF6\", \"gridcolor\": \"white\", \"gridwidth\": 2, \"linecolor\": \"white\", \"showbackground\": true, \"ticks\": \"\", \"zerolinecolor\": \"white\"}, \"zaxis\": {\"backgroundcolor\": \"#E5ECF6\", \"gridcolor\": \"white\", \"gridwidth\": 2, \"linecolor\": \"white\", \"showbackground\": true, \"ticks\": \"\", \"zerolinecolor\": \"white\"}}, \"shapedefaults\": {\"line\": {\"color\": \"#2a3f5f\"}}, \"ternary\": {\"aaxis\": {\"gridcolor\": \"white\", \"linecolor\": \"white\", \"ticks\": \"\"}, \"baxis\": {\"gridcolor\": \"white\", \"linecolor\": \"white\", \"ticks\": \"\"}, \"bgcolor\": \"#E5ECF6\", \"caxis\": {\"gridcolor\": \"white\", \"linecolor\": \"white\", \"ticks\": \"\"}}, \"title\": {\"x\": 0.05}, \"xaxis\": {\"automargin\": true, \"gridcolor\": \"white\", \"linecolor\": \"white\", \"ticks\": \"\", \"title\": {\"standoff\": 15}, \"zerolinecolor\": \"white\", \"zerolinewidth\": 2}, \"yaxis\": {\"automargin\": true, \"gridcolor\": \"white\", \"linecolor\": \"white\", \"ticks\": \"\", \"title\": {\"standoff\": 15}, \"zerolinecolor\": \"white\", \"zerolinewidth\": 2}}}},                        {\"responsive\": true}                    ).then(function(){\n",
       "                            \n",
       "var gd = document.getElementById('e75a4e1a-281d-45ea-a3d4-81fb04fc628d');\n",
       "var x = new MutationObserver(function (mutations, observer) {{\n",
       "        var display = window.getComputedStyle(gd).display;\n",
       "        if (!display || display === 'none') {{\n",
       "            console.log([gd, 'removed!']);\n",
       "            Plotly.purge(gd);\n",
       "            observer.disconnect();\n",
       "        }}\n",
       "}});\n",
       "\n",
       "// Listen for the removal of the full notebook cells\n",
       "var notebookContainer = gd.closest('#notebook-container');\n",
       "if (notebookContainer) {{\n",
       "    x.observe(notebookContainer, {childList: true});\n",
       "}}\n",
       "\n",
       "// Listen for the clearing of the current output cell\n",
       "var outputEl = gd.closest('.output');\n",
       "if (outputEl) {{\n",
       "    x.observe(outputEl, {childList: true});\n",
       "}}\n",
       "\n",
       "                        })                };                });            </script>        </div>"
      ]
     },
     "metadata": {},
     "output_type": "display_data"
    }
   ],
   "source": [
    "# Creating a 3D-Scatter with the PCA data and the clusters\n",
    "px.scatter_3d(\n",
    "    data_frame = clustered_df,\n",
    "    x=\"PC 1\",\n",
    "    y=\"PC 2\",\n",
    "    z=\"PC 3\",\n",
    "    hover_name=\"CoinName\",\n",
    "    hover_data=[\"Algorithm\"],\n",
    "    color=\"class\"\n",
    ")"
   ]
  },
  {
   "cell_type": "code",
   "execution_count": 220,
   "metadata": {},
   "outputs": [
    {
     "data": {},
     "metadata": {},
     "output_type": "display_data"
    },
    {
     "data": {
      "application/vnd.holoviews_exec.v0+json": "",
      "text/html": [
       "<div id='2738'>\n",
       "\n",
       "\n",
       "\n",
       "\n",
       "\n",
       "  <div class=\"bk-root\" id=\"c272e102-102b-47f9-b5d5-ed573a0b5e3a\" data-root-id=\"2738\"></div>\n",
       "</div>\n",
       "<script type=\"application/javascript\">(function(root) {\n",
       "  function embed_document(root) {\n",
       "    var docs_json = {\"6411a406-4b4a-4906-acfc-666bc2b34e7f\":{\"roots\":{\"references\":[{\"attributes\":{},\"id\":\"2742\",\"type\":\"StringFormatter\"},{\"attributes\":{\"margin\":[5,5,5,5],\"name\":\"HSpacer05271\",\"sizing_mode\":\"stretch_width\"},\"id\":\"2793\",\"type\":\"Spacer\"},{\"attributes\":{\"editor\":{\"id\":\"2778\"},\"field\":\"CoinName\",\"formatter\":{\"id\":\"2777\"},\"title\":\"CoinName\"},\"id\":\"2779\",\"type\":\"TableColumn\"},{\"attributes\":{},\"id\":\"2747\",\"type\":\"StringFormatter\"},{\"attributes\":{},\"id\":\"2783\",\"type\":\"IntEditor\"},{\"attributes\":{\"margin\":[5,5,5,5],\"name\":\"HSpacer05270\",\"sizing_mode\":\"stretch_width\"},\"id\":\"2739\",\"type\":\"Spacer\"},{\"attributes\":{},\"id\":\"2758\",\"type\":\"StringEditor\"},{\"attributes\":{\"editor\":{\"id\":\"2748\"},\"field\":\"ProofType\",\"formatter\":{\"id\":\"2747\"},\"title\":\"ProofType\"},\"id\":\"2749\",\"type\":\"TableColumn\"},{\"attributes\":{},\"id\":\"2773\",\"type\":\"NumberEditor\"},{\"attributes\":{\"children\":[{\"id\":\"2739\"},{\"id\":\"2787\"},{\"id\":\"2793\"}],\"margin\":[0,0,0,0],\"name\":\"Row05266\",\"tags\":[\"embedded\"]},\"id\":\"2738\",\"type\":\"Row\"},{\"attributes\":{\"format\":\"0,0.0[00000]\"},\"id\":\"2752\",\"type\":\"NumberFormatter\"},{\"attributes\":{},\"id\":\"2782\",\"type\":\"NumberFormatter\"},{\"attributes\":{\"editor\":{\"id\":\"2763\"},\"field\":\"PC_1\",\"formatter\":{\"id\":\"2762\"},\"title\":\"PC 1\"},\"id\":\"2764\",\"type\":\"TableColumn\"},{\"attributes\":{\"format\":\"0,0.0[00000]\"},\"id\":\"2767\",\"type\":\"NumberFormatter\"},{\"attributes\":{},\"id\":\"2768\",\"type\":\"NumberEditor\"},{\"attributes\":{},\"id\":\"2777\",\"type\":\"StringFormatter\"},{\"attributes\":{},\"id\":\"2748\",\"type\":\"StringEditor\"},{\"attributes\":{},\"id\":\"2743\",\"type\":\"StringEditor\"},{\"attributes\":{},\"id\":\"2763\",\"type\":\"NumberEditor\"},{\"attributes\":{\"editor\":{\"id\":\"2758\"},\"field\":\"TotalCoinSupply\",\"formatter\":{\"id\":\"2757\"},\"title\":\"TotalCoinSupply\"},\"id\":\"2759\",\"type\":\"TableColumn\"},{\"attributes\":{\"editor\":{\"id\":\"2743\"},\"field\":\"Algorithm\",\"formatter\":{\"id\":\"2742\"},\"title\":\"Algorithm\"},\"id\":\"2744\",\"type\":\"TableColumn\"},{\"attributes\":{},\"id\":\"2789\",\"type\":\"UnionRenderers\"},{\"attributes\":{},\"id\":\"2757\",\"type\":\"StringFormatter\"},{\"attributes\":{},\"id\":\"2741\",\"type\":\"Selection\"},{\"attributes\":{\"format\":\"0,0.0[00000]\"},\"id\":\"2762\",\"type\":\"NumberFormatter\"},{\"attributes\":{\"editor\":{\"id\":\"2768\"},\"field\":\"PC_2\",\"formatter\":{\"id\":\"2767\"},\"title\":\"PC 2\"},\"id\":\"2769\",\"type\":\"TableColumn\"},{\"attributes\":{\"data\":{\"Algorithm\":[\"Scrypt\",\"Scrypt\",\"X13\",\"SHA-256\",\"Ethash\",\"Scrypt\",\"X11\",\"CryptoNight-V7\",\"Ethash\",\"Equihash\",\"SHA-512\",\"Multiple\",\"SHA-256\",\"SHA-256\",\"Scrypt\",\"X15\",\"X11\",\"Scrypt\",\"Scrypt\",\"Scrypt\",\"Multiple\",\"Scrypt\",\"SHA-256\",\"Scrypt\",\"Scrypt\",\"Scrypt\",\"Quark\",\"Groestl\",\"Scrypt\",\"Scrypt\",\"Scrypt\",\"Scrypt\",\"Scrypt\",\"X11\",\"Scrypt\",\"Groestl\",\"Multiple\",\"SHA-256\",\"Scrypt\",\"Scrypt\",\"Scrypt\",\"Scrypt\",\"PoS\",\"Scrypt\",\"Scrypt\",\"NeoScrypt\",\"Scrypt\",\"Scrypt\",\"Scrypt\",\"Scrypt\",\"X11\",\"Scrypt\",\"X11\",\"SHA-256\",\"Scrypt\",\"Scrypt\",\"Scrypt\",\"SHA3\",\"Scrypt\",\"HybridScryptHash256\",\"Scrypt\",\"Scrypt\",\"SHA-256\",\"Scrypt\",\"X13\",\"Scrypt\",\"SHA-256\",\"Scrypt\",\"X13\",\"NeoScrypt\",\"Scrypt\",\"Scrypt\",\"Scrypt\",\"Scrypt\",\"Scrypt\",\"Scrypt\",\"X11\",\"X11\",\"SHA-256\",\"Multiple\",\"SHA-256\",\"PHI1612\",\"X11\",\"SHA-256\",\"SHA-256\",\"SHA-256\",\"X11\",\"Scrypt\",\"Scrypt\",\"Scrypt\",\"Scrypt\",\"Lyra2REv2\",\"Scrypt\",\"X11\",\"Multiple\",\"SHA-256\",\"X13\",\"Scrypt\",\"CryptoNight\",\"CryptoNight\",\"Shabal256\",\"Counterparty\",\"Scrypt\",\"SHA-256\",\"Groestl\",\"Scrypt\",\"Scrypt\",\"Scrypt\",\"X13\",\"Scrypt\",\"Scrypt\",\"Scrypt\",\"Scrypt\",\"X13\",\"Scrypt\",\"Stanford Folding\",\"X11\",\"Multiple\",\"QuBit\",\"Scrypt\",\"Scrypt\",\"Scrypt\",\"M7 POW\",\"Scrypt\",\"SHA-256\",\"Scrypt\",\"X11\",\"SHA3\",\"X11\",\"Lyra2RE\",\"SHA-256\",\"QUAIT\",\"X11\",\"X11\",\"Scrypt\",\"Scrypt\",\"Scrypt\",\"Ethash\",\"X13\",\"Blake2b\",\"SHA-256\",\"X15\",\"X11\",\"SHA-256\",\"BLAKE256\",\"Scrypt\",\"1GB AES Pattern Search\",\"SHA-256\",\"X11\",\"Scrypt\",\"SHA-256\",\"SHA-256\",\"NIST5\",\"Scrypt\",\"Scrypt\",\"X11\",\"Dagger\",\"Scrypt\",\"X11GOST\",\"X11\",\"Scrypt\",\"SHA-256\",\"Scrypt\",\"PoS\",\"Scrypt\",\"X11\",\"X11\",\"SHA-256\",\"SHA-256\",\"NIST5\",\"X11\",\"Scrypt\",\"POS 3.0\",\"Scrypt\",\"Scrypt\",\"Scrypt\",\"X13\",\"X11\",\"X11\",\"Equihash\",\"X11\",\"Scrypt\",\"CryptoNight\",\"SHA-256\",\"SHA-256\",\"X11\",\"Scrypt\",\"Multiple\",\"Scrypt\",\"Scrypt\",\"Scrypt\",\"SHA-256\",\"Scrypt\",\"Scrypt\",\"SHA-256D\",\"PoS\",\"Scrypt\",\"X11\",\"Lyra2Z\",\"PoS\",\"X13\",\"X14\",\"PoS\",\"SHA-256D\",\"Ethash\",\"Equihash\",\"DPoS\",\"X11\",\"Scrypt\",\"X11\",\"X13\",\"X11\",\"PoS\",\"Scrypt\",\"Scrypt\",\"X11\",\"PoS\",\"X11\",\"SHA-256\",\"Scrypt\",\"X11\",\"Scrypt\",\"Scrypt\",\"X11\",\"CryptoNight\",\"Scrypt\",\"Scrypt\",\"Scrypt\",\"Scrypt\",\"Quark\",\"QuBit\",\"Scrypt\",\"CryptoNight\",\"Lyra2RE\",\"Scrypt\",\"SHA-256\",\"X11\",\"Scrypt\",\"X11\",\"Scrypt\",\"CryptoNight-V7\",\"Scrypt\",\"Scrypt\",\"Scrypt\",\"X13\",\"X11\",\"Equihash\",\"Scrypt\",\"Scrypt\",\"Lyra2RE\",\"Scrypt\",\"Dagger-Hashimoto\",\"X11\",\"Blake2S\",\"X11\",\"Scrypt\",\"PoS\",\"X11\",\"NIST5\",\"PoS\",\"X11\",\"Scrypt\",\"Scrypt\",\"Scrypt\",\"SHA-256\",\"X11\",\"Scrypt\",\"Scrypt\",\"SHA-256\",\"PoS\",\"Scrypt\",\"X15\",\"SHA-256\",\"Scrypt\",\"POS 3.0\",\"CryptoNight-V7\",\"536\",\"Argon2d\",\"Blake2b\",\"Cloverhash\",\"CryptoNight\",\"NIST5\",\"X11\",\"NIST5\",\"Skein\",\"Scrypt\",\"X13\",\"Scrypt\",\"X11\",\"X11\",\"Scrypt\",\"CryptoNight\",\"X13\",\"Time Travel\",\"Scrypt\",\"Keccak\",\"SkunkHash v2 Raptor\",\"X11\",\"Skein\",\"SHA-256\",\"X11\",\"Scrypt\",\"VeChainThor Authority\",\"Scrypt\",\"PoS\",\"Scrypt\",\"Scrypt\",\"Scrypt\",\"Scrypt\",\"Scrypt\",\"Scrypt\",\"Scrypt\",\"CryptoNight\",\"SHA-512\",\"Ouroboros\",\"X11\",\"Equihash\",\"NeoScrypt\",\"X11\",\"Scrypt\",\"NeoScrypt\",\"Lyra2REv2\",\"Equihash\",\"Scrypt\",\"SHA-256\",\"NIST5\",\"PHI1612\",\"Dagger\",\"Scrypt\",\"Quark\",\"Scrypt\",\"POS 2.0\",\"Scrypt\",\"SHA-256\",\"X11\",\"NeoScrypt\",\"Ethash\",\"NeoScrypt\",\"X11\",\"DPoS\",\"NIST5\",\"X13\",\"Multiple\",\"Scrypt\",\"CryptoNight\",\"CryptoNight\",\"Ethash\",\"NIST5\",\"Quark\",\"X11\",\"CryptoNight-V7\",\"Scrypt\",\"Scrypt\",\"Scrypt\",\"X11\",\"BLAKE256\",\"X11\",\"NeoScrypt\",\"Quark\",\"NeoScrypt\",\"Scrypt\",\"Scrypt\",\"Scrypt\",\"X11\",\"X11\",\"SHA-256\",\"C11\",\"POS 3.0\",\"Ethash\",\"Scrypt\",\"CryptoNight\",\"SkunkHash\",\"Scrypt\",\"CryptoNight\",\"Scrypt\",\"Dagger\",\"Lyra2REv2\",\"X13\",\"Proof-of-BibleHash\",\"SHA-256 + Hive\",\"Scrypt\",\"Scrypt\",\"X11\",\"C11\",\"Proof-of-Authority\",\"X11\",\"XEVAN\",\"Scrypt\",\"VBFT\",\"Ethash\",\"CryptoNight\",\"Scrypt\",\"IMesh\",\"NIST5\",\"Scrypt\",\"Scrypt\",\"Equihash\",\"Scrypt\",\"Lyra2Z\",\"Green Protocol\",\"PoS\",\"Scrypt\",\"Semux BFT consensus\",\"X11\",\"Quark\",\"PoS\",\"CryptoNight\",\"X16R\",\"Scrypt\",\"NIST5\",\"Lyra2RE\",\"XEVAN\",\"Tribus\",\"Scrypt\",\"Lyra2Z\",\"CryptoNight\",\"CryptoNight Heavy\",\"CryptoNight\",\"Scrypt\",\"Scrypt\",\"Jump Consistent Hash\",\"SHA-256D\",\"CryptoNight\",\"Scrypt\",\"X15\",\"Scrypt\",\"Quark\",\"SHA-256\",\"DPoS\",\"X16R\",\"HMQ1725\",\"X11\",\"X16R\",\"Quark\",\"Quark\",\"Scrypt\",\"Lyra2REv2\",\"Quark\",\"Scrypt\",\"Scrypt\",\"CryptoNight-V7\",\"Cryptonight-GPU\",\"XEVAN\",\"CryptoNight Heavy\",\"X11\",\"X11\",\"Scrypt\",\"PoS\",\"SHA-256\",\"Keccak\",\"X11\",\"X11\",\"Scrypt\",\"SHA-512\",\"X16R\",\"ECC 256K1\",\"Equihash\",\"XEVAN\",\"Lyra2Z\",\"SHA-256\",\"XEVAN\",\"X11\",\"CryptoNight\",\"Quark\",\"Blake\",\"Blake\",\"Equihash\",\"Exosis\",\"Scrypt\",\"Scrypt\",\"Equihash\",\"Quark\",\"Equihash\",\"Quark\",\"Scrypt\",\"QuBit\",\"X11\",\"Scrypt\",\"XEVAN\",\"SHA-256D\",\"X11\",\"SHA-256\",\"X13\",\"SHA-256\",\"X11\",\"DPoS\",\"Scrypt\",\"Scrypt\",\"X11\",\"NeoScrypt\",\"Scrypt\",\"Blake\",\"Scrypt\",\"SHA-256\",\"Scrypt\",\"X11\",\"Scrypt\",\"Scrypt\",\"SHA-256\",\"X11\",\"SHA-256\",\"Scrypt\",\"Scrypt\",\"Scrypt\",\"Groestl\",\"X11\",\"Scrypt\",\"PoS\",\"Scrypt\",\"Scrypt\",\"X11\",\"SHA-256\",\"DPoS\",\"Scrypt\",\"Scrypt\",\"NeoScrypt\",\"SHA3-256\",\"Multiple\",\"X13\",\"Equihash+Scrypt\",\"DPoS\",\"Ethash\",\"DPoS\",\"SHA-256\",\"Leased POS\",\"PoS\",\"TRC10\",\"PoS\",\"SHA-256\",\"Scrypt\",\"CryptoNight\",\"Equihash\",\"Scrypt\"],\"CoinName\":[\"42 Coin\",\"404Coin\",\"EliteCoin\",\"Bitcoin\",\"Ethereum\",\"Litecoin\",\"Dash\",\"Monero\",\"Ethereum Classic\",\"ZCash\",\"Bitshares\",\"DigiByte\",\"BitcoinDark\",\"PayCoin\",\"ProsperCoin\",\"KoboCoin\",\"Spreadcoin\",\"Argentum\",\"Aurora Coin\",\"BlueCoin\",\"MyriadCoin\",\"MoonCoin\",\"ZetaCoin\",\"SexCoin\",\"Quatloo\",\"EnergyCoin\",\"QuarkCoin\",\"Riecoin\",\"Digitalcoin \",\"BitBar\",\"Catcoin\",\"CryptoBullion\",\"CannaCoin\",\"CryptCoin\",\"CasinoCoin\",\"Diamond\",\"Verge\",\"DevCoin\",\"EarthCoin\",\"E-Gulden\",\"Einsteinium\",\"Emerald\",\"Exclusive Coin\",\"FlutterCoin\",\"Franko\",\"FeatherCoin\",\"GrandCoin\",\"GlobalCoin\",\"GoldCoin\",\"HoboNickels\",\"HyperStake\",\"Infinite Coin\",\"IOCoin\",\"IXcoin\",\"KrugerCoin\",\"LuckyCoin\",\"Litebar \",\"MaxCoin\",\"MegaCoin\",\"MediterraneanCoin\",\"MintCoin\",\"MinCoin\",\"MazaCoin\",\"Nautilus Coin\",\"NavCoin\",\"NobleCoin\",\"Namecoin\",\"NyanCoin\",\"OpalCoin\",\"Orbitcoin\",\"PotCoin\",\"PhoenixCoin\",\"Reddcoin\",\"RonPaulCoin\",\"StableCoin\",\"SmartCoin\",\"SuperCoin\",\"SyncCoin\",\"SysCoin\",\"TeslaCoin\",\"TigerCoin\",\"TittieCoin\",\"TorCoin\",\"TerraCoin\",\"UnbreakableCoin\",\"Unobtanium\",\"UroCoin\",\"UnitaryStatus Dollar\",\"UltraCoin\",\"ViaCoin\",\"VeriCoin\",\"Vertcoin\",\"WorldCoin\",\"X11 Coin\",\"Crypti\",\"JouleCoin\",\"StealthCoin\",\"ZCC Coin\",\"ByteCoin\",\"DigitalNote \",\"BurstCoin\",\"StorjCoin\",\"MonaCoin\",\"Neutron\",\"FairCoin\",\"Gulden\",\"RubyCoin\",\"PesetaCoin\",\"Kore\",\"Wild Beast Coin\",\"Dnotes\",\"Flo\",\"8BIT Coin\",\"Sativa Coin\",\"ArtByte\",\"Folding Coin\",\"Ucoin\",\"Unitus\",\"CypherPunkCoin\",\"OmniCron\",\"Vtorrent\",\"GreenCoin\",\"Cryptonite\",\"MasterCoin\",\"SoonCoin\",\"1Credit\",\"IslaCoin\",\"Nexus\",\"MarsCoin \",\"Crypto\",\"Anarchists Prime\",\"Droidz\",\"BowsCoin\",\"Squall Coin\",\"Song Coin\",\"BitZeny\",\"Diggits\",\"Expanse\",\"Paycon\",\"Siacoin\",\"Emercoin\",\"EverGreenCoin\",\"MindCoin\",\"I0coin\",\"Decred\",\"Revolution VR\",\"HOdlcoin\",\"EDRCoin\",\"Hitcoin\",\"Gamecredits\",\"DubaiCoin\",\"CarpeDiemCoin\",\"PWR Coin\",\"BillaryCoin\",\"GPU Coin\",\"Adzcoin\",\"SoilCoin\",\"YoCoin\",\"SibCoin\",\"EuropeCoin\",\"ZeitCoin\",\"SwingCoin\",\"SafeExchangeCoin\",\"Nebuchadnezzar\",\"Francs\",\"BolivarCoin\",\"Ratecoin\",\"Revenu\",\"Clockcoin\",\"VIP Tokens\",\"BitSend\",\"Omni\",\"Let it Ride\",\"PutinCoin\",\"iBankCoin\",\"Frankywillcoin\",\"MudraCoin\",\"PizzaCoin\",\"Lutetium Coin\",\"Komodo\",\"GoldBlocks\",\"CarterCoin\",\"Karbo\",\"BitTokens\",\"ZayedCoin\",\"MustangCoin\",\"ZoneCoin\",\"Circuits of Value\",\"RootCoin\",\"DopeCoin\",\"BitCurrency\",\"DollarCoin\",\"Swiscoin\",\"Shilling\",\"BuzzCoin\",\"Opair\",\"PesoBit\",\"Halloween Coin\",\"ZCoin\",\"CoffeeCoin\",\"RoyalCoin\",\"GanjaCoin V2\",\"TeamUP\",\"LanaCoin\",\"Elementrem\",\"ZClassic\",\"ARK\",\"InsaneCoin\",\"KiloCoin\",\"ArtexCoin\",\"EmberCoin\",\"XenixCoin\",\"FreeCoin\",\"PLNCoin\",\"AquariusCoin\",\"Kurrent\",\"Creatio\",\"Eternity\",\"Eurocoin\",\"BitcoinFast\",\"Stakenet\",\"BitConnect Coin\",\"MoneyCoin\",\"Enigma\",\"Cannabis Industry Coin\",\"Russiacoin\",\"PandaCoin\",\"GameUnits\",\"GAKHcoin\",\"Allsafe\",\"LiteCreed\",\"OsmiumCoin\",\"Bikercoins\",\"HexxCoin\",\"Klingon Empire Darsek\",\"Internet of People\",\"KushCoin\",\"Printerium\",\"PacCoin\",\"Impeach\",\"Citadel\",\"Zilbercoin\",\"FirstCoin\",\"BeaverCoin\",\"FindCoin\",\"VaultCoin\",\"Zero\",\"OpenChat\",\"Canada eCoin\",\"Zoin\",\"RenosCoin\",\"DubaiCoin\",\"VirtacoinPlus\",\"TajCoin\",\"Impact\",\"EB3coin\",\"Atmos\",\"HappyCoin\",\"Coinonat\",\"MacronCoin\",\"Condensate\",\"Independent Money System\",\"ArgusCoin\",\"LomoCoin\",\"ProCurrency\",\"GoldReserve\",\"BenjiRolls\",\"GrowthCoin\",\"ILCoin\",\"Phreak\",\"Degas Coin\",\"HTML5 Coin\",\"Ultimate Secure Cash\",\"EquiTrader\",\"QTUM\",\"Quantum Resistant Ledger\",\"Espers\",\"Dynamic\",\"Nano\",\"ChanCoin\",\"Dinastycoin\",\"Denarius\",\"DigitalPrice\",\"Virta Unique Coin\",\"Bitcoin Planet\",\"Unify\",\"BritCoin\",\"SocialCoin\",\"ArcticCoin\",\"DAS\",\"Linda\",\"LeviarCoin\",\"DeepOnion\",\"Bitcore\",\"gCn Coin\",\"SmartCash\",\"Signatum\",\"Onix\",\"Cream\",\"Bitcoin Cash\",\"Monoeci\",\"Draftcoin\",\"Vechain\",\"Sojourn Coin\",\"Stakecoin\",\"NewYorkCoin\",\"FrazCoin\",\"Kronecoin\",\"AdCoin\",\"Linx\",\"CoinonatX\",\"Ethereum Dark\",\"Sumokoin\",\"Obsidian\",\"Cardano\",\"Regalcoin\",\"BitcoinZ\",\"TrezarCoin\",\"Elements\",\"TerraNovaCoin\",\"VIVO Coin\",\"Rupee\",\"Bitcoin Gold\",\"WomenCoin\",\"Theresa May Coin\",\"NamoCoin\",\"LUXCoin\",\"Pirl\",\"Xios\",\"Bitcloud 2.0\",\"eBoost\",\"KekCoin\",\"BlackholeCoin\",\"Infinity Economics\",\"Pura\",\"Innova\",\"Ellaism\",\"GoByte\",\"Magnet\",\"Lamden Tau\",\"Electra\",\"Bitcoin Diamond\",\"SHIELD\",\"Cash & Back Coin\",\"UltraNote\",\"BitCoal\",\"DaxxCoin\",\"Bulwark\",\"Kalkulus\",\"AC3\",\"Lethean\",\"GermanCoin\",\"LiteCoin Ultra\",\"PopularCoin\",\"PhantomX\",\"Photon\",\"Sucre\",\"SparksPay\",\"Digiwage\",\"GunCoin\",\"IrishCoin\",\"Trollcoin\",\"Litecoin Plus\",\"Monkey Project\",\"Pioneer Coin\",\"UnitedBitcoin\",\"Interzone\",\"TokenPay\",\"1717 Masonic Commemorative Token\",\"My Big Coin\",\"TurtleCoin\",\"MUNcoin\",\"Unified Society USDEX\",\"Niobio Cash\",\"ShareChain\",\"Travelflex\",\"KREDS\",\"Tokyo Coin\",\"BiblePay\",\"LitecoinCash\",\"BitFlip\",\"LottoCoin\",\"Crypto Improvement Fund\",\"Stipend\",\"Poa Network\",\"Pushi\",\"Ellerium\",\"Velox\",\"Ontology\",\"Callisto Network\",\"BitTube\",\"Poseidon\",\"Aidos Kuneen\",\"Bitspace\",\"Briacoin\",\"Ignition\",\"Bitrolium\",\"MedicCoin\",\"Alpenschillling\",\"Bitcoin Green\",\"Deviant Coin\",\"Abjcoin\",\"Semux\",\"FuturoCoin\",\"Carebit\",\"Zealium\",\"Monero Classic\",\"Proton\",\"iDealCash\",\"Jumpcoin\",\"Infinex\",\"Bitcoin Incognito\",\"KEYCO\",\"HollyWoodCoin\",\"GINcoin\",\"PlatinCoin\",\"Loki\",\"Newton Coin\",\"Swisscoin\",\"Xt3ch\",\"MassGrid\",\"TheVig\",\"PluraCoin\",\"EmaratCoin\",\"Dekado\",\"Lynx\",\"Poseidon Quark\",\"BitcoinWSpectrum\",\"Muse\",\"Motion\",\"PlusOneCoin\",\"Axe\",\"Trivechain\",\"Dystem\",\"Giant\",\"Peony Coin\",\"Absolute Coin\",\"Vitae\",\"HexCoin\",\"TPCash\",\"Webchain\",\"Ryo\",\"Urals Coin\",\"Qwertycoin\",\"ARENON\",\"EUNO\",\"MMOCoin\",\"Ketan\",\"Project Pai\",\"XDNA\",\"PAXEX\",\"Azart\",\"ThunderStake\",\"Kcash\",\"Xchange\",\"Acute Angle Cloud\",\"CrypticCoin\",\"Bettex coin\",\"Actinium\",\"Bitcoin SV\",\"BitMoney\",\"Junson Ming Chan Coin\",\"FREDEnergy\",\"HerbCoin\",\"Universal Molecule\",\"Lithium\",\"PirateCash\",\"Exosis\",\"Block-Logic\",\"Oduwa\",\"Beam\",\"Galilel\",\"Bithereum\",\"Crypto Sports\",\"Credit\",\"SLICE\",\"Dash Platinum\",\"Nasdacoin\",\"Beetle Coin\",\"Titan Coin\",\"Award\",\"BLAST\",\"Bitcoin Rhodium\",\"GlobalToken\",\"Insane Coin\",\"ALAX\",\"LiteDoge\",\"SolarCoin\",\"TruckCoin\",\"UFO Coin\",\"OrangeCoin\",\"BlakeCoin\",\"BitstarCoin\",\"NeosCoin\",\"HyperCoin\",\"PinkCoin\",\"Crypto Escudo\",\"AudioCoin\",\"IncaKoin\",\"Piggy Coin\",\"Crown Coin\",\"Genstake\",\"SmileyCoin\",\"XiaoMiCoin\",\"Groestlcoin\",\"CapriCoin\",\" ClubCoin\",\"Radium\",\"Bata\",\"Pakcoin\",\"Creditbit \",\"OKCash\",\"Lisk\",\"HiCoin\",\"WhiteCoin\",\"FriendshipCoin\",\"Fiii\",\"JoinCoin\",\"Triangles Coin\",\"Vollar\",\"EOS\",\"Reality Clash\",\"Oxycoin\",\"TigerCash\",\"Waves\",\"Particl\",\"BitTorrent\",\"Nxt\",\"ZEPHYR\",\"Gapcoin\",\"Beldex\",\"Horizen\",\"BitcoinPlus\"],\"PC_1\":{\"__ndarray__\":\"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\",\"dtype\":\"float64\",\"order\":\"little\",\"shape\":[533]},\"PC_2\":{\"__ndarray__\":\"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\",\"dtype\":\"float64\",\"order\":\"little\",\"shape\":[533]},\"PC_3\":{\"__ndarray__\":\"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\",\"dtype\":\"float64\",\"order\":\"little\",\"shape\":[533]},\"ProofType\":[\"PoW/PoS\",\"PoW/PoS\",\"PoW/PoS\",\"PoW\",\"PoW\",\"PoW\",\"PoW/PoS\",\"PoW\",\"PoW\",\"PoW\",\"PoS\",\"PoW\",\"PoW/PoS\",\"PoS\",\"PoW\",\"PoW/PoS\",\"PoW\",\"PoW\",\"PoW/PoS\",\"PoW/PoS\",\"PoW\",\"PoW\",\"PoW\",\"PoW\",\"PoW\",\"PoW/PoS\",\"PoW\",\"PoW\",\"PoW\",\"PoW/PoS\",\"PoW\",\"PoW/PoS\",\"PoW\",\"PoW\",\"PoC\",\"PoW/PoS\",\"PoW\",\"PoW\",\"PoW\",\"PoW\",\"PoW\",\"PoW\",\"PoS\",\"PoS/PoW/PoT\",\"PoW\",\"PoW\",\"PoW\",\"PoW\",\"PoW\",\"PoW/PoS\",\"PoS\",\"PoW\",\"PoW/PoS\",\"PoW\",\"PoW\",\"PoW\",\"PoW\",\"PoW/PoS\",\"PoW\",\"PoW\",\"PoS\",\"PoW\",\"PoW/PoS\",\"PoS\",\"PoW/PoS\",\"PoW\",\"PoW\",\"PoW\",\"PoW/PoS\",\"PoW/PoS\",\"PoW/PoS\",\"PoW/PoS\",\"PoW/PoS\",\"PoW\",\"PoW\",\"PoW\",\"PoS\",\"PoW/PoS\",\"PoW\",\"PoS\",\"PoW\",\"PoS\",\"PoW/PoS\",\"PoW\",\"PoW\",\"PoW\",\"PoW\",\"PoW/PoS\",\"PoW/PoS\",\"PoW\",\"PoST\",\"PoW\",\"PoW\",\"PoW/PoS\",\"PoS\",\"PoW\",\"PoW/PoS\",\"PoW/PoS\",\"PoW\",\"PoW\",\"PoC\",\"PoS\",\"PoW\",\"PoW/PoS\",\"PoW/PoS\",\"PoW\",\"PoS\",\"PoW\",\"PoW/PoS\",\"PoW\",\"PoS\",\"PoW\",\"PoW/PoS\",\"PoW/PoS\",\"PoW\",\"PoW\",\"PoS\",\"PoW\",\"PoW\",\"PoW\",\"PoW/PoS\",\"PoW\",\"PoW\",\"PoW\",\"PoW\",\"PoW\",\"PoW/PoS\",\"PoW/nPoS\",\"PoW\",\"PoW\",\"PoW\",\"PoW/PoS\",\"PoW\",\"PoS/PoW\",\"PoW\",\"PoW\",\"PoS\",\"PoW\",\"PoW/PoS\",\"PoW\",\"PoW/PoS\",\"PoW/PoS\",\"PoW\",\"PoW\",\"PoW/PoS\",\"PoW\",\"PoW\",\"PoW/PoS\",\"PoW/PoS\",\"PoW\",\"PoW/PoS\",\"PoW\",\"PoW/PoS\",\"PoW/PoS\",\"PoS\",\"PoW\",\"PoW\",\"PoW\",\"PoW\",\"PoW/PoS\",\"PoS\",\"PoW/PoS\",\"PoC\",\"PoS\",\"PoW\",\"PoW\",\"PoW/PoS\",\"PoW/PoS\",\"PoW/PoS\",\"PoW/PoS\",\"PoW/PoS\",\"PoW\",\"PoS\",\"PoW/PoS\",\"PoW/PoS\",\"PoW/PoS\",\"PoS\",\"PoW\",\"PoS\",\"dPoW/PoW\",\"PoW/PoS\",\"PoW/PoS\",\"PoW\",\"PoW/PoS\",\"PoW\",\"PoW/PoS\",\"PoW/PoS\",\"PoW\",\"PoW/PoS\",\"PoW\",\"PoS\",\"PoW\",\"PoW/PoW\",\"PoW\",\"PoW/PoS\",\"PoS\",\"PoW/PoS\",\"PoW/PoS\",\"PoW\",\"PoS\",\"PoS\",\"PoW/PoS\",\"PoS\",\"PoW/PoS\",\"PoW\",\"PoW\",\"DPoS\",\"PoW/PoS\",\"PoW\",\"PoW\",\"PoW/PoS\",\"PoW/PoS\",\"PoS\",\"PoW/PoS\",\"PoW/PoS\",\"PoW\",\"PoS\",\"PoW/PoS\",\"PoW/PoS\",\"PoW/PoS\",\"TPoS\",\"PoW/PoS\",\"PoW/PoS\",\"PoW/PoS\",\"PoW\",\"PoW/PoS\",\"PoS\",\"PoW/PoS\",\"PoW/PoS\",\"PoS\",\"PoW/PoS\",\"PoW\",\"PoW\",\"PoW\",\"PoW/PoS\",\"PoW/PoS\",\"PoW/PoS\",\"PoW/PoS\",\"PoW\",\"PoW/PoS\",\"PoW\",\"PoS\",\"PoW/PoS \",\"PoW\",\"PoS\",\"PoW\",\"PoW\",\"PoW/PoS\",\"PoW\",\"PoW\",\"PoS\",\"PoW\",\"PoW/PoS\",\"PoW/PoS\",\"PoW/PoS\",\"PoW\",\"PoS\",\"PoW/PoS\",\"PoW\",\"PoS\",\"PoW/PoS\",\"PoW/PoS\",\"PoW/PoS\",\"PoW/PoS\",\"PoS\",\"PoW/PoS\",\"PoW\",\"PoS\",\"PoW\",\"PoS\",\"PoW/PoS\",\"PoW/PoS\",\"PoS\",\"PoW\",\"PoS\",\"PoW\",\"PoW/PoS\",\"PoW\",\"PoW\",\"PoW\",\"PoW\",\"PoW/PoS\",\"PoW\",\"PoW/PoS\",\"PoW/PoS\",\"PoW\",\"PoW/PoS\",\"PoW\",\"PoW\",\"PoW\",\"PoW/PoS\",\"PoW\",\"PoW/PoS\",\"PoW\",\"PoW\",\"PoW\",\"PoS\",\"PoW\",\"PoW/PoS\",\"PoW\",\"PoW/PoS\",\"PoS\",\"Proof of Authority\",\"PoW\",\"PoS\",\"PoW\",\"PoW\",\"PoW\",\"PoW\",\"PoW\",\"PoW/PoS\",\"PoW/PoS\",\"PoW\",\"PoS\",\"PoS\",\"PoW/PoS\",\"PoW\",\"PoW/PoS\",\"PoW\",\"PoW/PoS\",\"PoW\",\"PoS\",\"PoW\",\"PoW/PoS\",\"PoW/PoS\",\"PoW/PoS\",\"PoW/PoS\",\"PoW\",\"PoW/PoS\",\"PoW/PoS\",\"PoW\",\"PoS\",\"PoW/PoS\",\"PoS\",\"PoW\",\"PoW\",\"PoW\",\"PoW\",\"PoW/PoS\",\"DPoS\",\"PoW/PoS\",\"PoW/PoS\",\"PoW\",\"PoW/PoS\",\"PoW\",\"PoW\",\"PoW\",\"PoS\",\"PoS\",\"PoW\",\"PoW\",\"PoW/PoS\",\"PoW/PoS\",\"PoW\",\"PoW/PoS\",\"PoW\",\"PoW\",\"PoW\",\"PoS\",\"PoW\",\"PoW\",\"PoW/PoS\",\"PoW/PoS\",\"PoS\",\"PoW\",\"PoW\",\"PoW\",\"PoS\",\"PoS\",\"PoW and PoS\",\"PoW\",\"PoW\",\"PoW/PoS\",\"PoW\",\"PoW\",\"PoW\",\"PoW\",\"PoS\",\"POBh\",\"PoW + Hive\",\"PoW\",\"PoW\",\"PoW\",\"PoW/PoS\",\"PoA\",\"PoW/PoS\",\"PoW/PoS\",\"PoS\",\"PoS\",\"PoW\",\"PoW\",\"PoW\",\"PoW\",\"PoW/PoS\",\"PoW/PoS\",\"PoW/PoS\",\"PoW\",\"PoS\",\"PoW\",\"PoS\",\"PoS\",\"PoW/PoS\",\"DPoS\",\"PoW\",\"PoW/PoS\",\"PoS\",\"PoW\",\"PoS\",\"PoW/PoS\",\"PoW\",\"PoW\",\"PoS/PoW\",\"PoW\",\"PoS\",\"PoW\",\"PoW\",\"PoW\",\"PoW\",\"PoW/PoS\",\"PoS\",\"PoW\",\"PoW/PoS\",\"PoW\",\"PoW/PoS\",\"PoS\",\"HPoW\",\"PoS\",\"PoS\",\"PoS\",\"PoW\",\"PoW\",\"PoW\",\"PoW/PoS\",\"PoS\",\"PoW/PoS\",\"PoS\",\"PoW/PoS\",\"PoS\",\"PoW\",\"PoW/PoS\",\"PoW\",\"PoW\",\"PoW\",\"PoW\",\"PoS\",\"PoW/PoS\",\"PoS\",\"PoS\",\"PoW\",\"PoW/PoS\",\"PoS\",\"PoW\",\"PoW/PoS\",\"Zero-Knowledge Proof\",\"PoW\",\"DPOS\",\"PoW\",\"PoS\",\"PoW\",\"PoW\",\"Pos\",\"PoS\",\"PoW\",\"PoW/PoS\",\"PoW\",\"PoW\",\"PoS\",\"PoW\",\"PoW\",\"PoW/PoS\",\"PoW\",\"PoW/PoS\",\"PoW\",\"PoS\",\"PoW/PoS\",\"PoW\",\"PoS\",\"PoW/PoS\",\"PoW/PoS\",\"PoW/PoS\",\"PoW/PoS\",\"PoW\",\"PoW\",\"PoW\",\"PoW/PoS\",\"DPoS\",\"PoW/PoS\",\"PoW\",\"PoW/PoS\",\"PoW\",\"PoW/PoS\",\"PoW\",\"PoW/PoS\",\"PoS\",\"PoW/PoS\",\"PoW/PoS\",\"PoW\",\"PoW/PoS\",\"PoW/PoS\",\"PoW/PoS\",\"PoW\",\"PoW/PoS\",\"PoW\",\"PoW/PoS\",\"PoW\",\"PoW/PoS\",\"PoW/PoS\",\"PoS\",\"PoW\",\"PoW\",\"Proof of Trust\",\"PoW/PoS\",\"DPoS\",\"PoS\",\"PoW/PoS\",\"PoW/PoS\",\"DPoC\",\"PoW\",\"PoW/PoS\",\"PoW\",\"DPoS\",\"PoW\",\"DPoS\",\"PoS\",\"LPoS\",\"PoS\",\"DPoS\",\"PoS/LPoS\",\"DPoS\",\"PoW/PoS\",\"PoW\",\"PoW\",\"PoS\"],\"TotalCoinSupply\":[\"42\",\"532000000\",\"314159265359\",\"21000000\",\"0\",\"84000000\",\"22000000\",\"0\",\"210000000\",\"21000000\",\"3600570502\",\"21000000000\",\"22000000\",\"12500000\",\"21000000\",\"350000000\",\"20000000\",\"64000000\",\"16768584\",\"0\",\"2000000000\",\"384000000000\",\"169795588\",\"250000000\",\"100000000\",\"0\",\"247000000\",\"84000000\",\"48166000\",\"500000\",\"21000000 \",\"1000000\",\"13140000\",\"18000000\",\"40000000000\",\"4380000\",\"16555000000\",\"21000000000\",\"13500000000\",\"21000000 \",\"299792458\",\"32000000\",\"0\",\"0\",\"11235813\",\"336000000\",\"1420609614\",\"70000000\",\"72245700\",\"120000000\",\"0\",\"90600000000\",\"22000000\",\"21000000\",\"265420800\",\"20000000\",\"1350000\",\"100000000\",\"42000000\",\"200000000\",\"0\",\"10000000\",\"2419200000\",\"16180000\",\"0\",\"15000000000\",\"21000000\",\"337000000\",\"0\",\"3770000\",\"420000000\",\"98000000\",\"0\",\"21000000\",\"250000000\",\"51200000\",\"0\",\"1000\",\"888000000\",\"100000000\",\"47011968\",\"2300000000\",\"10000000\",\"42000000\",\"80000000\",\"250000\",\"0\",\"1600000000\",\"100000000\",\"23000000\",\"0\",\"84000000\",\"265420800\",\"5500000\",\"0\",\"45000000\",\"0\",\"1000000000\",\"184467440735\",\"10000000000\",\"2158812800\",\"500000000\",\"105120000\",\"68000000\",\"0\",\"1680000000\",\"0\",\"166386000\",\"12000000\",\"2628000\",\"500000000\",\"160000000\",\"0\",\"10000000\",\"1000000000\",\"1000000000\",\"20000000\",\"0\",\"0\",\"3371337\",\"20000000\",\"10000000000\",\"1840000000\",\"619478\",\"21000000\",\"92000000000\",\"0\",\"78000000\",\"33000000\",\"65789100\",\"53760000\",\"5060000\",\"21000000\",\"0\",\"210240000\",\"250000000\",\"100000000\",\"16906397\",\"50000000\",\"0\",\"1000000000\",\"26298000\",\"16000000\",\"21000000\",\"21000000\",\"210000000\",\"81962100\",\"22000000\",\"26550000000\",\"84000000\",\"10500000\",\"21626280000 \",\"0\",\"42000000\",\"221052632\",\"84000000\",\"30000000\",\"168351300\",\"24000000\",\"384000000\",\" 99000000000\",\"40000000\",\"2147483647\",\"20000000\",\"20000000\",\"25000000\",\"75000000\",\"222725000\",\"525000000\",\"90000000\",\"139000000\",\"616448\",\"33500000\",\"2000000000\",\"44333333\",\"100000000\",\"200000000\",\"25000000\",\"657000000\",\"200000000\",\"50000000\",\"90000000\",\"10000000\",\"21000000\",\"9736000\",\"3000000\",\"21000000\",\"1200000000\",\"0\",\"200000000\",\"0\",\"10638298\",\"3100000000\",\"30000000\",\"20000000000\",\"74000000\",\"0\",\"1500000000\",\"21400000\",\"39999898\",\"2500124\",\"100000000\",\"301000000\",\"7506000000\",\"26205539\",\"21000000\",\"125000000\",\"30000000\",\"10000000000\",\"500000000\",\"850000000\",\"3853326.77707314\",\"50000000\",\"38540000 \",\"42000000\",\"228000000\",\"20000000\",\"60000000\",\"20000000\",\"33000000\",\"76500000\",\"28000000\",\"650659833\",\"5000000\",\"21000000\",\"144000000\",\"32514916898\",\"13000000\",\"3315789\",\"15000000\",\"78835200\",\"2714286\",\"25000000\",\"9999999\",\"500000000\",\"21000000\",\"9354000\",\"20000000\",\"100000000000\",\"21933333\",\"185000000\",\"55000000\",\"110000000\",\"3360000\",\"14524851.4827\",\"1000000000\",\"17000000\",\"1000000000\",\"100000000 \",\"21000000\",\"34426423\",\"2232901\",\"100000000\",\"36900000\",\"110000000\",\"4000000000\",\"110290030\",\"100000000\",\"48252000\",\"400000000\",\"500000000\",\"21212121\",\"28600000\",\"1000000000\",\"75000000000\",\"40000000\",\"35520400\",\"2000000000\",\"2500000000\",\"30000000\",\"105000000\",\"90000000000\",\"200084200\",\"72000000\",\"100000000\",\"105000000\",\"50000000000\",\"0\",\"340282367\",\"30000000\",\"2000000000\",\"10000000\",\"100000000\",\"120000000\",\"100000000\",\"19276800\",\"30000000\",\" 75000000\",\"60000000\",\"18900000\",\"50000000000\",\"54000000\",\"18898187.6216583\",\"21000000\",\"200000000000\",\"5000000000\",\"137500000\",\"1100000000\",\"100000000\",\"21000000\",\"9507271\",\"17405891.19707116\",\"86712634466\",\"10500000000\",\"61599965\",\"0\",\"20000000\",\"84000000\",\"100000000\",\"100000000\",\"48252000\",\"4200000\",\"88888888\",\"91388946\",\"45000000000\",\"27000000\",\"21000000000\",\"400000000\",\"1800000000\",\"15733333\",\"27000000\",\"24000000\",\"21000000\",\"25000000000\",\"100000000\",\"1200000000\",\"60000000\",\"156306732.71\",\"21000000\",\"200000000\",\"100000000\",\"21000000\",\"14788275.991\",\"9000000000\",\"350000000\",\"45000000\",\"280000000\",\"31800000\",\"144000000\",\"500000000\",\"30000000000\",\"210000000\",\"660000000\",\"210000000\",\"85000000000\",\"12500000\",\"10000000000\",\"27716121\",\"20000000\",\"550000000\",\"999481516\",\"50000000000\",\"150000000\",\"4999999999\",\"50000000\",\" 90000000000\",\"19800000\",\"21000000\",\"120000000\",\"500000000\",\"64000000\",\"900000000\",\"4000000\",\"21000000\",\"23000000\",\"20166000\",\"23000000\",\"25000000\",\"1618033\",\"30000000\",\"1000000000000\",\"16600000\",\"232000000\",\"336000000\",\"10000000000\",\"100000000\",\"1100000000\",\"800000000\",\"5200000000\",\"840000000\",\"40000000\",\"18406979840\",\"500000000\",\"19340594\",\"252460800\",\"25000000\",\"60000000\",\"124000000\",\"1000000000\",\"6500000000\",\"1000000000\",\"21000000\",\"25000000\",\"50000000\",\"3000000\",\"5000000\",\"70000000\",\"500000000\",\"300000000\",\"21000000\",\"88000000\",\"30000000\",\"100000000\",\"100000000\",\"200000000\",\"80000000\",\"18400000\",\"45000000\",\"5121951220\",\"21000000\",\"26280000\",\"21000000\",\"18000000\",\"26000000\",\"10500000\",\"600000518\",\"150000000\",\"184000000000\",\"10200000000\",\"44000000\",\"168000000\",\"100000000\",\"1000000000\",\"84000000\",\"90000000\",\"92000000000\",\"650000000 \",\"100262205\",\"18081806 \",\"22075700\",\"21000000\",\"21000000\",\"82546564\",\"21000000\",\"5151000\",\"16880000000\",\"52500000\",\"100000000\",\"22105263\",\"1000000000\",\"1750000000\",\"88188888\",\"210000000\",\"184470000000\",\"55000000\",\"50000000\",\"260000000\",\"210000000\",\"2100000000\",\"366000000\",\"100000000\",\"25000000\",\"18000000000\",\"1000000000\",\"100000000\",\"1000000000\",\"7600000000\",\"50000000\",\"84000000\",\"21000000\",\"70000000000\",\"0\",\"8080000000\",\"54000000\",\"105120001.44\",\"25228800\",\"105000000\",\"21000000\",\"120000000\",\"21000000\",\"262800000\",\"19035999\",\"30886000\",\"13370000\",\"74800000000\",\"100000000\",\"19700000\",\"84000000\",\"500000000\",\"5000000000\",\"420000000\",\"64000000\",\"2100000\",\"168000000\",\"30000000\",\"1000000000\",\"35000000000\",\"98100000000\",\"0\",\"4000000000\",\"200000000\",\"7000000000\",\"54256119\",\"21000000\",\"0\",\"500000000\",\"1000000000\",\"10500000000\",\"190000000\",\"1000000000\",\"42000000\",\"15000000\",\"50000000000\",\"400000000\",\"105000000\",\"208000000\",\"160000000\",\"9000000\",\"5000000\",\"182000000\",\"16504333\",\"105000000\",\"159918400\",\"10008835635\",\"300000000\",\"60168145\",\"5000000000\",\"2800000\",\"120000\",\"2100000000\",\"0\",\"24487944\",\"0\",\"1000000000\",\"100000000\",\"8634140\",\"990000000000\",\"1000000000\",\"2000000000\",\"250000000\",\"1400222610\",\"21000000\",\"1000000\"],\"TotalCoinsMined\":{\"__ndarray__\":\"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\",\"dtype\":\"float64\",\"order\":\"little\",\"shape\":[533]},\"class\":{\"__ndarray__\":\"AAAAAAAAAAAAAAAAAQAAAAEAAAABAAAAAAAAAAEAAAABAAAAAQAAAAAAAAABAAAAAAAAAAAAAAABAAAAAAAAAAEAAAABAAAAAAAAAAAAAAABAAAAAQAAAAEAAAABAAAAAQAAAAAAAAABAAAAAQAAAAEAAAAAAAAAAQAAAAAAAAABAAAAAQAAAAAAAAAAAAAAAQAAAAEAAAABAAAAAQAAAAEAAAABAAAAAAAAAAAAAAABAAAAAQAAAAEAAAABAAAAAQAAAAAAAAAAAAAAAQAAAAAAAAABAAAAAQAAAAEAAAABAAAAAAAAAAEAAAABAAAAAAAAAAEAAAAAAAAAAAAAAAAAAAABAAAAAQAAAAEAAAAAAAAAAAAAAAAAAAAAAAAAAAAAAAEAAAABAAAAAQAAAAAAAAAAAAAAAQAAAAAAAAABAAAAAAAAAAAAAAABAAAAAQAAAAEAAAABAAAAAAAAAAAAAAABAAAAAAAAAAEAAAABAAAAAAAAAAAAAAABAAAAAAAAAAAAAAABAAAAAQAAAAAAAAAAAAAAAQAAAAAAAAAAAAAAAQAAAAAAAAABAAAAAAAAAAEAAAAAAAAAAQAAAAAAAAAAAAAAAQAAAAEAAAAAAAAAAQAAAAEAAAABAAAAAAAAAAEAAAABAAAAAQAAAAEAAAABAAAAAAAAAAAAAAABAAAAAQAAAAEAAAAAAAAAAQAAAAAAAAABAAAAAQAAAAAAAAABAAAAAAAAAAEAAAAAAAAAAAAAAAEAAAABAAAAAAAAAAEAAAABAAAAAAAAAAAAAAABAAAAAAAAAAEAAAAAAAAAAAAAAAAAAAABAAAAAQAAAAEAAAABAAAAAAAAAAAAAAAAAAAAAAAAAAAAAAABAAAAAQAAAAAAAAAAAAAAAAAAAAAAAAAAAAAAAQAAAAAAAAAAAAAAAAAAAAAAAAAAAAAAAQAAAAAAAAABAAAAAAAAAAAAAAABAAAAAAAAAAEAAAAAAAAAAAAAAAEAAAAAAAAAAQAAAAAAAAABAAAAAAAAAAEAAAAAAAAAAAAAAAAAAAAAAAAAAQAAAAAAAAAAAAAAAAAAAAAAAAAAAAAAAQAAAAEAAAAAAAAAAAAAAAEAAAABAAAAAAAAAAAAAAAAAAAAAAAAAAAAAAABAAAAAAAAAAAAAAAAAAAAAAAAAAAAAAAAAAAAAAAAAAAAAAABAAAAAAAAAAAAAAAAAAAAAAAAAAAAAAAAAAAAAQAAAAEAAAABAAAAAAAAAAAAAAAAAAAAAAAAAAEAAAAAAAAAAQAAAAAAAAAAAAAAAQAAAAAAAAABAAAAAQAAAAAAAAABAAAAAQAAAAAAAAABAAAAAAAAAAAAAAAAAAAAAQAAAAAAAAAAAAAAAQAAAAAAAAAAAAAAAAAAAAAAAAAAAAAAAAAAAAAAAAABAAAAAAAAAAEAAAAAAAAAAAAAAAAAAAAAAAAAAQAAAAAAAAABAAAAAAAAAAEAAAABAAAAAQAAAAEAAAAAAAAAAQAAAAAAAAAAAAAAAQAAAAAAAAABAAAAAQAAAAEAAAAAAAAAAQAAAAAAAAABAAAAAQAAAAEAAAAAAAAAAQAAAAAAAAABAAAAAAAAAAAAAAADAAAAAQAAAAAAAAABAAAAAQAAAAEAAAABAAAAAQAAAAAAAAAAAAAAAQAAAAAAAAAAAAAAAAAAAAEAAAAAAAAAAQAAAAAAAAABAAAAAAAAAAEAAAAAAAAAAAAAAAAAAAAAAAAAAQAAAAAAAAAAAAAAAQAAAAAAAAAAAAAAAAAAAAEAAAABAAAAAQAAAAEAAAAAAAAAAAAAAAAAAAAAAAAAAQAAAAAAAAABAAAAAQAAAAEAAAAAAAAAAAAAAAEAAAABAAAAAAAAAAAAAAABAAAAAAAAAAEAAAABAAAAAQAAAAAAAAABAAAAAQAAAAAAAAAAAAAAAAAAAAEAAAABAAAAAQAAAAAAAAABAAAAAAAAAAEAAAABAAAAAAAAAAEAAAABAAAAAQAAAAEAAAAAAAAAAwAAAAAAAAABAAAAAQAAAAEAAAAAAAAAAwAAAAAAAAAAAAAAAAAAAAAAAAABAAAAAQAAAAEAAAABAAAAAAAAAAAAAAAAAAAAAQAAAAAAAAABAAAAAAAAAAAAAAAAAAAAAAAAAAEAAAAAAAAAAAAAAAEAAAAAAAAAAAAAAAEAAAABAAAAAAAAAAEAAAAAAAAAAQAAAAEAAAABAAAAAQAAAAAAAAAAAAAAAQAAAAAAAAABAAAAAAAAAAAAAAAAAAAAAAAAAAAAAAAAAAAAAQAAAAEAAAABAAAAAAAAAAAAAAAAAAAAAAAAAAAAAAAAAAAAAQAAAAAAAAABAAAAAQAAAAEAAAABAAAAAAAAAAAAAAAAAAAAAAAAAAEAAAAAAAAAAAAAAAEAAAAAAAAAAAAAAAEAAAADAAAAAQAAAAAAAAABAAAAAQAAAAAAAAAAAAAAAQAAAAAAAAABAAAAAQAAAAAAAAABAAAAAQAAAAAAAAABAAAAAAAAAAEAAAAAAAAAAAAAAAEAAAAAAAAAAAAAAAAAAAAAAAAAAAAAAAEAAAABAAAAAQAAAAAAAAAAAAAAAAAAAAEAAAAAAAAAAQAAAAAAAAABAAAAAAAAAAAAAAAAAAAAAAAAAAEAAAAAAAAAAAAAAAAAAAABAAAAAAAAAAEAAAAAAAAAAQAAAAAAAAAAAAAAAAAAAAEAAAABAAAAAAAAAAAAAAAAAAAAAAAAAAAAAAAAAAAAAwAAAAEAAAAAAAAAAQAAAAAAAAABAAAAAAAAAAAAAAADAAAAAAAAAAIAAAAAAAAAAAAAAAAAAAABAAAAAQAAAAAAAAA=\",\"dtype\":\"int32\",\"order\":\"little\",\"shape\":[533]}},\"selected\":{\"id\":\"2741\"},\"selection_policy\":{\"id\":\"2789\"}},\"id\":\"2740\",\"type\":\"ColumnDataSource\"},{\"attributes\":{\"format\":\"0,0.0[00000]\"},\"id\":\"2772\",\"type\":\"NumberFormatter\"},{\"attributes\":{},\"id\":\"2753\",\"type\":\"NumberEditor\"},{\"attributes\":{\"editor\":{\"id\":\"2773\"},\"field\":\"PC_3\",\"formatter\":{\"id\":\"2772\"},\"title\":\"PC 3\"},\"id\":\"2774\",\"type\":\"TableColumn\"},{\"attributes\":{},\"id\":\"2778\",\"type\":\"StringEditor\"},{\"attributes\":{\"editor\":{\"id\":\"2783\"},\"field\":\"class\",\"formatter\":{\"id\":\"2782\"},\"title\":\"class\"},\"id\":\"2784\",\"type\":\"TableColumn\"},{\"attributes\":{\"columns\":[{\"id\":\"2744\"},{\"id\":\"2749\"},{\"id\":\"2754\"},{\"id\":\"2759\"},{\"id\":\"2764\"},{\"id\":\"2769\"},{\"id\":\"2774\"},{\"id\":\"2779\"},{\"id\":\"2784\"}],\"height\":300,\"reorderable\":false,\"source\":{\"id\":\"2740\"},\"view\":{\"id\":\"2788\"},\"width\":700},\"id\":\"2787\",\"type\":\"DataTable\"},{\"attributes\":{\"editor\":{\"id\":\"2753\"},\"field\":\"TotalCoinsMined\",\"formatter\":{\"id\":\"2752\"},\"title\":\"TotalCoinsMined\"},\"id\":\"2754\",\"type\":\"TableColumn\"},{\"attributes\":{\"source\":{\"id\":\"2740\"}},\"id\":\"2788\",\"type\":\"CDSView\"}],\"root_ids\":[\"2738\"]},\"title\":\"Bokeh Application\",\"version\":\"2.2.3\"}};\n",
       "    var render_items = [{\"docid\":\"6411a406-4b4a-4906-acfc-666bc2b34e7f\",\"root_ids\":[\"2738\"],\"roots\":{\"2738\":\"c272e102-102b-47f9-b5d5-ed573a0b5e3a\"}}];\n",
       "    root.Bokeh.embed.embed_items_notebook(docs_json, render_items);\n",
       "  }\n",
       "  if (root.Bokeh !== undefined && root.Bokeh.Panel !== undefined) {\n",
       "    embed_document(root);\n",
       "  } else {\n",
       "    var attempts = 0;\n",
       "    var timer = setInterval(function(root) {\n",
       "      if (root.Bokeh !== undefined && root.Bokeh.Panel !== undefined) {\n",
       "        clearInterval(timer);\n",
       "        embed_document(root);\n",
       "      } else if (document.readyState == \"complete\") {\n",
       "        attempts++;\n",
       "        if (attempts > 100) {\n",
       "          clearInterval(timer);\n",
       "          console.log(\"Bokeh: ERROR: Unable to run BokehJS code because BokehJS library is missing\");\n",
       "        }\n",
       "      }\n",
       "    }, 10, root)\n",
       "  }\n",
       "})(window);</script>"
      ],
      "text/plain": [
       ":Table   [Algorithm,ProofType,TotalCoinsMined,TotalCoinSupply,PC 1,PC 2,PC 3,CoinName,class]"
      ]
     },
     "execution_count": 220,
     "metadata": {
      "application/vnd.holoviews_exec.v0+json": {
       "id": "2738"
      }
     },
     "output_type": "execute_result"
    }
   ],
   "source": [
    "# Create a table with tradable cryptocurrencies.\n",
    "clustered_df.hvplot.table()"
   ]
  },
  {
   "cell_type": "code",
   "execution_count": 221,
   "metadata": {},
   "outputs": [
    {
     "name": "stdout",
     "output_type": "stream",
     "text": [
      "There are 533 tradable cryptocurrencies.\n"
     ]
    }
   ],
   "source": [
    "# Print the total number of tradable cryptocurrencies.\n",
    "print(f\"There are {clustered_df.shape[0] } tradable cryptocurrencies.\")"
   ]
  },
  {
   "cell_type": "code",
   "execution_count": 222,
   "metadata": {},
   "outputs": [
    {
     "data": {
      "text/plain": [
       "array([[4.20000000e-11, 5.94230127e-03],\n",
       "       [5.32000000e-04, 7.00182308e-03],\n",
       "       [3.14159265e-01, 3.53420682e-02],\n",
       "       ...,\n",
       "       [1.40022261e-03, 6.92655266e-03],\n",
       "       [2.10000000e-05, 5.94962775e-03],\n",
       "       [1.00000000e-06, 5.94243008e-03]])"
      ]
     },
     "execution_count": 222,
     "metadata": {},
     "output_type": "execute_result"
    }
   ],
   "source": [
    "# Scaling data to create the scatter plot with tradable cryptocurrencies.\n",
    "new_crypto_scaled = MinMaxScaler().fit_transform(clustered_df[[\"TotalCoinSupply\", \"TotalCoinsMined\"]])\n",
    "new_crypto_scaled"
   ]
  },
  {
   "cell_type": "code",
   "execution_count": 223,
   "metadata": {},
   "outputs": [
    {
     "data": {
      "text/html": [
       "<div>\n",
       "<style scoped>\n",
       "    .dataframe tbody tr th:only-of-type {\n",
       "        vertical-align: middle;\n",
       "    }\n",
       "\n",
       "    .dataframe tbody tr th {\n",
       "        vertical-align: top;\n",
       "    }\n",
       "\n",
       "    .dataframe thead th {\n",
       "        text-align: right;\n",
       "    }\n",
       "</style>\n",
       "<table border=\"1\" class=\"dataframe\">\n",
       "  <thead>\n",
       "    <tr style=\"text-align: right;\">\n",
       "      <th></th>\n",
       "      <th>TotalCoinSupply</th>\n",
       "      <th>TotalCoinsMined</th>\n",
       "      <th>CoinName</th>\n",
       "      <th>class</th>\n",
       "    </tr>\n",
       "  </thead>\n",
       "  <tbody>\n",
       "    <tr>\n",
       "      <th>42</th>\n",
       "      <td>4.200000e-11</td>\n",
       "      <td>0.005942</td>\n",
       "      <td>42 Coin</td>\n",
       "      <td>0</td>\n",
       "    </tr>\n",
       "    <tr>\n",
       "      <th>404</th>\n",
       "      <td>5.320000e-04</td>\n",
       "      <td>0.007002</td>\n",
       "      <td>404Coin</td>\n",
       "      <td>0</td>\n",
       "    </tr>\n",
       "    <tr>\n",
       "      <th>1337</th>\n",
       "      <td>3.141593e-01</td>\n",
       "      <td>0.035342</td>\n",
       "      <td>EliteCoin</td>\n",
       "      <td>0</td>\n",
       "    </tr>\n",
       "    <tr>\n",
       "      <th>BTC</th>\n",
       "      <td>2.100000e-05</td>\n",
       "      <td>0.005960</td>\n",
       "      <td>Bitcoin</td>\n",
       "      <td>1</td>\n",
       "    </tr>\n",
       "    <tr>\n",
       "      <th>ETH</th>\n",
       "      <td>0.000000e+00</td>\n",
       "      <td>0.006050</td>\n",
       "      <td>Ethereum</td>\n",
       "      <td>1</td>\n",
       "    </tr>\n",
       "    <tr>\n",
       "      <th>LTC</th>\n",
       "      <td>8.400000e-05</td>\n",
       "      <td>0.006006</td>\n",
       "      <td>Litecoin</td>\n",
       "      <td>1</td>\n",
       "    </tr>\n",
       "    <tr>\n",
       "      <th>DASH</th>\n",
       "      <td>2.200000e-05</td>\n",
       "      <td>0.005951</td>\n",
       "      <td>Dash</td>\n",
       "      <td>0</td>\n",
       "    </tr>\n",
       "    <tr>\n",
       "      <th>XMR</th>\n",
       "      <td>0.000000e+00</td>\n",
       "      <td>0.005960</td>\n",
       "      <td>Monero</td>\n",
       "      <td>1</td>\n",
       "    </tr>\n",
       "    <tr>\n",
       "      <th>ETC</th>\n",
       "      <td>2.100000e-04</td>\n",
       "      <td>0.006056</td>\n",
       "      <td>Ethereum Classic</td>\n",
       "      <td>1</td>\n",
       "    </tr>\n",
       "    <tr>\n",
       "      <th>ZEC</th>\n",
       "      <td>2.100000e-05</td>\n",
       "      <td>0.005950</td>\n",
       "      <td>ZCash</td>\n",
       "      <td>1</td>\n",
       "    </tr>\n",
       "  </tbody>\n",
       "</table>\n",
       "</div>"
      ],
      "text/plain": [
       "      TotalCoinSupply  TotalCoinsMined          CoinName  class\n",
       "42       4.200000e-11         0.005942           42 Coin      0\n",
       "404      5.320000e-04         0.007002           404Coin      0\n",
       "1337     3.141593e-01         0.035342         EliteCoin      0\n",
       "BTC      2.100000e-05         0.005960           Bitcoin      1\n",
       "ETH      0.000000e+00         0.006050          Ethereum      1\n",
       "LTC      8.400000e-05         0.006006          Litecoin      1\n",
       "DASH     2.200000e-05         0.005951              Dash      0\n",
       "XMR      0.000000e+00         0.005960            Monero      1\n",
       "ETC      2.100000e-04         0.006056  Ethereum Classic      1\n",
       "ZEC      2.100000e-05         0.005950             ZCash      1"
      ]
     },
     "execution_count": 223,
     "metadata": {},
     "output_type": "execute_result"
    }
   ],
   "source": [
    "# Create a new DataFrame that has the scaled data with the clustered_df DataFrame index.\n",
    "final_df = pd.DataFrame(new_crypto_scaled, columns = [\"TotalCoinSupply\", \"TotalCoinsMined\"], index= clustered_df.index)\n",
    "\n",
    "# Add the \"CoinName\" column from the clustered_df DataFrame to the new DataFrame.\n",
    "final_df[\"CoinName\"] = coinNames_df[\"CoinName\"]\n",
    "\n",
    "# Add the \"Class\" column from the clustered_df DataFrame to the new DataFrame. \n",
    "final_df[\"class\"] = model.labels_\n",
    "final_df.head(10)"
   ]
  },
  {
   "cell_type": "code",
   "execution_count": 224,
   "metadata": {},
   "outputs": [
    {
     "data": {},
     "metadata": {},
     "output_type": "display_data"
    },
    {
     "data": {
      "application/vnd.holoviews_exec.v0+json": "",
      "text/html": [
       "<div id='2805'>\n",
       "\n",
       "\n",
       "\n",
       "\n",
       "\n",
       "  <div class=\"bk-root\" id=\"c8350643-78d5-48f4-b597-6cc14368800b\" data-root-id=\"2805\"></div>\n",
       "</div>\n",
       "<script type=\"application/javascript\">(function(root) {\n",
       "  function embed_document(root) {\n",
       "    var docs_json = {\"592b870c-4e58-4347-ad6a-2208355e1b94\":{\"roots\":{\"references\":[{\"attributes\":{},\"id\":\"2902\",\"type\":\"UnionRenderers\"},{\"attributes\":{\"overlay\":{\"id\":\"2835\"}},\"id\":\"2833\",\"type\":\"BoxZoomTool\"},{\"attributes\":{},\"id\":\"2834\",\"type\":\"ResetTool\"},{\"attributes\":{\"data_source\":{\"id\":\"2847\"},\"glyph\":{\"id\":\"2850\"},\"hover_glyph\":null,\"muted_glyph\":{\"id\":\"2852\"},\"nonselection_glyph\":{\"id\":\"2851\"},\"selection_glyph\":null,\"view\":{\"id\":\"2854\"}},\"id\":\"2853\",\"type\":\"GlyphRenderer\"},{\"attributes\":{\"end\":1.1,\"reset_end\":1.1,\"reset_start\":-0.1,\"start\":-0.1,\"tags\":[[[\"TotalCoinSupply\",\"TotalCoinSupply\",null]]]},\"id\":\"2808\",\"type\":\"Range1d\"},{\"attributes\":{},\"id\":\"2843\",\"type\":\"BasicTickFormatter\"},{\"attributes\":{\"fill_alpha\":{\"value\":0.2},\"fill_color\":{\"value\":\"#30a2da\"},\"line_alpha\":{\"value\":0.2},\"line_color\":{\"value\":\"#30a2da\"},\"size\":{\"units\":\"screen\",\"value\":5.477225575051661},\"x\":{\"field\":\"TotalCoinsMined\"},\"y\":{\"field\":\"TotalCoinSupply\"}},\"id\":\"2852\",\"type\":\"Scatter\"},{\"attributes\":{\"data\":{\"CoinName\":[\"BitTorrent\"],\"TotalCoinSupply\":{\"__ndarray__\":\"rkfhehSu7z8=\",\"dtype\":\"float64\",\"order\":\"little\",\"shape\":[1]},\"TotalCoinsMined\":{\"__ndarray__\":\"AAAAAAAA8D8=\",\"dtype\":\"float64\",\"order\":\"little\",\"shape\":[1]},\"class\":{\"__ndarray__\":\"AgAAAA==\",\"dtype\":\"int32\",\"order\":\"little\",\"shape\":[1]},\"index\":[\"BTT\"]},\"selected\":{\"id\":\"2885\"},\"selection_policy\":{\"id\":\"2902\"}},\"id\":\"2884\",\"type\":\"ColumnDataSource\"},{\"attributes\":{\"margin\":[5,5,5,5],\"name\":\"HSpacer05467\",\"sizing_mode\":\"stretch_width\"},\"id\":\"3054\",\"type\":\"Spacer\"},{\"attributes\":{\"fill_color\":{\"value\":\"#30a2da\"},\"line_color\":{\"value\":\"#30a2da\"},\"size\":{\"units\":\"screen\",\"value\":5.477225575051661},\"x\":{\"field\":\"TotalCoinsMined\"},\"y\":{\"field\":\"TotalCoinSupply\"}},\"id\":\"2850\",\"type\":\"Scatter\"},{\"attributes\":{},\"id\":\"2845\",\"type\":\"BasicTickFormatter\"},{\"attributes\":{\"below\":[{\"id\":\"2822\"}],\"center\":[{\"id\":\"2825\"},{\"id\":\"2829\"}],\"left\":[{\"id\":\"2826\"}],\"margin\":[5,5,5,5],\"min_border_bottom\":10,\"min_border_left\":10,\"min_border_right\":10,\"min_border_top\":10,\"plot_height\":300,\"plot_width\":700,\"renderers\":[{\"id\":\"2853\"},{\"id\":\"2871\"},{\"id\":\"2890\"},{\"id\":\"2911\"}],\"right\":[{\"id\":\"2863\"}],\"sizing_mode\":\"fixed\",\"title\":{\"id\":\"2814\"},\"toolbar\":{\"id\":\"2836\"},\"x_range\":{\"id\":\"2807\"},\"x_scale\":{\"id\":\"2818\"},\"y_range\":{\"id\":\"2808\"},\"y_scale\":{\"id\":\"2820\"}},\"id\":\"2813\",\"subtype\":\"Figure\",\"type\":\"Plot\"},{\"attributes\":{\"source\":{\"id\":\"2847\"}},\"id\":\"2854\",\"type\":\"CDSView\"},{\"attributes\":{\"fill_alpha\":{\"value\":0.1},\"fill_color\":{\"value\":\"#6d904f\"},\"line_alpha\":{\"value\":0.1},\"line_color\":{\"value\":\"#6d904f\"},\"size\":{\"units\":\"screen\",\"value\":5.477225575051661},\"x\":{\"field\":\"TotalCoinsMined\"},\"y\":{\"field\":\"TotalCoinSupply\"}},\"id\":\"2909\",\"type\":\"Scatter\"},{\"attributes\":{\"end\":1.042857142857143,\"reset_end\":1.042857142857143,\"reset_start\":-0.04285714285714286,\"start\":-0.04285714285714286,\"tags\":[[[\"TotalCoinsMined\",\"TotalCoinsMined\",null]]]},\"id\":\"2807\",\"type\":\"Range1d\"},{\"attributes\":{},\"id\":\"2861\",\"type\":\"UnionRenderers\"},{\"attributes\":{},\"id\":\"2881\",\"type\":\"UnionRenderers\"},{\"attributes\":{\"click_policy\":\"mute\",\"items\":[{\"id\":\"2864\"},{\"id\":\"2883\"},{\"id\":\"2904\"},{\"id\":\"2927\"}],\"location\":[0,0],\"title\":\"class\"},\"id\":\"2863\",\"type\":\"Legend\"},{\"attributes\":{\"text\":\"\",\"text_color\":{\"value\":\"black\"},\"text_font_size\":{\"value\":\"12pt\"}},\"id\":\"2814\",\"type\":\"Title\"},{\"attributes\":{\"data\":{\"CoinName\":[\"Bitcoin\",\"Ethereum\",\"Litecoin\",\"Monero\",\"Ethereum Classic\",\"ZCash\",\"DigiByte\",\"ProsperCoin\",\"Spreadcoin\",\"Argentum\",\"MyriadCoin\",\"MoonCoin\",\"ZetaCoin\",\"SexCoin\",\"Quatloo\",\"QuarkCoin\",\"Riecoin\",\"Digitalcoin \",\"Catcoin\",\"CannaCoin\",\"CryptCoin\",\"Verge\",\"DevCoin\",\"EarthCoin\",\"E-Gulden\",\"Einsteinium\",\"Emerald\",\"Franko\",\"FeatherCoin\",\"GrandCoin\",\"GlobalCoin\",\"GoldCoin\",\"Infinite Coin\",\"IXcoin\",\"KrugerCoin\",\"LuckyCoin\",\"Litebar \",\"MegaCoin\",\"MediterraneanCoin\",\"MinCoin\",\"NobleCoin\",\"Namecoin\",\"NyanCoin\",\"RonPaulCoin\",\"StableCoin\",\"SmartCoin\",\"SysCoin\",\"TigerCoin\",\"TerraCoin\",\"UnbreakableCoin\",\"Unobtanium\",\"UroCoin\",\"ViaCoin\",\"Vertcoin\",\"WorldCoin\",\"JouleCoin\",\"ByteCoin\",\"DigitalNote \",\"MonaCoin\",\"Gulden\",\"PesetaCoin\",\"Wild Beast Coin\",\"Flo\",\"ArtByte\",\"Folding Coin\",\"Unitus\",\"CypherPunkCoin\",\"OmniCron\",\"GreenCoin\",\"Cryptonite\",\"MasterCoin\",\"SoonCoin\",\"1Credit\",\"MarsCoin \",\"Crypto\",\"Anarchists Prime\",\"BowsCoin\",\"Song Coin\",\"BitZeny\",\"Expanse\",\"Siacoin\",\"MindCoin\",\"I0coin\",\"Revolution VR\",\"HOdlcoin\",\"Gamecredits\",\"CarpeDiemCoin\",\"Adzcoin\",\"SoilCoin\",\"YoCoin\",\"SibCoin\",\"Francs\",\"BolivarCoin\",\"Omni\",\"PizzaCoin\",\"Komodo\",\"Karbo\",\"ZayedCoin\",\"Circuits of Value\",\"DopeCoin\",\"DollarCoin\",\"Shilling\",\"ZCoin\",\"Elementrem\",\"ZClassic\",\"KiloCoin\",\"ArtexCoin\",\"Kurrent\",\"Cannabis Industry Coin\",\"OsmiumCoin\",\"Bikercoins\",\"HexxCoin\",\"PacCoin\",\"Citadel\",\"BeaverCoin\",\"VaultCoin\",\"Zero\",\"Canada eCoin\",\"Zoin\",\"DubaiCoin\",\"EB3coin\",\"Coinonat\",\"BenjiRolls\",\"ILCoin\",\"EquiTrader\",\"Quantum Resistant Ledger\",\"Dynamic\",\"Nano\",\"ChanCoin\",\"Dinastycoin\",\"DigitalPrice\",\"Unify\",\"SocialCoin\",\"ArcticCoin\",\"DAS\",\"LeviarCoin\",\"Bitcore\",\"gCn Coin\",\"SmartCash\",\"Onix\",\"Bitcoin Cash\",\"Sojourn Coin\",\"NewYorkCoin\",\"FrazCoin\",\"Kronecoin\",\"AdCoin\",\"Linx\",\"Sumokoin\",\"BitcoinZ\",\"Elements\",\"VIVO Coin\",\"Bitcoin Gold\",\"Pirl\",\"eBoost\",\"Pura\",\"Innova\",\"Ellaism\",\"GoByte\",\"SHIELD\",\"UltraNote\",\"BitCoal\",\"DaxxCoin\",\"AC3\",\"Lethean\",\"PopularCoin\",\"Photon\",\"Sucre\",\"SparksPay\",\"GunCoin\",\"IrishCoin\",\"Pioneer Coin\",\"UnitedBitcoin\",\"Interzone\",\"1717 Masonic Commemorative Token\",\"TurtleCoin\",\"MUNcoin\",\"Niobio Cash\",\"ShareChain\",\"Travelflex\",\"KREDS\",\"BitFlip\",\"LottoCoin\",\"Crypto Improvement Fund\",\"Callisto Network\",\"BitTube\",\"Poseidon\",\"Aidos Kuneen\",\"Bitrolium\",\"Alpenschillling\",\"FuturoCoin\",\"Monero Classic\",\"Jumpcoin\",\"Infinex\",\"KEYCO\",\"GINcoin\",\"PlatinCoin\",\"Loki\",\"Newton Coin\",\"MassGrid\",\"PluraCoin\",\"Motion\",\"PlusOneCoin\",\"Axe\",\"HexCoin\",\"Webchain\",\"Ryo\",\"Urals Coin\",\"Qwertycoin\",\"Project Pai\",\"Azart\",\"Xchange\",\"CrypticCoin\",\"Actinium\",\"Bitcoin SV\",\"FREDEnergy\",\"Universal Molecule\",\"Lithium\",\"Exosis\",\"Block-Logic\",\"Beam\",\"Bithereum\",\"SLICE\",\"BLAST\",\"Bitcoin Rhodium\",\"GlobalToken\",\"SolarCoin\",\"UFO Coin\",\"BlakeCoin\",\"Crypto Escudo\",\"Crown Coin\",\"SmileyCoin\",\"Groestlcoin\",\"Bata\",\"Pakcoin\",\"JoinCoin\",\"Vollar\",\"Reality Clash\",\"Beldex\",\"Horizen\"],\"TotalCoinSupply\":{\"__ndarray__\":\"ycfuAiUF9j4AAAAAAAAAAMnH7gIlBRY/AAAAAAAAAAC8eapDboYrP8nH7gIlBfY+Gy/dJAaBlT/Jx+4CJQX2PvBo44i1+PQ+je21oPfGED/8qfHSTWJgP/p+arx0k9g/ib6z/mRBJj/8qfHSTWIwPyxDHOviNho/M4gP7PgvMD/Jx+4CJQUWP7L2gSi7QAk/ycfuAiUF9j7wSz/Ze47rPj+rzJTW3/I+pFNXPsvzkD8bL90kBoGVP9nO91PjpYs/ycfuAiUF9j6QlH3NrqUzP43ttaD3xgA/VwJQYS6Q5z7Jx+4CJQU2P2DlR/V3Rlc/0vvG155ZEj+5x9OsU/ASP2+BBMWPMbc/ycfuAiUF9j4QhtqnBWUxP/Bo44i1+PQ+5TOPsjSmtj7Jx+4CJQUGPyxDHOviNio/8GjjiLX45D64HoXrUbiOP8nH7gIlBfY+t32P+usVNj/Jx+4CJQX2Pvyp8dJNYjA/SK+8mvLXCj8BiLt6FRlNP3lgr+vWpQg/ycfuAiUFBj/waOOItfgUP43ttaD3xpA+AAAAAAAAAAB7hQX3Ax74PsnH7gIlBRY/EIbapwVlMT8O1v85zJcHPzgbkQyhnMc/exSuR+F6hD/wSz/Ze44bP7x5qkNuhls/W/Vl2/zOJT9a1mVHlgvGPvBo44i1+CQ//Knx0k1iUD/8qfHSTWJQPwAAAAAAAAAAAAAAAAAAAADehccd5EfMPnsUrkfheoQ/2ubG9IQlXj/k2j6HRsmkPsnH7gIlBfY+WmQ730+Ntz/6nLtdL00BP5RCuSEIPxE/DLjfiIsvDD/Jx+4CJQX2PvBLP9l7jis//Knx0k1iMD+vYF3BRrrxPgAAAAAAAAAAje21oPfG8D7Jx+4CJQX2Prx5qkNuhis/NqDyJ2J8FT/Jx+4CJQUWP4EoVhUzJZY/ycfuAiUFFj9pHVVNEHX/PtZqzafuECY/VOQQcXMq+T7waOOItfj0PixDHOviNvo+NvzifD+vpD4sQxzr4jb6PixDHOviNio/8GjjiLX45D6GKKim+WrkPmEyVTAqqVM/LEMc6+I2Kj8FUDmLZE/mPmkdVU0Qdf8+hrpZzYRw9j5ocXvtfnr7PsnH7gIlBfY+exSuR+F6hD/8qfHSTWJAPyMPRBZp4i0/ycfuAiUF9j5nalGC4sTGPixDHOviNvo+7jW0ZbX45D6ZmZmZmZm5P1bxRuaRPyg/DLjfiIsvzD78qfHSTWJQP2ZMwRpn0/E+LEMc6+I2Gj/Jx+4CJQX2PhFxfE4eu8I+/Knx0k1icD/K8IEYRkwJP4YGlqZ3nwI/exSuR+F6ZD8/q8yU1t8SP7x5qkNuhhs/AAAAAAAAAAA1Xz6j/Uw2P2kdVU0Qdf8+/Knx0k1iYD8sQxzr4jYaP0Tl8JuTNvQ+YTJVMCqpEz9pHVVNEHUPP2hNPRxu0fM+3gAz38FPDD/Jx+4CJQX2PpmZmZmZmck/exSuR+F6dD8vbqMBvAVSP8nH7gIlBfY+Gy/dJAaBhT8AAAAAAAAAAPBo44i1+PQ+ycfuAiUFFj8sQxzr4jYaPyxDHOviNho/YIu+dztNFz8bL90kBoGVP5LLf0i/fV0/3gAz38FP/D7Jx+4CJQX2Pi+IOpzIfCQ/LEMc6+I2Gj/HuriNBvA2Pw7W/znMlwc/0vvG155ZMj/eMBuuH6wAPziEKjV7oEU/wvUoXI/CtT8sQxzr4jbqPnsUrkfheoQ/L26jAbwFQj8ytSUbIWBQP+F8nEfhenQ/CtejcD0Ktz+S762jBcP0PsnH7gIlBfY+/Knx0k1iQD+N7bWg98YQP3uFBfcDHvg+rY3F90Ql9T57hQX3Ax74Pn34/RhmJbs+AAAAAAAA8D+pWVZQB2jxPsnH7gIlBTY/exSuR+F6hD8sQxzr4jYaPy9uowG8BVI/8GjjiLX4BD8PRrmBR9mSP/yp8dJNYkA/ObTIdr6fej/8qfHSTWJQP8nH7gIlBfY+LEMc6+I2+j7S+8bXnlkSP2EyVTAqqTM/LEMc6+I2Gj/8nTdfNkvzPsnH7gIlBfY+8Es/2XuO+z4/q8yU1t/yPsnH7gIlBeY+PDcbTSupQz9hMlUwKqkjP1pkO99Pjcc/ycfuAiUFJj/8qfHSTWJQP1/xdY3mJfc+ycfuAiUF9j7Jx+4CJQX2PhC6QRvWLfc+eekmMQisXD8twS+PQR4XP7x5qkNuhis/W+uLhLacxz8VjErqBDRhPyxDHOviNvo+LEMc6+I2Gj/FjzF3LSF/P8nH7gIlBRY/ycfuAiUF9j7OcAM+P4yAP66XlN97jhs/OAFH7010+j7Jx+4CJQX2PmkdVU0QdR8/do/HZw05MT+KexXhcjEAPyxDHOviNho/je21oPfGED8H04s1t53BPsnH7gIlBSY/WtO84xQduT/8qfHSTWJwP3npJjEIrHw//Knx0k1iUD/Jx+4CJQUGP5mZmZmZmak/vHmqQ26GGz/waOOItfjUPsWtghjo2ic/XxllR/R8xz4VjErqBDRhPzZ4sbJurfk++d5KlPXwVj/Jx+4CJQX2Pg==\",\"dtype\":\"float64\",\"order\":\"little\",\"shape\":[239]},\"TotalCoinsMined\":{\"__ndarray__\":\"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\",\"dtype\":\"float64\",\"order\":\"little\",\"shape\":[239]},\"class\":{\"__ndarray__\":\"AQAAAAEAAAABAAAAAQAAAAEAAAABAAAAAQAAAAEAAAABAAAAAQAAAAEAAAABAAAAAQAAAAEAAAABAAAAAQAAAAEAAAABAAAAAQAAAAEAAAABAAAAAQAAAAEAAAABAAAAAQAAAAEAAAABAAAAAQAAAAEAAAABAAAAAQAAAAEAAAABAAAAAQAAAAEAAAABAAAAAQAAAAEAAAABAAAAAQAAAAEAAAABAAAAAQAAAAEAAAABAAAAAQAAAAEAAAABAAAAAQAAAAEAAAABAAAAAQAAAAEAAAABAAAAAQAAAAEAAAABAAAAAQAAAAEAAAABAAAAAQAAAAEAAAABAAAAAQAAAAEAAAABAAAAAQAAAAEAAAABAAAAAQAAAAEAAAABAAAAAQAAAAEAAAABAAAAAQAAAAEAAAABAAAAAQAAAAEAAAABAAAAAQAAAAEAAAABAAAAAQAAAAEAAAABAAAAAQAAAAEAAAABAAAAAQAAAAEAAAABAAAAAQAAAAEAAAABAAAAAQAAAAEAAAABAAAAAQAAAAEAAAABAAAAAQAAAAEAAAABAAAAAQAAAAEAAAABAAAAAQAAAAEAAAABAAAAAQAAAAEAAAABAAAAAQAAAAEAAAABAAAAAQAAAAEAAAABAAAAAQAAAAEAAAABAAAAAQAAAAEAAAABAAAAAQAAAAEAAAABAAAAAQAAAAEAAAABAAAAAQAAAAEAAAABAAAAAQAAAAEAAAABAAAAAQAAAAEAAAABAAAAAQAAAAEAAAABAAAAAQAAAAEAAAABAAAAAQAAAAEAAAABAAAAAQAAAAEAAAABAAAAAQAAAAEAAAABAAAAAQAAAAEAAAABAAAAAQAAAAEAAAABAAAAAQAAAAEAAAABAAAAAQAAAAEAAAABAAAAAQAAAAEAAAABAAAAAQAAAAEAAAABAAAAAQAAAAEAAAABAAAAAQAAAAEAAAABAAAAAQAAAAEAAAABAAAAAQAAAAEAAAABAAAAAQAAAAEAAAABAAAAAQAAAAEAAAABAAAAAQAAAAEAAAABAAAAAQAAAAEAAAABAAAAAQAAAAEAAAABAAAAAQAAAAEAAAABAAAAAQAAAAEAAAABAAAAAQAAAAEAAAABAAAAAQAAAAEAAAABAAAAAQAAAAEAAAABAAAAAQAAAAEAAAABAAAAAQAAAAEAAAABAAAAAQAAAAEAAAABAAAAAQAAAAEAAAABAAAAAQAAAAEAAAABAAAAAQAAAAEAAAABAAAAAQAAAAEAAAABAAAAAQAAAAEAAAA=\",\"dtype\":\"int32\",\"order\":\"little\",\"shape\":[239]},\"index\":[\"BTC\",\"ETH\",\"LTC\",\"XMR\",\"ETC\",\"ZEC\",\"DGB\",\"PRC\",\"SPR\",\"ARG\",\"XMY\",\"MOON\",\"ZET\",\"SXC\",\"QTL\",\"QRK\",\"RIC\",\"DGC\",\"CAT\",\"CCN\",\"CRYPT\",\"XVG\",\"DVC\",\"EAC\",\"EFL\",\"EMC2\",\"EMD\",\"FRK\",\"FTC\",\"GDC\",\"GLC\",\"GLD\",\"IFC\",\"IXC\",\"KGC\",\"LKY\",\"LTB\",\"MEC\",\"MED\",\"MINC\",\"NOBL\",\"NMC\",\"NYAN\",\"RPC\",\"SBC\",\"SMC\",\"SYS\",\"TGC\",\"TRC\",\"UNB\",\"UNO\",\"URO\",\"VIA\",\"VTC\",\"WDC\",\"XJO\",\"BCN\",\"XDN\",\"MONA\",\"NLG\",\"PTC\",\"WBB\",\"FLO\",\"ABY\",\"FLDC\",\"UIS\",\"CYP\",\"OMC\",\"GRE\",\"XCN\",\"MSC\",\"SOON\",\"1CR\",\"MARS\",\"CTO\",\"ACP\",\"BSC\",\"SONG\",\"ZNY\",\"EXP\",\"SC\",\"MND\",\"I0C\",\"RVR\",\"HODL\",\"GAME\",\"DIEM\",\"ADZ\",\"SOIL\",\"YOC\",\"SIB\",\"FRN\",\"BOLI\",\"OMNI\",\"PIZZA\",\"KMD\",\"KRB\",\"ZYD\",\"COVAL\",\"DOPE\",\"DLC\",\"SH\",\"XZC\",\"ELE\",\"ZCL\",\"KLC\",\"ATX\",\"KURT\",\"XCI\",\"OS76\",\"BIC\",\"HXX\",\"PAC\",\"CTL\",\"BVC\",\"VLTC\",\"ZER\",\"CDN\",\"ZOI\",\"DBIX\",\"EB3\",\"CXT\",\"BENJI\",\"ILC\",\"EQT\",\"QRL\",\"DYN\",\"NANO\",\"CHAN\",\"DCY\",\"DP\",\"UNIFY\",\"SOCC\",\"ARC\",\"DAS\",\"XLC\",\"BTX\",\"GCN\",\"SMART\",\"ONX\",\"BCH\",\"SOJ\",\"NYC\",\"FRAZ\",\"KRONE\",\"ACC\",\"LINX\",\"SUMO\",\"BTCZ\",\"ELM\",\"VIVO\",\"BTG\",\"PIRL\",\"EBST\",\"PURA\",\"INN\",\"ELLA\",\"GBX\",\"XSH\",\"XUN\",\"COAL\",\"DAXX\",\"AC3\",\"LTHN\",\"POP\",\"PHO\",\"SUCR\",\"SPK\",\"GUN\",\"IRL\",\"PCOIN\",\"UBTC\",\"ITZ\",\"MCT\",\"TRTL\",\"MUN\",\"NBR\",\"SSS\",\"TRF\",\"KREDS\",\"FLIP\",\"LOT\",\"CIF\",\"CLO\",\"TUBE\",\"PSD\",\"ADK\",\"BTL\",\"ALPS\",\"FTO\",\"XMC\",\"JUMP\",\"INFX\",\"KEC\",\"GIN\",\"PLTC\",\"LOKI\",\"NCP\",\"MGD\",\"PLURA\",\"XMN\",\"PLUS1\",\"AXE\",\"HEX\",\"WEBC\",\"RYO\",\"URALS\",\"QWC\",\"PPAI\",\"AZART\",\"XCG\",\"CRYP\",\"ACM\",\"BSV\",\"FRED\",\"UMO\",\"LIT\",\"EXO\",\"BLTG\",\"BEAM\",\"BTH\",\"SLC\",\"BLAST\",\"XRC\",\"GLT\",\"SLR\",\"UFO\",\"BLC\",\"CESC\",\"CRW\",\"SMLY\",\"GRS\",\"BTA\",\"PAK\",\"J\",\"VOLLAR\",\"RCC\",\"BDX\",\"ZEN\"]},\"selected\":{\"id\":\"2866\"},\"selection_policy\":{\"id\":\"2881\"}},\"id\":\"2865\",\"type\":\"ColumnDataSource\"},{\"attributes\":{\"source\":{\"id\":\"2905\"}},\"id\":\"2912\",\"type\":\"CDSView\"},{\"attributes\":{\"data_source\":{\"id\":\"2905\"},\"glyph\":{\"id\":\"2908\"},\"hover_glyph\":null,\"muted_glyph\":{\"id\":\"2910\"},\"nonselection_glyph\":{\"id\":\"2909\"},\"selection_glyph\":null,\"view\":{\"id\":\"2912\"}},\"id\":\"2911\",\"type\":\"GlyphRenderer\"},{\"attributes\":{},\"id\":\"2848\",\"type\":\"Selection\"},{\"attributes\":{\"fill_alpha\":{\"value\":0.1},\"fill_color\":{\"value\":\"#30a2da\"},\"line_alpha\":{\"value\":0.1},\"line_color\":{\"value\":\"#30a2da\"},\"size\":{\"units\":\"screen\",\"value\":5.477225575051661},\"x\":{\"field\":\"TotalCoinsMined\"},\"y\":{\"field\":\"TotalCoinSupply\"}},\"id\":\"2851\",\"type\":\"Scatter\"},{\"attributes\":{},\"id\":\"2827\",\"type\":\"BasicTicker\"},{\"attributes\":{\"bottom_units\":\"screen\",\"fill_alpha\":0.5,\"fill_color\":\"lightgrey\",\"left_units\":\"screen\",\"level\":\"overlay\",\"line_alpha\":1.0,\"line_color\":\"black\",\"line_dash\":[4,4],\"line_width\":2,\"right_units\":\"screen\",\"top_units\":\"screen\"},\"id\":\"2835\",\"type\":\"BoxAnnotation\"},{\"attributes\":{},\"id\":\"2885\",\"type\":\"Selection\"},{\"attributes\":{\"fill_alpha\":{\"value\":0.2},\"fill_color\":{\"value\":\"#6d904f\"},\"line_alpha\":{\"value\":0.2},\"line_color\":{\"value\":\"#6d904f\"},\"size\":{\"units\":\"screen\",\"value\":5.477225575051661},\"x\":{\"field\":\"TotalCoinsMined\"},\"y\":{\"field\":\"TotalCoinSupply\"}},\"id\":\"2910\",\"type\":\"Scatter\"},{\"attributes\":{\"callback\":null,\"renderers\":[{\"id\":\"2853\"},{\"id\":\"2871\"},{\"id\":\"2890\"},{\"id\":\"2911\"}],\"tags\":[\"hv_created\"],\"tooltips\":[[\"class\",\"@{class}\"],[\"TotalCoinsMined\",\"@{TotalCoinsMined}\"],[\"TotalCoinSupply\",\"@{TotalCoinSupply}\"],[\"index\",\"@{index}\"],[\"CoinName\",\"@{CoinName}\"]]},\"id\":\"2809\",\"type\":\"HoverTool\"},{\"attributes\":{},\"id\":\"2823\",\"type\":\"BasicTicker\"},{\"attributes\":{\"source\":{\"id\":\"2884\"}},\"id\":\"2891\",\"type\":\"CDSView\"},{\"attributes\":{\"fill_color\":{\"value\":\"#6d904f\"},\"line_color\":{\"value\":\"#6d904f\"},\"size\":{\"units\":\"screen\",\"value\":5.477225575051661},\"x\":{\"field\":\"TotalCoinsMined\"},\"y\":{\"field\":\"TotalCoinSupply\"}},\"id\":\"2908\",\"type\":\"Scatter\"},{\"attributes\":{\"fill_alpha\":{\"value\":0.2},\"fill_color\":{\"value\":\"#e5ae38\"},\"line_alpha\":{\"value\":0.2},\"line_color\":{\"value\":\"#e5ae38\"},\"size\":{\"units\":\"screen\",\"value\":5.477225575051661},\"x\":{\"field\":\"TotalCoinsMined\"},\"y\":{\"field\":\"TotalCoinSupply\"}},\"id\":\"2889\",\"type\":\"Scatter\"},{\"attributes\":{\"fill_alpha\":{\"value\":0.1},\"fill_color\":{\"value\":\"#fc4f30\"},\"line_alpha\":{\"value\":0.1},\"line_color\":{\"value\":\"#fc4f30\"},\"size\":{\"units\":\"screen\",\"value\":5.477225575051661},\"x\":{\"field\":\"TotalCoinsMined\"},\"y\":{\"field\":\"TotalCoinSupply\"}},\"id\":\"2869\",\"type\":\"Scatter\"},{\"attributes\":{},\"id\":\"2906\",\"type\":\"Selection\"},{\"attributes\":{\"label\":{\"value\":\"0\"},\"renderers\":[{\"id\":\"2853\"}]},\"id\":\"2864\",\"type\":\"LegendItem\"},{\"attributes\":{},\"id\":\"2831\",\"type\":\"PanTool\"},{\"attributes\":{\"margin\":[5,5,5,5],\"name\":\"HSpacer05466\",\"sizing_mode\":\"stretch_width\"},\"id\":\"2806\",\"type\":\"Spacer\"},{\"attributes\":{\"label\":{\"value\":\"3\"},\"renderers\":[{\"id\":\"2911\"}]},\"id\":\"2927\",\"type\":\"LegendItem\"},{\"attributes\":{\"data_source\":{\"id\":\"2865\"},\"glyph\":{\"id\":\"2868\"},\"hover_glyph\":null,\"muted_glyph\":{\"id\":\"2870\"},\"nonselection_glyph\":{\"id\":\"2869\"},\"selection_glyph\":null,\"view\":{\"id\":\"2872\"}},\"id\":\"2871\",\"type\":\"GlyphRenderer\"},{\"attributes\":{\"data\":{\"CoinName\":[\"42 Coin\",\"404Coin\",\"EliteCoin\",\"Dash\",\"Bitshares\",\"BitcoinDark\",\"PayCoin\",\"KoboCoin\",\"Aurora Coin\",\"BlueCoin\",\"EnergyCoin\",\"BitBar\",\"CryptoBullion\",\"CasinoCoin\",\"Diamond\",\"Exclusive Coin\",\"FlutterCoin\",\"HoboNickels\",\"HyperStake\",\"IOCoin\",\"MaxCoin\",\"MintCoin\",\"MazaCoin\",\"Nautilus Coin\",\"NavCoin\",\"OpalCoin\",\"Orbitcoin\",\"PotCoin\",\"PhoenixCoin\",\"Reddcoin\",\"SuperCoin\",\"SyncCoin\",\"TeslaCoin\",\"TittieCoin\",\"TorCoin\",\"UnitaryStatus Dollar\",\"UltraCoin\",\"VeriCoin\",\"X11 Coin\",\"Crypti\",\"StealthCoin\",\"ZCC Coin\",\"BurstCoin\",\"StorjCoin\",\"Neutron\",\"FairCoin\",\"RubyCoin\",\"Kore\",\"Dnotes\",\"8BIT Coin\",\"Sativa Coin\",\"Ucoin\",\"Vtorrent\",\"IslaCoin\",\"Nexus\",\"Droidz\",\"Squall Coin\",\"Diggits\",\"Paycon\",\"Emercoin\",\"EverGreenCoin\",\"Decred\",\"EDRCoin\",\"Hitcoin\",\"DubaiCoin\",\"PWR Coin\",\"BillaryCoin\",\"GPU Coin\",\"EuropeCoin\",\"ZeitCoin\",\"SwingCoin\",\"SafeExchangeCoin\",\"Nebuchadnezzar\",\"Ratecoin\",\"Revenu\",\"Clockcoin\",\"VIP Tokens\",\"BitSend\",\"Let it Ride\",\"PutinCoin\",\"iBankCoin\",\"Frankywillcoin\",\"MudraCoin\",\"Lutetium Coin\",\"GoldBlocks\",\"CarterCoin\",\"BitTokens\",\"MustangCoin\",\"ZoneCoin\",\"RootCoin\",\"BitCurrency\",\"Swiscoin\",\"BuzzCoin\",\"Opair\",\"PesoBit\",\"Halloween Coin\",\"CoffeeCoin\",\"RoyalCoin\",\"GanjaCoin V2\",\"TeamUP\",\"LanaCoin\",\"ARK\",\"InsaneCoin\",\"EmberCoin\",\"XenixCoin\",\"FreeCoin\",\"PLNCoin\",\"AquariusCoin\",\"Creatio\",\"Eternity\",\"Eurocoin\",\"BitcoinFast\",\"Stakenet\",\"BitConnect Coin\",\"MoneyCoin\",\"Enigma\",\"Russiacoin\",\"PandaCoin\",\"GameUnits\",\"GAKHcoin\",\"Allsafe\",\"LiteCreed\",\"Klingon Empire Darsek\",\"Internet of People\",\"KushCoin\",\"Printerium\",\"Impeach\",\"Zilbercoin\",\"FirstCoin\",\"FindCoin\",\"OpenChat\",\"RenosCoin\",\"VirtacoinPlus\",\"TajCoin\",\"Impact\",\"Atmos\",\"HappyCoin\",\"MacronCoin\",\"Condensate\",\"Independent Money System\",\"ArgusCoin\",\"LomoCoin\",\"ProCurrency\",\"GoldReserve\",\"GrowthCoin\",\"Phreak\",\"Degas Coin\",\"HTML5 Coin\",\"Ultimate Secure Cash\",\"QTUM\",\"Espers\",\"Denarius\",\"Virta Unique Coin\",\"Bitcoin Planet\",\"BritCoin\",\"Linda\",\"DeepOnion\",\"Signatum\",\"Cream\",\"Monoeci\",\"Draftcoin\",\"Stakecoin\",\"CoinonatX\",\"Ethereum Dark\",\"Obsidian\",\"Cardano\",\"Regalcoin\",\"TrezarCoin\",\"TerraNovaCoin\",\"Rupee\",\"WomenCoin\",\"Theresa May Coin\",\"NamoCoin\",\"LUXCoin\",\"Xios\",\"Bitcloud 2.0\",\"KekCoin\",\"BlackholeCoin\",\"Infinity Economics\",\"Magnet\",\"Lamden Tau\",\"Electra\",\"Bitcoin Diamond\",\"Cash & Back Coin\",\"Bulwark\",\"Kalkulus\",\"GermanCoin\",\"LiteCoin Ultra\",\"PhantomX\",\"Digiwage\",\"Trollcoin\",\"Litecoin Plus\",\"Monkey Project\",\"TokenPay\",\"My Big Coin\",\"Unified Society USDEX\",\"Tokyo Coin\",\"LitecoinCash\",\"Stipend\",\"Pushi\",\"Ellerium\",\"Velox\",\"Ontology\",\"Bitspace\",\"Briacoin\",\"Ignition\",\"MedicCoin\",\"Bitcoin Green\",\"Deviant Coin\",\"Abjcoin\",\"Semux\",\"Carebit\",\"Zealium\",\"Proton\",\"iDealCash\",\"Bitcoin Incognito\",\"HollyWoodCoin\",\"Swisscoin\",\"Xt3ch\",\"TheVig\",\"EmaratCoin\",\"Dekado\",\"Lynx\",\"Poseidon Quark\",\"BitcoinWSpectrum\",\"Muse\",\"Trivechain\",\"Dystem\",\"Giant\",\"Peony Coin\",\"Absolute Coin\",\"Vitae\",\"TPCash\",\"ARENON\",\"EUNO\",\"MMOCoin\",\"Ketan\",\"XDNA\",\"PAXEX\",\"ThunderStake\",\"Kcash\",\"Bettex coin\",\"BitMoney\",\"Junson Ming Chan Coin\",\"HerbCoin\",\"PirateCash\",\"Oduwa\",\"Galilel\",\"Crypto Sports\",\"Credit\",\"Dash Platinum\",\"Nasdacoin\",\"Beetle Coin\",\"Titan Coin\",\"Award\",\"Insane Coin\",\"ALAX\",\"LiteDoge\",\"TruckCoin\",\"OrangeCoin\",\"BitstarCoin\",\"NeosCoin\",\"HyperCoin\",\"PinkCoin\",\"AudioCoin\",\"IncaKoin\",\"Piggy Coin\",\"Genstake\",\"XiaoMiCoin\",\"CapriCoin\",\" ClubCoin\",\"Radium\",\"Creditbit \",\"OKCash\",\"Lisk\",\"HiCoin\",\"WhiteCoin\",\"FriendshipCoin\",\"Triangles Coin\",\"EOS\",\"Oxycoin\",\"TigerCash\",\"Particl\",\"Nxt\",\"ZEPHYR\",\"Gapcoin\",\"BitcoinPlus\"],\"TotalCoinSupply\":{\"__ndarray__\":\"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\",\"dtype\":\"float64\",\"order\":\"little\",\"shape\":[287]},\"TotalCoinsMined\":{\"__ndarray__\":\"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\",\"dtype\":\"float64\",\"order\":\"little\",\"shape\":[287]},\"class\":{\"__ndarray__\":\"AAAAAAAAAAAAAAAAAAAAAAAAAAAAAAAAAAAAAAAAAAAAAAAAAAAAAAAAAAAAAAAAAAAAAAAAAAAAAAAAAAAAAAAAAAAAAAAAAAAAAAAAAAAAAAAAAAAAAAAAAAAAAAAAAAAAAAAAAAAAAAAAAAAAAAAAAAAAAAAAAAAAAAAAAAAAAAAAAAAAAAAAAAAAAAAAAAAAAAAAAAAAAAAAAAAAAAAAAAAAAAAAAAAAAAAAAAAAAAAAAAAAAAAAAAAAAAAAAAAAAAAAAAAAAAAAAAAAAAAAAAAAAAAAAAAAAAAAAAAAAAAAAAAAAAAAAAAAAAAAAAAAAAAAAAAAAAAAAAAAAAAAAAAAAAAAAAAAAAAAAAAAAAAAAAAAAAAAAAAAAAAAAAAAAAAAAAAAAAAAAAAAAAAAAAAAAAAAAAAAAAAAAAAAAAAAAAAAAAAAAAAAAAAAAAAAAAAAAAAAAAAAAAAAAAAAAAAAAAAAAAAAAAAAAAAAAAAAAAAAAAAAAAAAAAAAAAAAAAAAAAAAAAAAAAAAAAAAAAAAAAAAAAAAAAAAAAAAAAAAAAAAAAAAAAAAAAAAAAAAAAAAAAAAAAAAAAAAAAAAAAAAAAAAAAAAAAAAAAAAAAAAAAAAAAAAAAAAAAAAAAAAAAAAAAAAAAAAAAAAAAAAAAAAAAAAAAAAAAAAAAAAAAAAAAAAAAAAAAAAAAAAAAAAAAAAAAAAAAAAAAAAAAAAAAAAAAAAAAAAAAAAAAAAAAAAAAAAAAAAAAAAAAAAAAAAAAAAAAAAAAAAAAAAAAAAAAAAAAAAAAAAAAAAAAAAAAAAAAAAAAAAAAAAAAAAAAAAAAAAAAAAAAAAAAAAAAAAAAAAAAAAAAAAAAAAAAAAAAAAAAAAAAAAAAAAAAAAAAAAAAAAAAAAAAAAAAAAAAAAAAAAAAAAAAAAAAAAAAAAAAAAAAAAAAAAAAAAAAAAAAAAAAAAAAAAAAAAAAAAAAAAAAAAAAAAAAAAAAAAAAAAAAAAAAAAAAAAAAAAAAAAAAAAAAAAAAAAAAAAAAAAAAAAAAAAAAAAAAAAAAAAAAAAAAAAAAAAAAAAAAAAAAAAAAAAAAAAAAAAAAAAAAAAAAAAAAAAAAAAAAAAAAAAAAAAAAAAAAAAAAAAAAAAAAAAAAAAAAAAAAAAAAAAAAAAAAAAAAAAAAAAAAAAAAAAAAAAAAAAAAAAAAAAAAAAAAAAAAAAAAAAAAAAAAAAAAAAAAAAAAAAAAAAAAAAAAAAAAAAAAAAAAAAAAAAAAAAAAAAAAAAAAAAAAAAAAAAAAAAAAAAAAAAAAAAAAAAAAAAAAAAAAAAAAAAAAAAAAAAAAAAAAAAAAAAAAAAAAAAAAAAAAAAAAAAAAAAAAAAAAAAAAAAAAAAAAAAAAAAAAAAAAAAAAAAAAAAAAAAAAAAAAAAAAAAAAAAAAAAAAAAAAAAAAAAAAAAAAAAAAAAAAAAAAAAAAAAAAAAAAAAAAAAAAAAAAAAAAAAAAAAAAAAAAAAAAAAAAAAAAAAAAAAAAA=\",\"dtype\":\"int32\",\"order\":\"little\",\"shape\":[287]},\"index\":[\"42\",\"404\",\"1337\",\"DASH\",\"BTS\",\"BTCD\",\"XPY\",\"KOBO\",\"AUR\",\"BLU\",\"ENRG\",\"BTB\",\"CBX\",\"CSC\",\"DMD\",\"EXCL\",\"FLT\",\"HBN\",\"HYP\",\"IOC\",\"MAX\",\"MINT\",\"MZC\",\"NAUT\",\"NAV\",\"OPAL\",\"ORB\",\"POT\",\"PXC\",\"RDD\",\"SUPER\",\"SYNC\",\"TES\",\"TIT\",\"TOR\",\"USDE\",\"UTC\",\"VRC\",\"XC\",\"XCR\",\"XST\",\"ZCC\",\"BURST\",\"SJCX\",\"NTRN\",\"FAIR\",\"RBY\",\"KORE\",\"NOTE\",\"8BIT\",\"STV\",\"U\",\"VTR\",\"ISL\",\"NXS\",\"DRZ\",\"SQL\",\"DIGS\",\"CON\",\"EMC\",\"EGC\",\"DCR\",\"EDRC\",\"HTC\",\"DBIC\",\"PWR\",\"BLRY\",\"GPU\",\"ERC\",\"ZEIT\",\"SWING\",\"SAFEX\",\"NEBU\",\"XRA\",\"REV\",\"CKC\",\"VIP\",\"BSD\",\"LIR\",\"PUT\",\"IBANK\",\"FRWC\",\"MUDRA\",\"LC\",\"GB\",\"CTC\",\"BXT\",\"MST\",\"ZNE\",\"ROOT\",\"BTCR\",\"SCN\",\"BUZZ\",\"XPO\",\"PSB\",\"HALLO\",\"CFC\",\"ROYAL\",\"GNJ\",\"TEAM\",\"LANA\",\"ARK\",\"INSANE\",\"EMB\",\"XEN\",\"FRE\",\"PLNC\",\"ARCO\",\"XCRE\",\"ENT\",\"EUC\",\"BCF\",\"XSN\",\"BCCOIN\",\"MONEY\",\"XNG\",\"RC\",\"PND\",\"UNITS\",\"GAKH\",\"ASAFE2\",\"LTCR\",\"KED\",\"IOP\",\"KUSH\",\"PRX\",\"IMPCH\",\"ZBC\",\"FRST\",\"FIND\",\"CHAT\",\"RNS\",\"XVP\",\"TAJ\",\"IMX\",\"ATMOS\",\"HPC\",\"MCRN\",\"RAIN\",\"IMS\",\"ARGUS\",\"LMC\",\"PROC\",\"XGR\",\"GRW\",\"PHR\",\"DEA\",\"HTML5\",\"USC\",\"QTUM\",\"ESP\",\"DNR\",\"VUC\",\"BTPL\",\"BRIT\",\"LINDA\",\"ONION\",\"SIGT\",\"CRM\",\"XMCC\",\"DFT\",\"STCN\",\"XCXT\",\"ETHD\",\"ODN\",\"ADA\",\"REC\",\"TZC\",\"TER\",\"RUP\",\"WOMEN\",\"MAY\",\"NAMO\",\"LUX\",\"XIOS\",\"BTDX\",\"KEK\",\"BLHC\",\"XIN\",\"MAG\",\"TAU\",\"ECA\",\"BCD\",\"CNBC\",\"BWK\",\"KLKS\",\"GER\",\"LTCU\",\"PNX\",\"WAGE\",\"TROLL\",\"LCP\",\"MONK\",\"TPAY\",\"MBC\",\"USX\",\"TOKC\",\"LCC\",\"SPD\",\"PUSHI\",\"ELP\",\"VLX\",\"ONT\",\"BSX\",\"BRIA\",\"IC\",\"MEDIC\",\"BITG\",\"DEV\",\"ABJ\",\"SEM\",\"CARE\",\"NZL\",\"PROTON\",\"DEAL\",\"XBI\",\"HWC\",\"SIC\",\"XT3\",\"VIG\",\"EMAR\",\"DKD\",\"LYNX\",\"POSQ\",\"BWS\",\"MUSE\",\"TRVC\",\"DTEM\",\"GIC\",\"PNY\",\"ABS\",\"VITAE\",\"TPC\",\"ARE\",\"EUNO\",\"MMO\",\"KETAN\",\"XDNA\",\"PAXEX\",\"TSC\",\"KCASH\",\"BTXC\",\"BITM\",\"JMC\",\"HERB\",\"PIRATE\",\"OWC\",\"GALI\",\"CSPN\",\"CREDIT\",\"DASHP\",\"NSD\",\"BEET\",\"TTN\",\"AWR\",\"INSN\",\"ALX\",\"LDOGE\",\"TRK\",\"OC\",\"BITS\",\"NEOS\",\"HYPER\",\"PINK\",\"ADC\",\"NKA\",\"PIGGY\",\"GEN\",\"MI\",\"CPC\",\"CLUB\",\"RADS\",\"CRB\",\"OK\",\"LSK\",\"XHI\",\"XWC\",\"FSC\",\"TRI\",\"EOS\",\"OXY\",\"TCH\",\"PART\",\"NXT\",\"ZEPH\",\"GAP\",\"XBC\"]},\"selected\":{\"id\":\"2848\"},\"selection_policy\":{\"id\":\"2861\"}},\"id\":\"2847\",\"type\":\"ColumnDataSource\"},{\"attributes\":{\"source\":{\"id\":\"2865\"}},\"id\":\"2872\",\"type\":\"CDSView\"},{\"attributes\":{},\"id\":\"2818\",\"type\":\"LinearScale\"},{\"attributes\":{\"axis\":{\"id\":\"2822\"},\"grid_line_color\":null,\"ticker\":null},\"id\":\"2825\",\"type\":\"Grid\"},{\"attributes\":{\"fill_alpha\":{\"value\":0.2},\"fill_color\":{\"value\":\"#fc4f30\"},\"line_alpha\":{\"value\":0.2},\"line_color\":{\"value\":\"#fc4f30\"},\"size\":{\"units\":\"screen\",\"value\":5.477225575051661},\"x\":{\"field\":\"TotalCoinsMined\"},\"y\":{\"field\":\"TotalCoinSupply\"}},\"id\":\"2870\",\"type\":\"Scatter\"},{\"attributes\":{\"data_source\":{\"id\":\"2884\"},\"glyph\":{\"id\":\"2887\"},\"hover_glyph\":null,\"muted_glyph\":{\"id\":\"2889\"},\"nonselection_glyph\":{\"id\":\"2888\"},\"selection_glyph\":null,\"view\":{\"id\":\"2891\"}},\"id\":\"2890\",\"type\":\"GlyphRenderer\"},{\"attributes\":{\"fill_color\":{\"value\":\"#e5ae38\"},\"line_color\":{\"value\":\"#e5ae38\"},\"size\":{\"units\":\"screen\",\"value\":5.477225575051661},\"x\":{\"field\":\"TotalCoinsMined\"},\"y\":{\"field\":\"TotalCoinSupply\"}},\"id\":\"2887\",\"type\":\"Scatter\"},{\"attributes\":{},\"id\":\"2832\",\"type\":\"WheelZoomTool\"},{\"attributes\":{\"fill_alpha\":{\"value\":0.1},\"fill_color\":{\"value\":\"#e5ae38\"},\"line_alpha\":{\"value\":0.1},\"line_color\":{\"value\":\"#e5ae38\"},\"size\":{\"units\":\"screen\",\"value\":5.477225575051661},\"x\":{\"field\":\"TotalCoinsMined\"},\"y\":{\"field\":\"TotalCoinSupply\"}},\"id\":\"2888\",\"type\":\"Scatter\"},{\"attributes\":{},\"id\":\"2925\",\"type\":\"UnionRenderers\"},{\"attributes\":{},\"id\":\"2820\",\"type\":\"LinearScale\"},{\"attributes\":{\"label\":{\"value\":\"2\"},\"renderers\":[{\"id\":\"2890\"}]},\"id\":\"2904\",\"type\":\"LegendItem\"},{\"attributes\":{\"fill_color\":{\"value\":\"#fc4f30\"},\"line_color\":{\"value\":\"#fc4f30\"},\"size\":{\"units\":\"screen\",\"value\":5.477225575051661},\"x\":{\"field\":\"TotalCoinsMined\"},\"y\":{\"field\":\"TotalCoinSupply\"}},\"id\":\"2868\",\"type\":\"Scatter\"},{\"attributes\":{\"data\":{\"CoinName\":[\"Vechain\",\"BiblePay\",\"Poa Network\",\"Acute Angle Cloud\",\"Fiii\",\"Waves\"],\"TotalCoinSupply\":{\"__ndarray__\":\"+nQumcwytj+U9gZfmEx1P4RaKOGWizA//Knx0k1iUD97FK5H4Xp0PyxDHOviNho/\",\"dtype\":\"float64\",\"order\":\"little\",\"shape\":[6]},\"TotalCoinsMined\":{\"__ndarray__\":\"XRjsm06Nrz94ezWzw6B/P+HRjF0/Lnk//+KWGddzfD8AAAAAAAAAALkL9DY+wHg/\",\"dtype\":\"float64\",\"order\":\"little\",\"shape\":[6]},\"class\":{\"__ndarray__\":\"AwAAAAMAAAADAAAAAwAAAAMAAAADAAAA\",\"dtype\":\"int32\",\"order\":\"little\",\"shape\":[6]},\"index\":[\"VET\",\"BBP\",\"POA\",\"AAC\",\"FIII\",\"WAVES\"]},\"selected\":{\"id\":\"2906\"},\"selection_policy\":{\"id\":\"2925\"}},\"id\":\"2905\",\"type\":\"ColumnDataSource\"},{\"attributes\":{\"axis_label\":\"TotalCoinSupply\",\"bounds\":\"auto\",\"formatter\":{\"id\":\"2845\"},\"major_label_orientation\":\"horizontal\",\"ticker\":{\"id\":\"2827\"}},\"id\":\"2826\",\"type\":\"LinearAxis\"},{\"attributes\":{},\"id\":\"2866\",\"type\":\"Selection\"},{\"attributes\":{\"children\":[{\"id\":\"2806\"},{\"id\":\"2813\"},{\"id\":\"3054\"}],\"margin\":[0,0,0,0],\"name\":\"Row05462\",\"tags\":[\"embedded\"]},\"id\":\"2805\",\"type\":\"Row\"},{\"attributes\":{\"axis\":{\"id\":\"2826\"},\"dimension\":1,\"grid_line_color\":null,\"ticker\":null},\"id\":\"2829\",\"type\":\"Grid\"},{\"attributes\":{\"label\":{\"value\":\"1\"},\"renderers\":[{\"id\":\"2871\"}]},\"id\":\"2883\",\"type\":\"LegendItem\"},{\"attributes\":{\"axis_label\":\"TotalCoinsMined\",\"bounds\":\"auto\",\"formatter\":{\"id\":\"2843\"},\"major_label_orientation\":\"horizontal\",\"ticker\":{\"id\":\"2823\"}},\"id\":\"2822\",\"type\":\"LinearAxis\"},{\"attributes\":{\"active_drag\":\"auto\",\"active_inspect\":\"auto\",\"active_multi\":null,\"active_scroll\":\"auto\",\"active_tap\":\"auto\",\"tools\":[{\"id\":\"2809\"},{\"id\":\"2830\"},{\"id\":\"2831\"},{\"id\":\"2832\"},{\"id\":\"2833\"},{\"id\":\"2834\"}]},\"id\":\"2836\",\"type\":\"Toolbar\"},{\"attributes\":{},\"id\":\"2830\",\"type\":\"SaveTool\"}],\"root_ids\":[\"2805\"]},\"title\":\"Bokeh Application\",\"version\":\"2.2.3\"}};\n",
       "    var render_items = [{\"docid\":\"592b870c-4e58-4347-ad6a-2208355e1b94\",\"root_ids\":[\"2805\"],\"roots\":{\"2805\":\"c8350643-78d5-48f4-b597-6cc14368800b\"}}];\n",
       "    root.Bokeh.embed.embed_items_notebook(docs_json, render_items);\n",
       "  }\n",
       "  if (root.Bokeh !== undefined && root.Bokeh.Panel !== undefined) {\n",
       "    embed_document(root);\n",
       "  } else {\n",
       "    var attempts = 0;\n",
       "    var timer = setInterval(function(root) {\n",
       "      if (root.Bokeh !== undefined && root.Bokeh.Panel !== undefined) {\n",
       "        clearInterval(timer);\n",
       "        embed_document(root);\n",
       "      } else if (document.readyState == \"complete\") {\n",
       "        attempts++;\n",
       "        if (attempts > 100) {\n",
       "          clearInterval(timer);\n",
       "          console.log(\"Bokeh: ERROR: Unable to run BokehJS code because BokehJS library is missing\");\n",
       "        }\n",
       "      }\n",
       "    }, 10, root)\n",
       "  }\n",
       "})(window);</script>"
      ],
      "text/plain": [
       ":NdOverlay   [class]\n",
       "   :Scatter   [TotalCoinsMined]   (TotalCoinSupply,index,CoinName,class)"
      ]
     },
     "execution_count": 224,
     "metadata": {
      "application/vnd.holoviews_exec.v0+json": {
       "id": "2805"
      }
     },
     "output_type": "execute_result"
    }
   ],
   "source": [
    "# Create a hvplot.scatter plot using x=\"TotalCoinsMined\" and y=\"TotalCoinSupply\".\n",
    "final_df.hvplot.scatter(\n",
    "    x=\"TotalCoinsMined\", \n",
    "    y=\"TotalCoinSupply\",\n",
    "    by=\"class\",\n",
    "    hover_cols = \"all\")\n"
   ]
  },
  {
   "cell_type": "code",
   "execution_count": null,
   "metadata": {},
   "outputs": [],
   "source": []
  }
 ],
 "metadata": {
  "file_extension": ".py",
  "kernelspec": {
   "display_name": "PythonData",
   "language": "python",
   "name": "pythondata"
  },
  "language_info": {
   "codemirror_mode": {
    "name": "ipython",
    "version": 3
   },
   "file_extension": ".py",
   "mimetype": "text/x-python",
   "name": "python",
   "nbconvert_exporter": "python",
   "pygments_lexer": "ipython3",
   "version": "3.8.5"
  },
  "latex_envs": {
   "LaTeX_envs_menu_present": true,
   "autoclose": false,
   "autocomplete": true,
   "bibliofile": "biblio.bib",
   "cite_by": "apalike",
   "current_citInitial": 1,
   "eqLabelWithNumbers": true,
   "eqNumInitial": 1,
   "hotkeys": {
    "equation": "Ctrl-E",
    "itemize": "Ctrl-I"
   },
   "labels_anchors": false,
   "latex_user_defs": false,
   "report_style_numbering": false,
   "user_envs_cfg": false
  },
  "mimetype": "text/x-python",
  "name": "python",
  "npconvert_exporter": "python",
  "pygments_lexer": "ipython3",
  "version": 3
 },
 "nbformat": 4,
 "nbformat_minor": 2
}
